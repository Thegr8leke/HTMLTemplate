{
  "cells": [
    {
      "cell_type": "markdown",
      "metadata": {
        "id": "view-in-github",
        "colab_type": "text"
      },
      "source": [
        "<a href=\"https://colab.research.google.com/github/Thegr8leke/HTMLTemplate/blob/master/Crime_Analysis.ipynb\" target=\"_parent\"><img src=\"https://colab.research.google.com/assets/colab-badge.svg\" alt=\"Open In Colab\"/></a>"
      ]
    },
    {
      "cell_type": "markdown",
      "metadata": {
        "id": "gdYS7Q0l6S78"
      },
      "source": [
        "**Data Analysis: Effect of big data in criminal analysis**\n",
        "\n",
        "1. this report aims to discuss the effects of big data solutions in criminal analysis using historical data provided by the UK government of crimes commited in different financial years.\n",
        "2. the report covers the usage of different big data technologies such as pandas, spark, sparksql,hive, mapreduce, and machine learning models for outlier detection, correlation analysis, and prediction"
      ]
    },
    {
      "cell_type": "markdown",
      "metadata": {
        "id": "bnS_jPoWHs8G"
      },
      "source": [
        "#MY SETUP"
      ]
    },
    {
      "cell_type": "code",
      "execution_count": null,
      "metadata": {
        "colab": {
          "base_uri": "https://localhost:8080/"
        },
        "id": "r7yLvc3h-k5C",
        "outputId": "524a1f81-11dd-4ed0-e406-9561f3696e07"
      },
      "outputs": [
        {
          "name": "stdout",
          "output_type": "stream",
          "text": [
            "Collecting pyspark[sql]\n",
            "  Downloading pyspark-3.5.0.tar.gz (316.9 MB)\n",
            "\u001b[2K     \u001b[90m━━━━━━━━━━━━━━━━━━━━━━━━━━━━━━━━━━━━━━━━\u001b[0m \u001b[32m316.9/316.9 MB\u001b[0m \u001b[31m2.5 MB/s\u001b[0m eta \u001b[36m0:00:00\u001b[0m\n",
            "\u001b[?25h  Preparing metadata (setup.py) ... \u001b[?25l\u001b[?25hdone\n",
            "Requirement already satisfied: py4j==0.10.9.7 in /usr/local/lib/python3.10/dist-packages (from pyspark[sql]) (0.10.9.7)\n",
            "Requirement already satisfied: pandas>=1.0.5 in /usr/local/lib/python3.10/dist-packages (from pyspark[sql]) (1.5.3)\n",
            "Requirement already satisfied: pyarrow>=4.0.0 in /usr/local/lib/python3.10/dist-packages (from pyspark[sql]) (10.0.1)\n",
            "Requirement already satisfied: numpy>=1.15 in /usr/local/lib/python3.10/dist-packages (from pyspark[sql]) (1.23.5)\n",
            "Requirement already satisfied: python-dateutil>=2.8.1 in /usr/local/lib/python3.10/dist-packages (from pandas>=1.0.5->pyspark[sql]) (2.8.2)\n",
            "Requirement already satisfied: pytz>=2020.1 in /usr/local/lib/python3.10/dist-packages (from pandas>=1.0.5->pyspark[sql]) (2023.3.post1)\n",
            "Requirement already satisfied: six>=1.5 in /usr/local/lib/python3.10/dist-packages (from python-dateutil>=2.8.1->pandas>=1.0.5->pyspark[sql]) (1.16.0)\n",
            "Building wheels for collected packages: pyspark\n",
            "  Building wheel for pyspark (setup.py) ... \u001b[?25l\u001b[?25hdone\n",
            "  Created wheel for pyspark: filename=pyspark-3.5.0-py2.py3-none-any.whl size=317425345 sha256=63e6535ed7749ec195b73ddd4985ff1fec874c78f81196a0b4f100f3b1db1527\n",
            "  Stored in directory: /root/.cache/pip/wheels/41/4e/10/c2cf2467f71c678cfc8a6b9ac9241e5e44a01940da8fbb17fc\n",
            "Successfully built pyspark\n",
            "Installing collected packages: pyspark\n",
            "Successfully installed pyspark-3.5.0\n",
            "Collecting odfpy\n",
            "  Downloading odfpy-1.4.1.tar.gz (717 kB)\n",
            "\u001b[2K     \u001b[90m━━━━━━━━━━━━━━━━━━━━━━━━━━━━━━━━━━━━━━━━\u001b[0m \u001b[32m717.0/717.0 kB\u001b[0m \u001b[31m1.9 MB/s\u001b[0m eta \u001b[36m0:00:00\u001b[0m\n",
            "\u001b[?25h  Preparing metadata (setup.py) ... \u001b[?25l\u001b[?25hdone\n",
            "Requirement already satisfied: defusedxml in /usr/local/lib/python3.10/dist-packages (from odfpy) (0.7.1)\n",
            "Building wheels for collected packages: odfpy\n",
            "  Building wheel for odfpy (setup.py) ... \u001b[?25l\u001b[?25hdone\n",
            "  Created wheel for odfpy: filename=odfpy-1.4.1-py2.py3-none-any.whl size=160673 sha256=2e5fc5acab3f29d18a5703801463aaca23a4fe2e9810fb9658ff30bb8376f3be\n",
            "  Stored in directory: /root/.cache/pip/wheels/c8/2e/95/90d94fe33903786937f3b8c33dd88807f792359c6424b40469\n",
            "Successfully built odfpy\n",
            "Installing collected packages: odfpy\n",
            "Successfully installed odfpy-1.4.1\n",
            "Requirement already satisfied: pandas in /usr/local/lib/python3.10/dist-packages (1.5.3)\n",
            "Requirement already satisfied: scikit-learn in /usr/local/lib/python3.10/dist-packages (1.2.2)\n",
            "Requirement already satisfied: python-dateutil>=2.8.1 in /usr/local/lib/python3.10/dist-packages (from pandas) (2.8.2)\n",
            "Requirement already satisfied: pytz>=2020.1 in /usr/local/lib/python3.10/dist-packages (from pandas) (2023.3.post1)\n",
            "Requirement already satisfied: numpy>=1.21.0 in /usr/local/lib/python3.10/dist-packages (from pandas) (1.23.5)\n",
            "Requirement already satisfied: scipy>=1.3.2 in /usr/local/lib/python3.10/dist-packages (from scikit-learn) (1.11.4)\n",
            "Requirement already satisfied: joblib>=1.1.1 in /usr/local/lib/python3.10/dist-packages (from scikit-learn) (1.3.2)\n",
            "Requirement already satisfied: threadpoolctl>=2.0.0 in /usr/local/lib/python3.10/dist-packages (from scikit-learn) (3.2.0)\n",
            "Requirement already satisfied: six>=1.5 in /usr/local/lib/python3.10/dist-packages (from python-dateutil>=2.8.1->pandas) (1.16.0)\n"
          ]
        }
      ],
      "source": [
        "!pip install -q findspark #add a startup file to the current IPython profile so that the environment vaiables will be properly set and pyspark will be imported upon IPython startup.\n",
        "!pip install pyspark[sql] #pandas API on Spark pip install pyspark[pandas_on_spark] plotly\n",
        "!pip install odfpy #Odfpy is a library to read and write OpenDocument v. 1.2 files.\n",
        "!pip install pandas scikit-learn #scikit-learn is a Python module for machine learning built on top of SciPy"
      ]
    },
    {
      "cell_type": "markdown",
      "metadata": {
        "id": "dx8gbkG8dA30"
      },
      "source": [
        "## INSTALL JAVA HADOOP\n",
        "\n",
        "1.   Java 8\n",
        "2.   Apache Spark with hadoop"
      ]
    },
    {
      "cell_type": "code",
      "execution_count": null,
      "metadata": {
        "colab": {
          "background_save": true
        },
        "id": "mGsfsEtm5Vkq"
      },
      "outputs": [],
      "source": [
        "!apt-get install openjdk-8-jdk-headless -qq > /dev/null #installing Java 8 apk\n",
        "!wget -q http://archive.apache.org/dist/spark/spark-3.1.1/spark-3.1.1-bin-hadoop3.2.tgz #install hadoop datacluster\n",
        "!tar xf spark-3.1.1-bin-hadoop3.2.tgz #hadoop data cluster"
      ]
    },
    {
      "cell_type": "markdown",
      "metadata": {
        "id": "zd7r7vkYWwVG"
      },
      "source": [
        "## Install Map Reduce Libraries"
      ]
    },
    {
      "cell_type": "code",
      "execution_count": null,
      "metadata": {
        "colab": {
          "background_save": true,
          "base_uri": "https://localhost:8080/"
        },
        "id": "9yo3yiuyW01L",
        "outputId": "a2e2a555-e69e-4341-e0ba-188aeb52aedb"
      },
      "outputs": [
        {
          "name": "stdout",
          "output_type": "stream",
          "text": [
            "Collecting mrjob\n",
            "  Downloading mrjob-0.7.4-py2.py3-none-any.whl (439 kB)\n",
            "\u001b[?25l     \u001b[90m━━━━━━━━━━━━━━━━━━━━━━━━━━━━━━━━━━━━━━━━\u001b[0m \u001b[32m0.0/439.6 kB\u001b[0m \u001b[31m?\u001b[0m eta \u001b[36m-:--:--\u001b[0m\r\u001b[2K     \u001b[91m━━━━━\u001b[0m\u001b[91m╸\u001b[0m\u001b[90m━━━━━━━━━━━━━━━━━━━━━━━━━━━━━━━━━━\u001b[0m \u001b[32m61.4/439.6 kB\u001b[0m \u001b[31m1.7 MB/s\u001b[0m eta \u001b[36m0:00:01\u001b[0m\r\u001b[2K     \u001b[90m━━━━━━━━━━━━━━━━━━━━━━━━━━━━━━━━━━━━━━━━\u001b[0m \u001b[32m439.6/439.6 kB\u001b[0m \u001b[31m6.7 MB/s\u001b[0m eta \u001b[36m0:00:00\u001b[0m\n",
            "\u001b[?25hRequirement already satisfied: PyYAML>=3.10 in /usr/local/lib/python3.10/dist-packages (from mrjob) (6.0.1)\n",
            "Installing collected packages: mrjob\n",
            "Successfully installed mrjob-0.7.4\n",
            "Requirement already satisfied: pathlib in /usr/local/lib/python3.10/dist-packages (1.0.1)\n",
            "Requirement already satisfied: PyYAML in /usr/local/lib/python3.10/dist-packages (6.0.1)\n"
          ]
        }
      ],
      "source": [
        "!pip install mrjob #install the library for Map Reduce\n",
        "!pip install pathlib\n",
        "!pip install PyYAML"
      ]
    },
    {
      "cell_type": "markdown",
      "metadata": {
        "id": "NLrNFZsvheYM"
      },
      "source": [
        "## Import Necessary Libraries"
      ]
    },
    {
      "cell_type": "markdown",
      "metadata": {
        "id": "l7PNm1sEwI4T"
      },
      "source": [
        "**Importing Panda and numerical constants**"
      ]
    },
    {
      "cell_type": "code",
      "execution_count": null,
      "metadata": {
        "colab": {
          "background_save": true
        },
        "id": "FX6L2Sc2-0h-"
      },
      "outputs": [],
      "source": [
        "import pandas as pd\n",
        "import numpy as np\n",
        "import matplotlib.pyplot as plt\n",
        "import seaborn as sns\n",
        "from scipy import stats"
      ]
    },
    {
      "cell_type": "markdown",
      "metadata": {
        "id": "9Wc01IjSz3i8"
      },
      "source": [
        "from pyspark.sql import SparkSession\n",
        "\n",
        "Create a Spark session\n",
        "spark = SparkSession.builder \\\n",
        "    .appName(\"YourAppName\") \\  # Replace \"YourAppName\" with a suitable name\n",
        "    .getOrCreate()\n",
        "\n",
        "Now you can use 'spark' to perform Spark operations\n"
      ]
    },
    {
      "cell_type": "markdown",
      "metadata": {
        "id": "lhO2dyxKw6ym"
      },
      "source": [
        "**Import Findspark and its session**"
      ]
    },
    {
      "cell_type": "code",
      "execution_count": null,
      "metadata": {
        "colab": {
          "background_save": true
        },
        "id": "IQ055CRJ-98p",
        "outputId": "9cca254b-e592-47ea-c0d3-2c40d0257385"
      },
      "outputs": [
        {
          "data": {
            "text/html": [
              "\n",
              "            <div>\n",
              "                <p><b>SparkSession - in-memory</b></p>\n",
              "                \n",
              "        <div>\n",
              "            <p><b>SparkContext</b></p>\n",
              "\n",
              "            <p><a href=\"http://9f19334ebbbf:4040\">Spark UI</a></p>\n",
              "\n",
              "            <dl>\n",
              "              <dt>Version</dt>\n",
              "                <dd><code>v3.5.0</code></dd>\n",
              "              <dt>Master</dt>\n",
              "                <dd><code>local[*]</code></dd>\n",
              "              <dt>AppName</dt>\n",
              "                <dd><code>DAT7015</code></dd>\n",
              "            </dl>\n",
              "        </div>\n",
              "        \n",
              "            </div>\n",
              "        "
            ],
            "text/plain": [
              "<pyspark.sql.session.SparkSession at 0x790ec2de43d0>"
            ]
          },
          "execution_count": 6,
          "metadata": {},
          "output_type": "execute_result"
        }
      ],
      "source": [
        "import findspark\n",
        "findspark.init()\n",
        "from pyspark.sql import SparkSession\n",
        "spark = SparkSession.builder.master(\"local[*]\").appName(\"DAT7015\").getOrCreate()\n",
        "spark.conf.set(\"spark.sql.repl.eagerEval.enabled\", True) # Property used to format output tables better\n",
        "spark"
      ]
    },
    {
      "cell_type": "markdown",
      "metadata": {
        "id": "z1any0-GdwU6"
      },
      "source": [
        "## Set Environment Variables"
      ]
    },
    {
      "cell_type": "code",
      "execution_count": null,
      "metadata": {
        "colab": {
          "background_save": true
        },
        "id": "PbUeJorPdzqM"
      },
      "outputs": [],
      "source": [
        "import os\n",
        "os.environ[\"JAVA_HOME\"] = \"/usr/lib/jvm/java-8-openjdk-amd64\"\n",
        "os.environ[\"SPARK_HOME\"] = \"/content/spark-3.1.1-bin-hadoop3.2\""
      ]
    },
    {
      "cell_type": "code",
      "execution_count": null,
      "metadata": {
        "colab": {
          "background_save": true
        },
        "id": "8w1fyZq4d8Zc",
        "outputId": "4f403ca5-5653-4ffb-a7ef-94af82eecc8e"
      },
      "outputs": [
        {
          "name": "stdout",
          "output_type": "stream",
          "text": [
            "drive  sample_data  spark-3.1.1-bin-hadoop3.2  spark-3.1.1-bin-hadoop3.2.tgz\n"
          ]
        }
      ],
      "source": [
        "!ls"
      ]
    },
    {
      "cell_type": "code",
      "execution_count": null,
      "metadata": {
        "colab": {
          "background_save": true
        },
        "id": "SWvyLs0XeuPa"
      },
      "outputs": [],
      "source": [
        "# Enabling Hive to use in Spark\n",
        "spark = SparkSession.builder \\\n",
        "      .master(\"local[1]\") \\\n",
        "      .appName(\"Hive\") \\\n",
        "      .config(\"spark.sql.warehouse.dir\", \"<path>/sparkhivewarehouse\") \\\n",
        "      .enableHiveSupport() \\\n",
        "      .getOrCreate()"
      ]
    },
    {
      "cell_type": "code",
      "execution_count": null,
      "metadata": {
        "colab": {
          "background_save": true
        },
        "id": "dq1h1RUfEhUS"
      },
      "outputs": [],
      "source": [
        "#import org.apache.spark.sql.hive.HiveContext;"
      ]
    },
    {
      "cell_type": "markdown",
      "metadata": {
        "id": "pornAg1yO4z4"
      },
      "source": [
        "# Using Pandas\n",
        "\n",
        " **Read the ODS file dataset**"
      ]
    },
    {
      "cell_type": "markdown",
      "metadata": {
        "id": "Cnt1XNnaFr4F"
      },
      "source": [
        "## Dataset 1: Criminal database"
      ]
    },
    {
      "cell_type": "markdown",
      "metadata": {
        "id": "96YRAwUcdGZ7"
      },
      "source": [
        "#### Load the dataset\n"
      ]
    },
    {
      "cell_type": "code",
      "execution_count": null,
      "metadata": {
        "colab": {
          "background_save": true
        },
        "id": "b9EY5v0a_Hlt"
      },
      "outputs": [],
      "source": [
        " dataset = pd.read_excel(\"/content/drive/MyDrive/Colab Notebooks/Assignment 2/Dataset.ods\", sheet_name = None ) #read the dataset"
      ]
    },
    {
      "cell_type": "markdown",
      "metadata": {
        "id": "OFWtUnNOdMP8"
      },
      "source": [
        "#### Highlight the sheets in the dataset"
      ]
    },
    {
      "cell_type": "code",
      "execution_count": null,
      "metadata": {
        "colab": {
          "background_save": true
        },
        "id": "STxyhsKMbJ4C",
        "outputId": "f7c8c618-bb43-47f8-8bc1-b7afd279a9e7"
      },
      "outputs": [
        {
          "data": {
            "text/plain": [
              "dict_keys(['Cover_sheet', 'Notes_', '2012-13', '2013-14', '2014-15', '2015-16', '2016-17', '2017-18', '2018-19', '2019-20', '2020-21', '2021-22', '2022-23', '2023-24'])"
            ]
          },
          "execution_count": 12,
          "metadata": {},
          "output_type": "execute_result"
        }
      ],
      "source": [
        "dataset.keys() #highlighting the worksheets in the dataset"
      ]
    },
    {
      "cell_type": "code",
      "execution_count": null,
      "metadata": {
        "colab": {
          "background_save": true
        },
        "id": "BESimXI8beno",
        "outputId": "f03daca1-4f4b-4f80-b57b-fb34403dfb65"
      },
      "outputs": [
        {
          "data": {
            "text/html": [
              "\n",
              "  <div id=\"df-3a3d4fd8-736d-4820-a74e-91d8b5455134\" class=\"colab-df-container\">\n",
              "    <div>\n",
              "<style scoped>\n",
              "    .dataframe tbody tr th:only-of-type {\n",
              "        vertical-align: middle;\n",
              "    }\n",
              "\n",
              "    .dataframe tbody tr th {\n",
              "        vertical-align: top;\n",
              "    }\n",
              "\n",
              "    .dataframe thead th {\n",
              "        text-align: right;\n",
              "    }\n",
              "</style>\n",
              "<table border=\"1\" class=\"dataframe\">\n",
              "  <thead>\n",
              "    <tr style=\"text-align: right;\">\n",
              "      <th></th>\n",
              "      <th>Financial Year</th>\n",
              "      <th>Financial Quarter</th>\n",
              "      <th>Force Name</th>\n",
              "      <th>Offence Description</th>\n",
              "      <th>Offence Group</th>\n",
              "      <th>Offence Subgroup</th>\n",
              "      <th>Offence Code</th>\n",
              "      <th>Number of Offences</th>\n",
              "    </tr>\n",
              "  </thead>\n",
              "  <tbody>\n",
              "    <tr>\n",
              "      <th>0</th>\n",
              "      <td>2012/13</td>\n",
              "      <td>1</td>\n",
              "      <td>Action Fraud</td>\n",
              "      <td>Fraud offences recorded by Action Fraud</td>\n",
              "      <td>Fraud offences</td>\n",
              "      <td>Fraud: Action Fraud</td>\n",
              "      <td>AF</td>\n",
              "      <td>20323</td>\n",
              "    </tr>\n",
              "    <tr>\n",
              "      <th>1</th>\n",
              "      <td>2012/13</td>\n",
              "      <td>1</td>\n",
              "      <td>Avon and Somerset</td>\n",
              "      <td>Abandoning child under two years (outcomes only)</td>\n",
              "      <td>Violence against the person</td>\n",
              "      <td>Violence without injury</td>\n",
              "      <td>12</td>\n",
              "      <td>0</td>\n",
              "    </tr>\n",
              "    <tr>\n",
              "      <th>2</th>\n",
              "      <td>2012/13</td>\n",
              "      <td>1</td>\n",
              "      <td>Avon and Somerset</td>\n",
              "      <td>Absconding from lawful custody</td>\n",
              "      <td>Miscellaneous crimes against society</td>\n",
              "      <td>Miscellaneous crimes against society</td>\n",
              "      <td>80</td>\n",
              "      <td>1</td>\n",
              "    </tr>\n",
              "    <tr>\n",
              "      <th>3</th>\n",
              "      <td>2012/13</td>\n",
              "      <td>1</td>\n",
              "      <td>Avon and Somerset</td>\n",
              "      <td>Abuse of children through prostitution and por...</td>\n",
              "      <td>Sexual offences</td>\n",
              "      <td>Other sexual offences</td>\n",
              "      <td>71</td>\n",
              "      <td>0</td>\n",
              "    </tr>\n",
              "    <tr>\n",
              "      <th>4</th>\n",
              "      <td>2012/13</td>\n",
              "      <td>1</td>\n",
              "      <td>Avon and Somerset</td>\n",
              "      <td>Abuse of position of trust of a sexual nature</td>\n",
              "      <td>Sexual offences</td>\n",
              "      <td>Other sexual offences</td>\n",
              "      <td>73</td>\n",
              "      <td>3</td>\n",
              "    </tr>\n",
              "  </tbody>\n",
              "</table>\n",
              "</div>\n",
              "    <div class=\"colab-df-buttons\">\n",
              "\n",
              "  <div class=\"colab-df-container\">\n",
              "    <button class=\"colab-df-convert\" onclick=\"convertToInteractive('df-3a3d4fd8-736d-4820-a74e-91d8b5455134')\"\n",
              "            title=\"Convert this dataframe to an interactive table.\"\n",
              "            style=\"display:none;\">\n",
              "\n",
              "  <svg xmlns=\"http://www.w3.org/2000/svg\" height=\"24px\" viewBox=\"0 -960 960 960\">\n",
              "    <path d=\"M120-120v-720h720v720H120Zm60-500h600v-160H180v160Zm220 220h160v-160H400v160Zm0 220h160v-160H400v160ZM180-400h160v-160H180v160Zm440 0h160v-160H620v160ZM180-180h160v-160H180v160Zm440 0h160v-160H620v160Z\"/>\n",
              "  </svg>\n",
              "    </button>\n",
              "\n",
              "  <style>\n",
              "    .colab-df-container {\n",
              "      display:flex;\n",
              "      gap: 12px;\n",
              "    }\n",
              "\n",
              "    .colab-df-convert {\n",
              "      background-color: #E8F0FE;\n",
              "      border: none;\n",
              "      border-radius: 50%;\n",
              "      cursor: pointer;\n",
              "      display: none;\n",
              "      fill: #1967D2;\n",
              "      height: 32px;\n",
              "      padding: 0 0 0 0;\n",
              "      width: 32px;\n",
              "    }\n",
              "\n",
              "    .colab-df-convert:hover {\n",
              "      background-color: #E2EBFA;\n",
              "      box-shadow: 0px 1px 2px rgba(60, 64, 67, 0.3), 0px 1px 3px 1px rgba(60, 64, 67, 0.15);\n",
              "      fill: #174EA6;\n",
              "    }\n",
              "\n",
              "    .colab-df-buttons div {\n",
              "      margin-bottom: 4px;\n",
              "    }\n",
              "\n",
              "    [theme=dark] .colab-df-convert {\n",
              "      background-color: #3B4455;\n",
              "      fill: #D2E3FC;\n",
              "    }\n",
              "\n",
              "    [theme=dark] .colab-df-convert:hover {\n",
              "      background-color: #434B5C;\n",
              "      box-shadow: 0px 1px 3px 1px rgba(0, 0, 0, 0.15);\n",
              "      filter: drop-shadow(0px 1px 2px rgba(0, 0, 0, 0.3));\n",
              "      fill: #FFFFFF;\n",
              "    }\n",
              "  </style>\n",
              "\n",
              "    <script>\n",
              "      const buttonEl =\n",
              "        document.querySelector('#df-3a3d4fd8-736d-4820-a74e-91d8b5455134 button.colab-df-convert');\n",
              "      buttonEl.style.display =\n",
              "        google.colab.kernel.accessAllowed ? 'block' : 'none';\n",
              "\n",
              "      async function convertToInteractive(key) {\n",
              "        const element = document.querySelector('#df-3a3d4fd8-736d-4820-a74e-91d8b5455134');\n",
              "        const dataTable =\n",
              "          await google.colab.kernel.invokeFunction('convertToInteractive',\n",
              "                                                    [key], {});\n",
              "        if (!dataTable) return;\n",
              "\n",
              "        const docLinkHtml = 'Like what you see? Visit the ' +\n",
              "          '<a target=\"_blank\" href=https://colab.research.google.com/notebooks/data_table.ipynb>data table notebook</a>'\n",
              "          + ' to learn more about interactive tables.';\n",
              "        element.innerHTML = '';\n",
              "        dataTable['output_type'] = 'display_data';\n",
              "        await google.colab.output.renderOutput(dataTable, element);\n",
              "        const docLink = document.createElement('div');\n",
              "        docLink.innerHTML = docLinkHtml;\n",
              "        element.appendChild(docLink);\n",
              "      }\n",
              "    </script>\n",
              "  </div>\n",
              "\n",
              "\n",
              "<div id=\"df-119a7292-ffe5-4891-8113-0e9b949b93a5\">\n",
              "  <button class=\"colab-df-quickchart\" onclick=\"quickchart('df-119a7292-ffe5-4891-8113-0e9b949b93a5')\"\n",
              "            title=\"Suggest charts\"\n",
              "            style=\"display:none;\">\n",
              "\n",
              "<svg xmlns=\"http://www.w3.org/2000/svg\" height=\"24px\"viewBox=\"0 0 24 24\"\n",
              "     width=\"24px\">\n",
              "    <g>\n",
              "        <path d=\"M19 3H5c-1.1 0-2 .9-2 2v14c0 1.1.9 2 2 2h14c1.1 0 2-.9 2-2V5c0-1.1-.9-2-2-2zM9 17H7v-7h2v7zm4 0h-2V7h2v10zm4 0h-2v-4h2v4z\"/>\n",
              "    </g>\n",
              "</svg>\n",
              "  </button>\n",
              "\n",
              "<style>\n",
              "  .colab-df-quickchart {\n",
              "      --bg-color: #E8F0FE;\n",
              "      --fill-color: #1967D2;\n",
              "      --hover-bg-color: #E2EBFA;\n",
              "      --hover-fill-color: #174EA6;\n",
              "      --disabled-fill-color: #AAA;\n",
              "      --disabled-bg-color: #DDD;\n",
              "  }\n",
              "\n",
              "  [theme=dark] .colab-df-quickchart {\n",
              "      --bg-color: #3B4455;\n",
              "      --fill-color: #D2E3FC;\n",
              "      --hover-bg-color: #434B5C;\n",
              "      --hover-fill-color: #FFFFFF;\n",
              "      --disabled-bg-color: #3B4455;\n",
              "      --disabled-fill-color: #666;\n",
              "  }\n",
              "\n",
              "  .colab-df-quickchart {\n",
              "    background-color: var(--bg-color);\n",
              "    border: none;\n",
              "    border-radius: 50%;\n",
              "    cursor: pointer;\n",
              "    display: none;\n",
              "    fill: var(--fill-color);\n",
              "    height: 32px;\n",
              "    padding: 0;\n",
              "    width: 32px;\n",
              "  }\n",
              "\n",
              "  .colab-df-quickchart:hover {\n",
              "    background-color: var(--hover-bg-color);\n",
              "    box-shadow: 0 1px 2px rgba(60, 64, 67, 0.3), 0 1px 3px 1px rgba(60, 64, 67, 0.15);\n",
              "    fill: var(--button-hover-fill-color);\n",
              "  }\n",
              "\n",
              "  .colab-df-quickchart-complete:disabled,\n",
              "  .colab-df-quickchart-complete:disabled:hover {\n",
              "    background-color: var(--disabled-bg-color);\n",
              "    fill: var(--disabled-fill-color);\n",
              "    box-shadow: none;\n",
              "  }\n",
              "\n",
              "  .colab-df-spinner {\n",
              "    border: 2px solid var(--fill-color);\n",
              "    border-color: transparent;\n",
              "    border-bottom-color: var(--fill-color);\n",
              "    animation:\n",
              "      spin 1s steps(1) infinite;\n",
              "  }\n",
              "\n",
              "  @keyframes spin {\n",
              "    0% {\n",
              "      border-color: transparent;\n",
              "      border-bottom-color: var(--fill-color);\n",
              "      border-left-color: var(--fill-color);\n",
              "    }\n",
              "    20% {\n",
              "      border-color: transparent;\n",
              "      border-left-color: var(--fill-color);\n",
              "      border-top-color: var(--fill-color);\n",
              "    }\n",
              "    30% {\n",
              "      border-color: transparent;\n",
              "      border-left-color: var(--fill-color);\n",
              "      border-top-color: var(--fill-color);\n",
              "      border-right-color: var(--fill-color);\n",
              "    }\n",
              "    40% {\n",
              "      border-color: transparent;\n",
              "      border-right-color: var(--fill-color);\n",
              "      border-top-color: var(--fill-color);\n",
              "    }\n",
              "    60% {\n",
              "      border-color: transparent;\n",
              "      border-right-color: var(--fill-color);\n",
              "    }\n",
              "    80% {\n",
              "      border-color: transparent;\n",
              "      border-right-color: var(--fill-color);\n",
              "      border-bottom-color: var(--fill-color);\n",
              "    }\n",
              "    90% {\n",
              "      border-color: transparent;\n",
              "      border-bottom-color: var(--fill-color);\n",
              "    }\n",
              "  }\n",
              "</style>\n",
              "\n",
              "  <script>\n",
              "    async function quickchart(key) {\n",
              "      const quickchartButtonEl =\n",
              "        document.querySelector('#' + key + ' button');\n",
              "      quickchartButtonEl.disabled = true;  // To prevent multiple clicks.\n",
              "      quickchartButtonEl.classList.add('colab-df-spinner');\n",
              "      try {\n",
              "        const charts = await google.colab.kernel.invokeFunction(\n",
              "            'suggestCharts', [key], {});\n",
              "      } catch (error) {\n",
              "        console.error('Error during call to suggestCharts:', error);\n",
              "      }\n",
              "      quickchartButtonEl.classList.remove('colab-df-spinner');\n",
              "      quickchartButtonEl.classList.add('colab-df-quickchart-complete');\n",
              "    }\n",
              "    (() => {\n",
              "      let quickchartButtonEl =\n",
              "        document.querySelector('#df-119a7292-ffe5-4891-8113-0e9b949b93a5 button');\n",
              "      quickchartButtonEl.style.display =\n",
              "        google.colab.kernel.accessAllowed ? 'block' : 'none';\n",
              "    })();\n",
              "  </script>\n",
              "</div>\n",
              "    </div>\n",
              "  </div>\n"
            ],
            "text/plain": [
              "  Financial Year  Financial Quarter         Force Name  \\\n",
              "0        2012/13                  1       Action Fraud   \n",
              "1        2012/13                  1  Avon and Somerset   \n",
              "2        2012/13                  1  Avon and Somerset   \n",
              "3        2012/13                  1  Avon and Somerset   \n",
              "4        2012/13                  1  Avon and Somerset   \n",
              "\n",
              "                                 Offence Description  \\\n",
              "0            Fraud offences recorded by Action Fraud   \n",
              "1   Abandoning child under two years (outcomes only)   \n",
              "2                     Absconding from lawful custody   \n",
              "3  Abuse of children through prostitution and por...   \n",
              "4      Abuse of position of trust of a sexual nature   \n",
              "\n",
              "                          Offence Group                      Offence Subgroup  \\\n",
              "0                        Fraud offences                   Fraud: Action Fraud   \n",
              "1           Violence against the person               Violence without injury   \n",
              "2  Miscellaneous crimes against society  Miscellaneous crimes against society   \n",
              "3                       Sexual offences                 Other sexual offences   \n",
              "4                       Sexual offences                 Other sexual offences   \n",
              "\n",
              "  Offence Code  Number of Offences  \n",
              "0           AF               20323  \n",
              "1           12                   0  \n",
              "2           80                   1  \n",
              "3           71                   0  \n",
              "4           73                   3  "
            ]
          },
          "execution_count": 13,
          "metadata": {},
          "output_type": "execute_result"
        }
      ],
      "source": [
        "dataset['2012-13'].head(5) #code to check first 5 rows in column 2012-13"
      ]
    },
    {
      "cell_type": "code",
      "execution_count": null,
      "metadata": {
        "colab": {
          "background_save": true
        },
        "id": "eNQvpOKXb9T_",
        "outputId": "12f0e837-86fa-4296-cebe-b67f6cdeac5c"
      },
      "outputs": [
        {
          "data": {
            "text/plain": [
              "(21132, 8)"
            ]
          },
          "execution_count": 14,
          "metadata": {},
          "output_type": "execute_result"
        }
      ],
      "source": [
        "dataset['2014-15'].shape #code to check details of the column"
      ]
    },
    {
      "cell_type": "code",
      "execution_count": null,
      "metadata": {
        "colab": {
          "background_save": true
        },
        "id": "pqUgzD60D7BN",
        "outputId": "e975536c-aadb-4328-fbe5-3ed80ba6ffbe"
      },
      "outputs": [
        {
          "data": {
            "text/plain": [
              "(21308, 8)"
            ]
          },
          "execution_count": 15,
          "metadata": {},
          "output_type": "execute_result"
        }
      ],
      "source": [
        "dataset['2015-16'].shape"
      ]
    },
    {
      "cell_type": "code",
      "execution_count": null,
      "metadata": {
        "colab": {
          "background_save": true
        },
        "id": "jVni3kWbEBKp",
        "outputId": "866cf63e-e89c-49bd-b3d8-c8ac675a0fdf"
      },
      "outputs": [
        {
          "data": {
            "text/plain": [
              "(23772, 8)"
            ]
          },
          "execution_count": 16,
          "metadata": {},
          "output_type": "execute_result"
        }
      ],
      "source": [
        "dataset['2021-22'].shape"
      ]
    },
    {
      "cell_type": "code",
      "execution_count": null,
      "metadata": {
        "colab": {
          "background_save": true
        },
        "id": "Y-xzswSlEO1n",
        "outputId": "212d2912-5684-4c3a-cdb9-04ddea80b035"
      },
      "outputs": [
        {
          "data": {
            "text/plain": [
              "(23772, 8)"
            ]
          },
          "execution_count": 17,
          "metadata": {},
          "output_type": "execute_result"
        }
      ],
      "source": [
        "dataset['2022-23'].shape"
      ]
    },
    {
      "cell_type": "markdown",
      "metadata": {
        "id": "enXnRZ92a_l6"
      },
      "source": [
        "### Make a copy"
      ]
    },
    {
      "cell_type": "code",
      "execution_count": null,
      "metadata": {
        "colab": {
          "background_save": true
        },
        "id": "n17IqgQqgQJg"
      },
      "outputs": [],
      "source": [
        "dataset1 = dataset.copy()"
      ]
    },
    {
      "cell_type": "markdown",
      "metadata": {
        "id": "PTo-sARsdZPJ"
      },
      "source": [
        "#### Remove worksheets from the workbook"
      ]
    },
    {
      "cell_type": "code",
      "execution_count": null,
      "metadata": {
        "colab": {
          "background_save": true
        },
        "id": "DXCzXsVgeV0q"
      },
      "outputs": [],
      "source": [
        "del dataset1['Cover_sheet'] #deleting the worksheet \"Coversheet\""
      ]
    },
    {
      "cell_type": "code",
      "execution_count": null,
      "metadata": {
        "colab": {
          "background_save": true
        },
        "id": "m5xvFcStebCK",
        "outputId": "1b43176a-9a30-4b7d-ce06-89c183226e2e"
      },
      "outputs": [
        {
          "data": {
            "text/plain": [
              "dict_keys(['Notes_', '2012-13', '2013-14', '2014-15', '2015-16', '2016-17', '2017-18', '2018-19', '2019-20', '2020-21', '2021-22', '2022-23', '2023-24'])"
            ]
          },
          "execution_count": 20,
          "metadata": {},
          "output_type": "execute_result"
        }
      ],
      "source": [
        "dataset1.keys() #code to check no of worksheets in dataset"
      ]
    },
    {
      "cell_type": "markdown",
      "metadata": {
        "id": "B4781kICpkwv"
      },
      "source": [
        "SheetD represents worksheets we are not using"
      ]
    },
    {
      "cell_type": "code",
      "execution_count": null,
      "metadata": {
        "colab": {
          "background_save": true
        },
        "id": "VkbKc_zmll-r"
      },
      "outputs": [],
      "source": [
        "sheetD = ['Notes_', '2012-13', '2013-14', '2016-17', '2017-18', '2018-19', '2019-20', '2020-21', '2023-24'] #deleting worksheet 'Notes'"
      ]
    },
    {
      "cell_type": "code",
      "execution_count": null,
      "metadata": {
        "colab": {
          "background_save": true
        },
        "id": "bGus0n3LEnJi"
      },
      "outputs": [],
      "source": [
        "for sheet_name in sheetD:\n",
        "    if sheet_name in dataset1:\n",
        "        del dataset1[sheet_name]"
      ]
    },
    {
      "cell_type": "code",
      "execution_count": null,
      "metadata": {
        "colab": {
          "background_save": true
        },
        "id": "iDufWuYXFg_u",
        "outputId": "24887ae6-e73f-47f7-f890-c498c532ee19"
      },
      "outputs": [
        {
          "data": {
            "text/plain": [
              "dict_keys(['2014-15', '2015-16', '2021-22', '2022-23'])"
            ]
          },
          "execution_count": 23,
          "metadata": {},
          "output_type": "execute_result"
        }
      ],
      "source": [
        "dataset1.keys()"
      ]
    },
    {
      "cell_type": "markdown",
      "metadata": {
        "id": "9yW8I29yeAP6"
      },
      "source": [
        "#### Merging the worksheets\n",
        "we attempt to merge all necessary worksheets in this section"
      ]
    },
    {
      "cell_type": "code",
      "execution_count": null,
      "metadata": {
        "colab": {
          "background_save": true
        },
        "id": "09nIFh-Ldz0Y"
      },
      "outputs": [],
      "source": [
        "Dataset1 = pd.concat(dataset1, ignore_index=True) #new dataset without Notes and Coversheet"
      ]
    },
    {
      "cell_type": "code",
      "execution_count": null,
      "metadata": {
        "colab": {
          "background_save": true
        },
        "id": "oTr69YwEe7sa",
        "outputId": "a522e1d3-d0a6-49e0-ec8c-8322f0955ddc"
      },
      "outputs": [
        {
          "data": {
            "text/plain": [
              "Index(['Financial Year', 'Financial Quarter', 'Force Name',\n",
              "       'Offence Description', 'Offence Group', 'Offence Subgroup',\n",
              "       'Offence Code', 'Number of Offences'],\n",
              "      dtype='object')"
            ]
          },
          "execution_count": 25,
          "metadata": {},
          "output_type": "execute_result"
        }
      ],
      "source": [
        "Dataset1.keys()"
      ]
    },
    {
      "cell_type": "code",
      "execution_count": null,
      "metadata": {
        "colab": {
          "background_save": true
        },
        "id": "tU6XENNQdOJg",
        "outputId": "3f53a392-ad1e-4815-fa1e-83a2d93488d0"
      },
      "outputs": [
        {
          "name": "stdout",
          "output_type": "stream",
          "text": [
            "<class 'pandas.core.frame.DataFrame'>\n",
            "RangeIndex: 89984 entries, 0 to 89983\n",
            "Data columns (total 8 columns):\n",
            " #   Column               Non-Null Count  Dtype \n",
            "---  ------               --------------  ----- \n",
            " 0   Financial Year       89984 non-null  object\n",
            " 1   Financial Quarter    89984 non-null  int64 \n",
            " 2   Force Name           89984 non-null  object\n",
            " 3   Offence Description  89984 non-null  object\n",
            " 4   Offence Group        89984 non-null  object\n",
            " 5   Offence Subgroup     89984 non-null  object\n",
            " 6   Offence Code         89984 non-null  object\n",
            " 7   Number of Offences   89984 non-null  int64 \n",
            "dtypes: int64(2), object(6)\n",
            "memory usage: 5.5+ MB\n"
          ]
        }
      ],
      "source": [
        "Dataset1.info()"
      ]
    },
    {
      "cell_type": "code",
      "execution_count": null,
      "metadata": {
        "colab": {
          "background_save": true
        },
        "id": "6y4519opNH_o",
        "outputId": "bf0d7c5d-85ef-4d77-d5ce-457f71908beb"
      },
      "outputs": [
        {
          "data": {
            "text/plain": [
              "(89984, 8)"
            ]
          },
          "execution_count": 27,
          "metadata": {},
          "output_type": "execute_result"
        }
      ],
      "source": [
        "Dataset1.shape"
      ]
    },
    {
      "cell_type": "markdown",
      "metadata": {
        "id": "4ul0EEYrygJ4"
      },
      "source": [
        "### Rename the Column"
      ]
    },
    {
      "cell_type": "code",
      "execution_count": null,
      "metadata": {
        "colab": {
          "background_save": true
        },
        "id": "ODSY17IyxO9-",
        "outputId": "76a7cd37-5fd7-430b-8832-0d6d9435c6ea"
      },
      "outputs": [
        {
          "data": {
            "text/plain": [
              "Index(['Financial Year', 'Financial Quarter', 'Force Name',\n",
              "       'Offence Description', 'Offence Group', 'Offence Subgroup',\n",
              "       'Offence Code', 'Number of Offences'],\n",
              "      dtype='object')"
            ]
          },
          "execution_count": 28,
          "metadata": {},
          "output_type": "execute_result"
        }
      ],
      "source": [
        "Dataset1.columns #to show the columns in the worksheet"
      ]
    },
    {
      "cell_type": "code",
      "execution_count": null,
      "metadata": {
        "colab": {
          "background_save": true
        },
        "id": "_Q6c4uVwxg9Q",
        "outputId": "10e0255f-dba4-4d38-c0a7-96b22d7a9297"
      },
      "outputs": [
        {
          "data": {
            "text/plain": [
              "Index(['Fyear', 'FQuarter', 'ForceName', 'OffDesc', 'OffGroup', 'OffSubgroup',\n",
              "       'OffCode', 'NoOff'],\n",
              "      dtype='object')"
            ]
          },
          "execution_count": 29,
          "metadata": {},
          "output_type": "execute_result"
        }
      ],
      "source": [
        "Dataset1.rename(columns={\n",
        "    'Financial Year': 'Fyear','Financial Quarter': 'FQuarter', 'Force Name': 'ForceName', 'Offence Description': 'OffDesc',\n",
        "    'Offence Group': 'OffGroup', 'Offence Subgroup': 'OffSubgroup', 'Offence Code': 'OffCode', 'Number of Offences': 'NoOff'\n",
        "    }, inplace=True)\n",
        "\n",
        "Dataset1.columns"
      ]
    },
    {
      "cell_type": "markdown",
      "metadata": {
        "id": "i7K0DKvOyyfu"
      },
      "source": [
        "### Handling duplicates\n"
      ]
    },
    {
      "cell_type": "code",
      "execution_count": null,
      "metadata": {
        "colab": {
          "background_save": true
        },
        "id": "TRKdRbC-eE82",
        "outputId": "8d58c163-5268-4a66-fc91-a5154b0e0b9c"
      },
      "outputs": [
        {
          "data": {
            "text/plain": [
              "(89984, 8)"
            ]
          },
          "execution_count": 30,
          "metadata": {},
          "output_type": "execute_result"
        }
      ],
      "source": [
        "Dataset1 = Dataset1.drop_duplicates(Dataset1) #deleting the duplicates found in the worksheet\n",
        "Dataset1.shape"
      ]
    },
    {
      "cell_type": "markdown",
      "metadata": {
        "id": "C1co7WNBy45A"
      },
      "source": [
        "### Detect Missing Values"
      ]
    },
    {
      "cell_type": "code",
      "execution_count": null,
      "metadata": {
        "colab": {
          "background_save": true
        },
        "id": "iuqswPS5A8Yf",
        "outputId": "7f653507-1de7-41ec-cc16-31b219fea64d"
      },
      "outputs": [
        {
          "data": {
            "text/html": [
              "\n",
              "  <div id=\"df-9ed145bc-fc16-48c4-a484-b68859a5c9f0\" class=\"colab-df-container\">\n",
              "    <div>\n",
              "<style scoped>\n",
              "    .dataframe tbody tr th:only-of-type {\n",
              "        vertical-align: middle;\n",
              "    }\n",
              "\n",
              "    .dataframe tbody tr th {\n",
              "        vertical-align: top;\n",
              "    }\n",
              "\n",
              "    .dataframe thead th {\n",
              "        text-align: right;\n",
              "    }\n",
              "</style>\n",
              "<table border=\"1\" class=\"dataframe\">\n",
              "  <thead>\n",
              "    <tr style=\"text-align: right;\">\n",
              "      <th></th>\n",
              "      <th>Fyear</th>\n",
              "      <th>FQuarter</th>\n",
              "      <th>ForceName</th>\n",
              "      <th>OffDesc</th>\n",
              "      <th>OffGroup</th>\n",
              "      <th>OffSubgroup</th>\n",
              "      <th>OffCode</th>\n",
              "      <th>NoOff</th>\n",
              "    </tr>\n",
              "  </thead>\n",
              "  <tbody>\n",
              "    <tr>\n",
              "      <th>0</th>\n",
              "      <td>False</td>\n",
              "      <td>False</td>\n",
              "      <td>False</td>\n",
              "      <td>False</td>\n",
              "      <td>False</td>\n",
              "      <td>False</td>\n",
              "      <td>False</td>\n",
              "      <td>False</td>\n",
              "    </tr>\n",
              "    <tr>\n",
              "      <th>1</th>\n",
              "      <td>False</td>\n",
              "      <td>False</td>\n",
              "      <td>False</td>\n",
              "      <td>False</td>\n",
              "      <td>False</td>\n",
              "      <td>False</td>\n",
              "      <td>False</td>\n",
              "      <td>False</td>\n",
              "    </tr>\n",
              "    <tr>\n",
              "      <th>2</th>\n",
              "      <td>False</td>\n",
              "      <td>False</td>\n",
              "      <td>False</td>\n",
              "      <td>False</td>\n",
              "      <td>False</td>\n",
              "      <td>False</td>\n",
              "      <td>False</td>\n",
              "      <td>False</td>\n",
              "    </tr>\n",
              "    <tr>\n",
              "      <th>3</th>\n",
              "      <td>False</td>\n",
              "      <td>False</td>\n",
              "      <td>False</td>\n",
              "      <td>False</td>\n",
              "      <td>False</td>\n",
              "      <td>False</td>\n",
              "      <td>False</td>\n",
              "      <td>False</td>\n",
              "    </tr>\n",
              "    <tr>\n",
              "      <th>4</th>\n",
              "      <td>False</td>\n",
              "      <td>False</td>\n",
              "      <td>False</td>\n",
              "      <td>False</td>\n",
              "      <td>False</td>\n",
              "      <td>False</td>\n",
              "      <td>False</td>\n",
              "      <td>False</td>\n",
              "    </tr>\n",
              "    <tr>\n",
              "      <th>...</th>\n",
              "      <td>...</td>\n",
              "      <td>...</td>\n",
              "      <td>...</td>\n",
              "      <td>...</td>\n",
              "      <td>...</td>\n",
              "      <td>...</td>\n",
              "      <td>...</td>\n",
              "      <td>...</td>\n",
              "    </tr>\n",
              "    <tr>\n",
              "      <th>89979</th>\n",
              "      <td>False</td>\n",
              "      <td>False</td>\n",
              "      <td>False</td>\n",
              "      <td>False</td>\n",
              "      <td>False</td>\n",
              "      <td>False</td>\n",
              "      <td>False</td>\n",
              "      <td>False</td>\n",
              "    </tr>\n",
              "    <tr>\n",
              "      <th>89980</th>\n",
              "      <td>False</td>\n",
              "      <td>False</td>\n",
              "      <td>False</td>\n",
              "      <td>False</td>\n",
              "      <td>False</td>\n",
              "      <td>False</td>\n",
              "      <td>False</td>\n",
              "      <td>False</td>\n",
              "    </tr>\n",
              "    <tr>\n",
              "      <th>89981</th>\n",
              "      <td>False</td>\n",
              "      <td>False</td>\n",
              "      <td>False</td>\n",
              "      <td>False</td>\n",
              "      <td>False</td>\n",
              "      <td>False</td>\n",
              "      <td>False</td>\n",
              "      <td>False</td>\n",
              "    </tr>\n",
              "    <tr>\n",
              "      <th>89982</th>\n",
              "      <td>False</td>\n",
              "      <td>False</td>\n",
              "      <td>False</td>\n",
              "      <td>False</td>\n",
              "      <td>False</td>\n",
              "      <td>False</td>\n",
              "      <td>False</td>\n",
              "      <td>False</td>\n",
              "    </tr>\n",
              "    <tr>\n",
              "      <th>89983</th>\n",
              "      <td>False</td>\n",
              "      <td>False</td>\n",
              "      <td>False</td>\n",
              "      <td>False</td>\n",
              "      <td>False</td>\n",
              "      <td>False</td>\n",
              "      <td>False</td>\n",
              "      <td>False</td>\n",
              "    </tr>\n",
              "  </tbody>\n",
              "</table>\n",
              "<p>89984 rows × 8 columns</p>\n",
              "</div>\n",
              "    <div class=\"colab-df-buttons\">\n",
              "\n",
              "  <div class=\"colab-df-container\">\n",
              "    <button class=\"colab-df-convert\" onclick=\"convertToInteractive('df-9ed145bc-fc16-48c4-a484-b68859a5c9f0')\"\n",
              "            title=\"Convert this dataframe to an interactive table.\"\n",
              "            style=\"display:none;\">\n",
              "\n",
              "  <svg xmlns=\"http://www.w3.org/2000/svg\" height=\"24px\" viewBox=\"0 -960 960 960\">\n",
              "    <path d=\"M120-120v-720h720v720H120Zm60-500h600v-160H180v160Zm220 220h160v-160H400v160Zm0 220h160v-160H400v160ZM180-400h160v-160H180v160Zm440 0h160v-160H620v160ZM180-180h160v-160H180v160Zm440 0h160v-160H620v160Z\"/>\n",
              "  </svg>\n",
              "    </button>\n",
              "\n",
              "  <style>\n",
              "    .colab-df-container {\n",
              "      display:flex;\n",
              "      gap: 12px;\n",
              "    }\n",
              "\n",
              "    .colab-df-convert {\n",
              "      background-color: #E8F0FE;\n",
              "      border: none;\n",
              "      border-radius: 50%;\n",
              "      cursor: pointer;\n",
              "      display: none;\n",
              "      fill: #1967D2;\n",
              "      height: 32px;\n",
              "      padding: 0 0 0 0;\n",
              "      width: 32px;\n",
              "    }\n",
              "\n",
              "    .colab-df-convert:hover {\n",
              "      background-color: #E2EBFA;\n",
              "      box-shadow: 0px 1px 2px rgba(60, 64, 67, 0.3), 0px 1px 3px 1px rgba(60, 64, 67, 0.15);\n",
              "      fill: #174EA6;\n",
              "    }\n",
              "\n",
              "    .colab-df-buttons div {\n",
              "      margin-bottom: 4px;\n",
              "    }\n",
              "\n",
              "    [theme=dark] .colab-df-convert {\n",
              "      background-color: #3B4455;\n",
              "      fill: #D2E3FC;\n",
              "    }\n",
              "\n",
              "    [theme=dark] .colab-df-convert:hover {\n",
              "      background-color: #434B5C;\n",
              "      box-shadow: 0px 1px 3px 1px rgba(0, 0, 0, 0.15);\n",
              "      filter: drop-shadow(0px 1px 2px rgba(0, 0, 0, 0.3));\n",
              "      fill: #FFFFFF;\n",
              "    }\n",
              "  </style>\n",
              "\n",
              "    <script>\n",
              "      const buttonEl =\n",
              "        document.querySelector('#df-9ed145bc-fc16-48c4-a484-b68859a5c9f0 button.colab-df-convert');\n",
              "      buttonEl.style.display =\n",
              "        google.colab.kernel.accessAllowed ? 'block' : 'none';\n",
              "\n",
              "      async function convertToInteractive(key) {\n",
              "        const element = document.querySelector('#df-9ed145bc-fc16-48c4-a484-b68859a5c9f0');\n",
              "        const dataTable =\n",
              "          await google.colab.kernel.invokeFunction('convertToInteractive',\n",
              "                                                    [key], {});\n",
              "        if (!dataTable) return;\n",
              "\n",
              "        const docLinkHtml = 'Like what you see? Visit the ' +\n",
              "          '<a target=\"_blank\" href=https://colab.research.google.com/notebooks/data_table.ipynb>data table notebook</a>'\n",
              "          + ' to learn more about interactive tables.';\n",
              "        element.innerHTML = '';\n",
              "        dataTable['output_type'] = 'display_data';\n",
              "        await google.colab.output.renderOutput(dataTable, element);\n",
              "        const docLink = document.createElement('div');\n",
              "        docLink.innerHTML = docLinkHtml;\n",
              "        element.appendChild(docLink);\n",
              "      }\n",
              "    </script>\n",
              "  </div>\n",
              "\n",
              "\n",
              "<div id=\"df-efef0f45-0725-4798-a6c4-9613ce15cab1\">\n",
              "  <button class=\"colab-df-quickchart\" onclick=\"quickchart('df-efef0f45-0725-4798-a6c4-9613ce15cab1')\"\n",
              "            title=\"Suggest charts\"\n",
              "            style=\"display:none;\">\n",
              "\n",
              "<svg xmlns=\"http://www.w3.org/2000/svg\" height=\"24px\"viewBox=\"0 0 24 24\"\n",
              "     width=\"24px\">\n",
              "    <g>\n",
              "        <path d=\"M19 3H5c-1.1 0-2 .9-2 2v14c0 1.1.9 2 2 2h14c1.1 0 2-.9 2-2V5c0-1.1-.9-2-2-2zM9 17H7v-7h2v7zm4 0h-2V7h2v10zm4 0h-2v-4h2v4z\"/>\n",
              "    </g>\n",
              "</svg>\n",
              "  </button>\n",
              "\n",
              "<style>\n",
              "  .colab-df-quickchart {\n",
              "      --bg-color: #E8F0FE;\n",
              "      --fill-color: #1967D2;\n",
              "      --hover-bg-color: #E2EBFA;\n",
              "      --hover-fill-color: #174EA6;\n",
              "      --disabled-fill-color: #AAA;\n",
              "      --disabled-bg-color: #DDD;\n",
              "  }\n",
              "\n",
              "  [theme=dark] .colab-df-quickchart {\n",
              "      --bg-color: #3B4455;\n",
              "      --fill-color: #D2E3FC;\n",
              "      --hover-bg-color: #434B5C;\n",
              "      --hover-fill-color: #FFFFFF;\n",
              "      --disabled-bg-color: #3B4455;\n",
              "      --disabled-fill-color: #666;\n",
              "  }\n",
              "\n",
              "  .colab-df-quickchart {\n",
              "    background-color: var(--bg-color);\n",
              "    border: none;\n",
              "    border-radius: 50%;\n",
              "    cursor: pointer;\n",
              "    display: none;\n",
              "    fill: var(--fill-color);\n",
              "    height: 32px;\n",
              "    padding: 0;\n",
              "    width: 32px;\n",
              "  }\n",
              "\n",
              "  .colab-df-quickchart:hover {\n",
              "    background-color: var(--hover-bg-color);\n",
              "    box-shadow: 0 1px 2px rgba(60, 64, 67, 0.3), 0 1px 3px 1px rgba(60, 64, 67, 0.15);\n",
              "    fill: var(--button-hover-fill-color);\n",
              "  }\n",
              "\n",
              "  .colab-df-quickchart-complete:disabled,\n",
              "  .colab-df-quickchart-complete:disabled:hover {\n",
              "    background-color: var(--disabled-bg-color);\n",
              "    fill: var(--disabled-fill-color);\n",
              "    box-shadow: none;\n",
              "  }\n",
              "\n",
              "  .colab-df-spinner {\n",
              "    border: 2px solid var(--fill-color);\n",
              "    border-color: transparent;\n",
              "    border-bottom-color: var(--fill-color);\n",
              "    animation:\n",
              "      spin 1s steps(1) infinite;\n",
              "  }\n",
              "\n",
              "  @keyframes spin {\n",
              "    0% {\n",
              "      border-color: transparent;\n",
              "      border-bottom-color: var(--fill-color);\n",
              "      border-left-color: var(--fill-color);\n",
              "    }\n",
              "    20% {\n",
              "      border-color: transparent;\n",
              "      border-left-color: var(--fill-color);\n",
              "      border-top-color: var(--fill-color);\n",
              "    }\n",
              "    30% {\n",
              "      border-color: transparent;\n",
              "      border-left-color: var(--fill-color);\n",
              "      border-top-color: var(--fill-color);\n",
              "      border-right-color: var(--fill-color);\n",
              "    }\n",
              "    40% {\n",
              "      border-color: transparent;\n",
              "      border-right-color: var(--fill-color);\n",
              "      border-top-color: var(--fill-color);\n",
              "    }\n",
              "    60% {\n",
              "      border-color: transparent;\n",
              "      border-right-color: var(--fill-color);\n",
              "    }\n",
              "    80% {\n",
              "      border-color: transparent;\n",
              "      border-right-color: var(--fill-color);\n",
              "      border-bottom-color: var(--fill-color);\n",
              "    }\n",
              "    90% {\n",
              "      border-color: transparent;\n",
              "      border-bottom-color: var(--fill-color);\n",
              "    }\n",
              "  }\n",
              "</style>\n",
              "\n",
              "  <script>\n",
              "    async function quickchart(key) {\n",
              "      const quickchartButtonEl =\n",
              "        document.querySelector('#' + key + ' button');\n",
              "      quickchartButtonEl.disabled = true;  // To prevent multiple clicks.\n",
              "      quickchartButtonEl.classList.add('colab-df-spinner');\n",
              "      try {\n",
              "        const charts = await google.colab.kernel.invokeFunction(\n",
              "            'suggestCharts', [key], {});\n",
              "      } catch (error) {\n",
              "        console.error('Error during call to suggestCharts:', error);\n",
              "      }\n",
              "      quickchartButtonEl.classList.remove('colab-df-spinner');\n",
              "      quickchartButtonEl.classList.add('colab-df-quickchart-complete');\n",
              "    }\n",
              "    (() => {\n",
              "      let quickchartButtonEl =\n",
              "        document.querySelector('#df-efef0f45-0725-4798-a6c4-9613ce15cab1 button');\n",
              "      quickchartButtonEl.style.display =\n",
              "        google.colab.kernel.accessAllowed ? 'block' : 'none';\n",
              "    })();\n",
              "  </script>\n",
              "</div>\n",
              "    </div>\n",
              "  </div>\n"
            ],
            "text/plain": [
              "       Fyear  FQuarter  ForceName  OffDesc  OffGroup  OffSubgroup  OffCode  \\\n",
              "0      False     False      False    False     False        False    False   \n",
              "1      False     False      False    False     False        False    False   \n",
              "2      False     False      False    False     False        False    False   \n",
              "3      False     False      False    False     False        False    False   \n",
              "4      False     False      False    False     False        False    False   \n",
              "...      ...       ...        ...      ...       ...          ...      ...   \n",
              "89979  False     False      False    False     False        False    False   \n",
              "89980  False     False      False    False     False        False    False   \n",
              "89981  False     False      False    False     False        False    False   \n",
              "89982  False     False      False    False     False        False    False   \n",
              "89983  False     False      False    False     False        False    False   \n",
              "\n",
              "       NoOff  \n",
              "0      False  \n",
              "1      False  \n",
              "2      False  \n",
              "3      False  \n",
              "4      False  \n",
              "...      ...  \n",
              "89979  False  \n",
              "89980  False  \n",
              "89981  False  \n",
              "89982  False  \n",
              "89983  False  \n",
              "\n",
              "[89984 rows x 8 columns]"
            ]
          },
          "execution_count": 31,
          "metadata": {},
          "output_type": "execute_result"
        }
      ],
      "source": [
        "Dataset1.isnull() #checking for null values"
      ]
    },
    {
      "cell_type": "code",
      "execution_count": null,
      "metadata": {
        "colab": {
          "background_save": true
        },
        "id": "49V90te6BAjN",
        "outputId": "ca8086aa-afcc-4f3e-ea19-5563fd1ef274"
      },
      "outputs": [
        {
          "data": {
            "text/plain": [
              "Fyear          0\n",
              "FQuarter       0\n",
              "ForceName      0\n",
              "OffDesc        0\n",
              "OffGroup       0\n",
              "OffSubgroup    0\n",
              "OffCode        0\n",
              "NoOff          0\n",
              "dtype: int64"
            ]
          },
          "execution_count": 32,
          "metadata": {},
          "output_type": "execute_result"
        }
      ],
      "source": [
        "Dataset1.isnull().sum() #checking for sum of null values in each column"
      ]
    },
    {
      "cell_type": "code",
      "execution_count": null,
      "metadata": {
        "colab": {
          "background_save": true
        },
        "id": "Gpf322CWbRLF",
        "outputId": "c416e051-fd6b-4ffd-a8c1-aad435322870"
      },
      "outputs": [
        {
          "name": "stdout",
          "output_type": "stream",
          "text": [
            "<class 'pandas.core.frame.DataFrame'>\n",
            "Int64Index: 89984 entries, 0 to 89983\n",
            "Data columns (total 8 columns):\n",
            " #   Column       Non-Null Count  Dtype \n",
            "---  ------       --------------  ----- \n",
            " 0   Fyear        89984 non-null  object\n",
            " 1   FQuarter     89984 non-null  int64 \n",
            " 2   ForceName    89984 non-null  object\n",
            " 3   OffDesc      89984 non-null  object\n",
            " 4   OffGroup     89984 non-null  object\n",
            " 5   OffSubgroup  89984 non-null  object\n",
            " 6   OffCode      89984 non-null  object\n",
            " 7   NoOff        89984 non-null  int64 \n",
            "dtypes: int64(2), object(6)\n",
            "memory usage: 6.2+ MB\n"
          ]
        }
      ],
      "source": [
        "Dataset1.info()"
      ]
    },
    {
      "cell_type": "markdown",
      "metadata": {
        "id": "yobwJN-nb67S"
      },
      "source": [
        "## **Dataset 2 - Offence Codes**"
      ]
    },
    {
      "cell_type": "markdown",
      "metadata": {
        "id": "bXPkM1eMT1Hg"
      },
      "source": [
        "### Load the dataset"
      ]
    },
    {
      "cell_type": "code",
      "execution_count": null,
      "metadata": {
        "colab": {
          "background_save": true
        },
        "id": "rY7kmNUPjNko",
        "outputId": "047fc991-e8a2-43e8-cf4c-e63463d93df8"
      },
      "outputs": [
        {
          "data": {
            "text/html": [
              "\n",
              "  <div id=\"df-f592415b-3d4c-4cac-9eaa-47d7862b9fb5\" class=\"colab-df-container\">\n",
              "    <div>\n",
              "<style scoped>\n",
              "    .dataframe tbody tr th:only-of-type {\n",
              "        vertical-align: middle;\n",
              "    }\n",
              "\n",
              "    .dataframe tbody tr th {\n",
              "        vertical-align: top;\n",
              "    }\n",
              "\n",
              "    .dataframe thead th {\n",
              "        text-align: right;\n",
              "    }\n",
              "</style>\n",
              "<table border=\"1\" class=\"dataframe\">\n",
              "  <thead>\n",
              "    <tr style=\"text-align: right;\">\n",
              "      <th></th>\n",
              "      <th>Offence Code</th>\n",
              "      <th>Offence description</th>\n",
              "      <th>Old PRC offence group</th>\n",
              "      <th>Old offence sub-group</th>\n",
              "      <th>New ONS offence group</th>\n",
              "      <th>New ONS sub-offence group</th>\n",
              "    </tr>\n",
              "  </thead>\n",
              "  <tbody>\n",
              "    <tr>\n",
              "      <th>0</th>\n",
              "      <td>1</td>\n",
              "      <td>Murder</td>\n",
              "      <td>Violence against the person</td>\n",
              "      <td>Violence against the person - with injury</td>\n",
              "      <td>Violence against the person</td>\n",
              "      <td>Homicide</td>\n",
              "    </tr>\n",
              "    <tr>\n",
              "      <th>1</th>\n",
              "      <td>1/4.1/4.2</td>\n",
              "      <td>Homicide</td>\n",
              "      <td>Violence against the person</td>\n",
              "      <td>Violence against the person - with injury</td>\n",
              "      <td>Violence against the person</td>\n",
              "      <td>Homicide</td>\n",
              "    </tr>\n",
              "    <tr>\n",
              "      <th>2</th>\n",
              "      <td>1/4.1/4.2/4.10</td>\n",
              "      <td>Homicide</td>\n",
              "      <td>Violence against the person</td>\n",
              "      <td>Violence against the person - with injury</td>\n",
              "      <td>Violence against the person</td>\n",
              "      <td>Homicide</td>\n",
              "    </tr>\n",
              "    <tr>\n",
              "      <th>3</th>\n",
              "      <td>104</td>\n",
              "      <td>Assault without injury on a constable</td>\n",
              "      <td>Violence against the person</td>\n",
              "      <td>Violence against the person - without injury</td>\n",
              "      <td>Violence against the person</td>\n",
              "      <td>Violence without injury</td>\n",
              "    </tr>\n",
              "    <tr>\n",
              "      <th>4</th>\n",
              "      <td>105A</td>\n",
              "      <td>Assault without injury</td>\n",
              "      <td>Violence against the person</td>\n",
              "      <td>Violence against the person - without injury</td>\n",
              "      <td>Violence against the person</td>\n",
              "      <td>Violence without injury</td>\n",
              "    </tr>\n",
              "  </tbody>\n",
              "</table>\n",
              "</div>\n",
              "    <div class=\"colab-df-buttons\">\n",
              "\n",
              "  <div class=\"colab-df-container\">\n",
              "    <button class=\"colab-df-convert\" onclick=\"convertToInteractive('df-f592415b-3d4c-4cac-9eaa-47d7862b9fb5')\"\n",
              "            title=\"Convert this dataframe to an interactive table.\"\n",
              "            style=\"display:none;\">\n",
              "\n",
              "  <svg xmlns=\"http://www.w3.org/2000/svg\" height=\"24px\" viewBox=\"0 -960 960 960\">\n",
              "    <path d=\"M120-120v-720h720v720H120Zm60-500h600v-160H180v160Zm220 220h160v-160H400v160Zm0 220h160v-160H400v160ZM180-400h160v-160H180v160Zm440 0h160v-160H620v160ZM180-180h160v-160H180v160Zm440 0h160v-160H620v160Z\"/>\n",
              "  </svg>\n",
              "    </button>\n",
              "\n",
              "  <style>\n",
              "    .colab-df-container {\n",
              "      display:flex;\n",
              "      gap: 12px;\n",
              "    }\n",
              "\n",
              "    .colab-df-convert {\n",
              "      background-color: #E8F0FE;\n",
              "      border: none;\n",
              "      border-radius: 50%;\n",
              "      cursor: pointer;\n",
              "      display: none;\n",
              "      fill: #1967D2;\n",
              "      height: 32px;\n",
              "      padding: 0 0 0 0;\n",
              "      width: 32px;\n",
              "    }\n",
              "\n",
              "    .colab-df-convert:hover {\n",
              "      background-color: #E2EBFA;\n",
              "      box-shadow: 0px 1px 2px rgba(60, 64, 67, 0.3), 0px 1px 3px 1px rgba(60, 64, 67, 0.15);\n",
              "      fill: #174EA6;\n",
              "    }\n",
              "\n",
              "    .colab-df-buttons div {\n",
              "      margin-bottom: 4px;\n",
              "    }\n",
              "\n",
              "    [theme=dark] .colab-df-convert {\n",
              "      background-color: #3B4455;\n",
              "      fill: #D2E3FC;\n",
              "    }\n",
              "\n",
              "    [theme=dark] .colab-df-convert:hover {\n",
              "      background-color: #434B5C;\n",
              "      box-shadow: 0px 1px 3px 1px rgba(0, 0, 0, 0.15);\n",
              "      filter: drop-shadow(0px 1px 2px rgba(0, 0, 0, 0.3));\n",
              "      fill: #FFFFFF;\n",
              "    }\n",
              "  </style>\n",
              "\n",
              "    <script>\n",
              "      const buttonEl =\n",
              "        document.querySelector('#df-f592415b-3d4c-4cac-9eaa-47d7862b9fb5 button.colab-df-convert');\n",
              "      buttonEl.style.display =\n",
              "        google.colab.kernel.accessAllowed ? 'block' : 'none';\n",
              "\n",
              "      async function convertToInteractive(key) {\n",
              "        const element = document.querySelector('#df-f592415b-3d4c-4cac-9eaa-47d7862b9fb5');\n",
              "        const dataTable =\n",
              "          await google.colab.kernel.invokeFunction('convertToInteractive',\n",
              "                                                    [key], {});\n",
              "        if (!dataTable) return;\n",
              "\n",
              "        const docLinkHtml = 'Like what you see? Visit the ' +\n",
              "          '<a target=\"_blank\" href=https://colab.research.google.com/notebooks/data_table.ipynb>data table notebook</a>'\n",
              "          + ' to learn more about interactive tables.';\n",
              "        element.innerHTML = '';\n",
              "        dataTable['output_type'] = 'display_data';\n",
              "        await google.colab.output.renderOutput(dataTable, element);\n",
              "        const docLink = document.createElement('div');\n",
              "        docLink.innerHTML = docLinkHtml;\n",
              "        element.appendChild(docLink);\n",
              "      }\n",
              "    </script>\n",
              "  </div>\n",
              "\n",
              "\n",
              "<div id=\"df-e6c81a52-7b8a-4807-a181-015165d7370f\">\n",
              "  <button class=\"colab-df-quickchart\" onclick=\"quickchart('df-e6c81a52-7b8a-4807-a181-015165d7370f')\"\n",
              "            title=\"Suggest charts\"\n",
              "            style=\"display:none;\">\n",
              "\n",
              "<svg xmlns=\"http://www.w3.org/2000/svg\" height=\"24px\"viewBox=\"0 0 24 24\"\n",
              "     width=\"24px\">\n",
              "    <g>\n",
              "        <path d=\"M19 3H5c-1.1 0-2 .9-2 2v14c0 1.1.9 2 2 2h14c1.1 0 2-.9 2-2V5c0-1.1-.9-2-2-2zM9 17H7v-7h2v7zm4 0h-2V7h2v10zm4 0h-2v-4h2v4z\"/>\n",
              "    </g>\n",
              "</svg>\n",
              "  </button>\n",
              "\n",
              "<style>\n",
              "  .colab-df-quickchart {\n",
              "      --bg-color: #E8F0FE;\n",
              "      --fill-color: #1967D2;\n",
              "      --hover-bg-color: #E2EBFA;\n",
              "      --hover-fill-color: #174EA6;\n",
              "      --disabled-fill-color: #AAA;\n",
              "      --disabled-bg-color: #DDD;\n",
              "  }\n",
              "\n",
              "  [theme=dark] .colab-df-quickchart {\n",
              "      --bg-color: #3B4455;\n",
              "      --fill-color: #D2E3FC;\n",
              "      --hover-bg-color: #434B5C;\n",
              "      --hover-fill-color: #FFFFFF;\n",
              "      --disabled-bg-color: #3B4455;\n",
              "      --disabled-fill-color: #666;\n",
              "  }\n",
              "\n",
              "  .colab-df-quickchart {\n",
              "    background-color: var(--bg-color);\n",
              "    border: none;\n",
              "    border-radius: 50%;\n",
              "    cursor: pointer;\n",
              "    display: none;\n",
              "    fill: var(--fill-color);\n",
              "    height: 32px;\n",
              "    padding: 0;\n",
              "    width: 32px;\n",
              "  }\n",
              "\n",
              "  .colab-df-quickchart:hover {\n",
              "    background-color: var(--hover-bg-color);\n",
              "    box-shadow: 0 1px 2px rgba(60, 64, 67, 0.3), 0 1px 3px 1px rgba(60, 64, 67, 0.15);\n",
              "    fill: var(--button-hover-fill-color);\n",
              "  }\n",
              "\n",
              "  .colab-df-quickchart-complete:disabled,\n",
              "  .colab-df-quickchart-complete:disabled:hover {\n",
              "    background-color: var(--disabled-bg-color);\n",
              "    fill: var(--disabled-fill-color);\n",
              "    box-shadow: none;\n",
              "  }\n",
              "\n",
              "  .colab-df-spinner {\n",
              "    border: 2px solid var(--fill-color);\n",
              "    border-color: transparent;\n",
              "    border-bottom-color: var(--fill-color);\n",
              "    animation:\n",
              "      spin 1s steps(1) infinite;\n",
              "  }\n",
              "\n",
              "  @keyframes spin {\n",
              "    0% {\n",
              "      border-color: transparent;\n",
              "      border-bottom-color: var(--fill-color);\n",
              "      border-left-color: var(--fill-color);\n",
              "    }\n",
              "    20% {\n",
              "      border-color: transparent;\n",
              "      border-left-color: var(--fill-color);\n",
              "      border-top-color: var(--fill-color);\n",
              "    }\n",
              "    30% {\n",
              "      border-color: transparent;\n",
              "      border-left-color: var(--fill-color);\n",
              "      border-top-color: var(--fill-color);\n",
              "      border-right-color: var(--fill-color);\n",
              "    }\n",
              "    40% {\n",
              "      border-color: transparent;\n",
              "      border-right-color: var(--fill-color);\n",
              "      border-top-color: var(--fill-color);\n",
              "    }\n",
              "    60% {\n",
              "      border-color: transparent;\n",
              "      border-right-color: var(--fill-color);\n",
              "    }\n",
              "    80% {\n",
              "      border-color: transparent;\n",
              "      border-right-color: var(--fill-color);\n",
              "      border-bottom-color: var(--fill-color);\n",
              "    }\n",
              "    90% {\n",
              "      border-color: transparent;\n",
              "      border-bottom-color: var(--fill-color);\n",
              "    }\n",
              "  }\n",
              "</style>\n",
              "\n",
              "  <script>\n",
              "    async function quickchart(key) {\n",
              "      const quickchartButtonEl =\n",
              "        document.querySelector('#' + key + ' button');\n",
              "      quickchartButtonEl.disabled = true;  // To prevent multiple clicks.\n",
              "      quickchartButtonEl.classList.add('colab-df-spinner');\n",
              "      try {\n",
              "        const charts = await google.colab.kernel.invokeFunction(\n",
              "            'suggestCharts', [key], {});\n",
              "      } catch (error) {\n",
              "        console.error('Error during call to suggestCharts:', error);\n",
              "      }\n",
              "      quickchartButtonEl.classList.remove('colab-df-spinner');\n",
              "      quickchartButtonEl.classList.add('colab-df-quickchart-complete');\n",
              "    }\n",
              "    (() => {\n",
              "      let quickchartButtonEl =\n",
              "        document.querySelector('#df-e6c81a52-7b8a-4807-a181-015165d7370f button');\n",
              "      quickchartButtonEl.style.display =\n",
              "        google.colab.kernel.accessAllowed ? 'block' : 'none';\n",
              "    })();\n",
              "  </script>\n",
              "</div>\n",
              "    </div>\n",
              "  </div>\n"
            ],
            "text/plain": [
              "     Offence Code                    Offence description  \\\n",
              "0               1                                 Murder   \n",
              "1       1/4.1/4.2                               Homicide   \n",
              "2  1/4.1/4.2/4.10                               Homicide   \n",
              "3             104  Assault without injury on a constable   \n",
              "4            105A                 Assault without injury   \n",
              "\n",
              "         Old PRC offence group                         Old offence sub-group  \\\n",
              "0  Violence against the person     Violence against the person - with injury   \n",
              "1  Violence against the person     Violence against the person - with injury   \n",
              "2  Violence against the person     Violence against the person - with injury   \n",
              "3  Violence against the person  Violence against the person - without injury   \n",
              "4  Violence against the person  Violence against the person - without injury   \n",
              "\n",
              "         New ONS offence group New ONS sub-offence group  \n",
              "0  Violence against the person                  Homicide  \n",
              "1  Violence against the person                  Homicide  \n",
              "2  Violence against the person                  Homicide  \n",
              "3  Violence against the person   Violence without injury  \n",
              "4  Violence against the person   Violence without injury  "
            ]
          },
          "execution_count": 34,
          "metadata": {},
          "output_type": "execute_result"
        }
      ],
      "source": [
        "dataset2 = pd.read_excel(\"/content/drive/MyDrive/Colab Notebooks/Assignment 2/Dataset OC.ods\") #read the dataset\n",
        "dataset2.head(5)"
      ]
    },
    {
      "cell_type": "code",
      "execution_count": null,
      "metadata": {
        "colab": {
          "background_save": true
        },
        "id": "kbb7cHhEkWJH",
        "outputId": "2cbea7ff-2470-4110-9245-7ad5f0d7de29"
      },
      "outputs": [
        {
          "data": {
            "text/plain": [
              "(198, 6)"
            ]
          },
          "execution_count": 35,
          "metadata": {},
          "output_type": "execute_result"
        }
      ],
      "source": [
        "dataset2.shape"
      ]
    },
    {
      "cell_type": "markdown",
      "metadata": {
        "id": "UdJAbsVXUEPV"
      },
      "source": [
        "### Rename the *Columns*"
      ]
    },
    {
      "cell_type": "code",
      "execution_count": null,
      "metadata": {
        "colab": {
          "background_save": true
        },
        "id": "SwLnutDCy2NE",
        "outputId": "869bba34-0731-4751-c8be-d549de5fbfbb"
      },
      "outputs": [
        {
          "data": {
            "text/plain": [
              "Index(['Offence Code', 'Offence description', 'Old PRC offence group',\n",
              "       'Old offence sub-group', 'New ONS offence group',\n",
              "       'New ONS sub-offence group'],\n",
              "      dtype='object')"
            ]
          },
          "execution_count": 36,
          "metadata": {},
          "output_type": "execute_result"
        }
      ],
      "source": [
        "dataset2.columns"
      ]
    },
    {
      "cell_type": "code",
      "execution_count": null,
      "metadata": {
        "colab": {
          "background_save": true
        },
        "id": "GsVx1Bx7zCjB",
        "outputId": "3ca9d900-90f4-400f-e735-8bc811cf7e61"
      },
      "outputs": [
        {
          "data": {
            "text/plain": [
              "Index(['Offencecode', 'Offdescription', 'oldOffGroup', 'oldOffsubGroup',\n",
              "       'newOffGroup', 'noSGroup'],\n",
              "      dtype='object')"
            ]
          },
          "execution_count": 37,
          "metadata": {},
          "output_type": "execute_result"
        }
      ],
      "source": [
        "dataset2.rename(columns={\n",
        "    'Offence Code': 'Offencecode',\n",
        "    'Offence description': 'Offdescription',\n",
        "    'Old PRC offence group': 'oldOffGroup',\n",
        "    'Old offence sub-group': 'oldOffsubGroup',\n",
        "    'New ONS offence group': 'newOffGroup',\n",
        "    'New ONS sub-offence group': 'noSGroup'\n",
        "    }, inplace=True)\n",
        "\n",
        "dataset2.columns"
      ]
    },
    {
      "cell_type": "code",
      "execution_count": null,
      "metadata": {
        "colab": {
          "background_save": true
        },
        "id": "jycpruijFyke",
        "outputId": "9f26c6c5-960f-4845-f101-48d27660e9f5"
      },
      "outputs": [
        {
          "data": {
            "text/html": [
              "\n",
              "  <div id=\"df-7886faf9-8b28-4bdd-afb5-f1f9f20a6942\" class=\"colab-df-container\">\n",
              "    <div>\n",
              "<style scoped>\n",
              "    .dataframe tbody tr th:only-of-type {\n",
              "        vertical-align: middle;\n",
              "    }\n",
              "\n",
              "    .dataframe tbody tr th {\n",
              "        vertical-align: top;\n",
              "    }\n",
              "\n",
              "    .dataframe thead th {\n",
              "        text-align: right;\n",
              "    }\n",
              "</style>\n",
              "<table border=\"1\" class=\"dataframe\">\n",
              "  <thead>\n",
              "    <tr style=\"text-align: right;\">\n",
              "      <th></th>\n",
              "      <th>Offencecode</th>\n",
              "      <th>Offdescription</th>\n",
              "      <th>oldOffGroup</th>\n",
              "      <th>oldOffsubGroup</th>\n",
              "      <th>newOffGroup</th>\n",
              "      <th>noSGroup</th>\n",
              "    </tr>\n",
              "  </thead>\n",
              "  <tbody>\n",
              "    <tr>\n",
              "      <th>193</th>\n",
              "      <td>99</td>\n",
              "      <td>Other notifiable offences</td>\n",
              "      <td>Other miscellaneous offences</td>\n",
              "      <td>NaN</td>\n",
              "      <td>Miscellaneous crimes against society</td>\n",
              "      <td>Miscellaneous crimes against society</td>\n",
              "    </tr>\n",
              "    <tr>\n",
              "      <th>194</th>\n",
              "      <td>9A</td>\n",
              "      <td>Public fear, alarm or distress</td>\n",
              "      <td>Violence against the person</td>\n",
              "      <td>Violence against the person - without injury</td>\n",
              "      <td>Public order offences</td>\n",
              "      <td>Public order offences</td>\n",
              "    </tr>\n",
              "    <tr>\n",
              "      <th>195</th>\n",
              "      <td>9B</td>\n",
              "      <td>Racially or religiously aggravated public fear...</td>\n",
              "      <td>Violence against the person</td>\n",
              "      <td>Violence against the person - without injury</td>\n",
              "      <td>Public order offences</td>\n",
              "      <td>Public order offences</td>\n",
              "    </tr>\n",
              "    <tr>\n",
              "      <th>196</th>\n",
              "      <td>NaN</td>\n",
              "      <td>NaN</td>\n",
              "      <td>NaN</td>\n",
              "      <td>NaN</td>\n",
              "      <td>NaN</td>\n",
              "      <td>NaN</td>\n",
              "    </tr>\n",
              "    <tr>\n",
              "      <th>197</th>\n",
              "      <td>* These offences were introduced after 31 Marc...</td>\n",
              "      <td>NaN</td>\n",
              "      <td>NaN</td>\n",
              "      <td>NaN</td>\n",
              "      <td>NaN</td>\n",
              "      <td>NaN</td>\n",
              "    </tr>\n",
              "  </tbody>\n",
              "</table>\n",
              "</div>\n",
              "    <div class=\"colab-df-buttons\">\n",
              "\n",
              "  <div class=\"colab-df-container\">\n",
              "    <button class=\"colab-df-convert\" onclick=\"convertToInteractive('df-7886faf9-8b28-4bdd-afb5-f1f9f20a6942')\"\n",
              "            title=\"Convert this dataframe to an interactive table.\"\n",
              "            style=\"display:none;\">\n",
              "\n",
              "  <svg xmlns=\"http://www.w3.org/2000/svg\" height=\"24px\" viewBox=\"0 -960 960 960\">\n",
              "    <path d=\"M120-120v-720h720v720H120Zm60-500h600v-160H180v160Zm220 220h160v-160H400v160Zm0 220h160v-160H400v160ZM180-400h160v-160H180v160Zm440 0h160v-160H620v160ZM180-180h160v-160H180v160Zm440 0h160v-160H620v160Z\"/>\n",
              "  </svg>\n",
              "    </button>\n",
              "\n",
              "  <style>\n",
              "    .colab-df-container {\n",
              "      display:flex;\n",
              "      gap: 12px;\n",
              "    }\n",
              "\n",
              "    .colab-df-convert {\n",
              "      background-color: #E8F0FE;\n",
              "      border: none;\n",
              "      border-radius: 50%;\n",
              "      cursor: pointer;\n",
              "      display: none;\n",
              "      fill: #1967D2;\n",
              "      height: 32px;\n",
              "      padding: 0 0 0 0;\n",
              "      width: 32px;\n",
              "    }\n",
              "\n",
              "    .colab-df-convert:hover {\n",
              "      background-color: #E2EBFA;\n",
              "      box-shadow: 0px 1px 2px rgba(60, 64, 67, 0.3), 0px 1px 3px 1px rgba(60, 64, 67, 0.15);\n",
              "      fill: #174EA6;\n",
              "    }\n",
              "\n",
              "    .colab-df-buttons div {\n",
              "      margin-bottom: 4px;\n",
              "    }\n",
              "\n",
              "    [theme=dark] .colab-df-convert {\n",
              "      background-color: #3B4455;\n",
              "      fill: #D2E3FC;\n",
              "    }\n",
              "\n",
              "    [theme=dark] .colab-df-convert:hover {\n",
              "      background-color: #434B5C;\n",
              "      box-shadow: 0px 1px 3px 1px rgba(0, 0, 0, 0.15);\n",
              "      filter: drop-shadow(0px 1px 2px rgba(0, 0, 0, 0.3));\n",
              "      fill: #FFFFFF;\n",
              "    }\n",
              "  </style>\n",
              "\n",
              "    <script>\n",
              "      const buttonEl =\n",
              "        document.querySelector('#df-7886faf9-8b28-4bdd-afb5-f1f9f20a6942 button.colab-df-convert');\n",
              "      buttonEl.style.display =\n",
              "        google.colab.kernel.accessAllowed ? 'block' : 'none';\n",
              "\n",
              "      async function convertToInteractive(key) {\n",
              "        const element = document.querySelector('#df-7886faf9-8b28-4bdd-afb5-f1f9f20a6942');\n",
              "        const dataTable =\n",
              "          await google.colab.kernel.invokeFunction('convertToInteractive',\n",
              "                                                    [key], {});\n",
              "        if (!dataTable) return;\n",
              "\n",
              "        const docLinkHtml = 'Like what you see? Visit the ' +\n",
              "          '<a target=\"_blank\" href=https://colab.research.google.com/notebooks/data_table.ipynb>data table notebook</a>'\n",
              "          + ' to learn more about interactive tables.';\n",
              "        element.innerHTML = '';\n",
              "        dataTable['output_type'] = 'display_data';\n",
              "        await google.colab.output.renderOutput(dataTable, element);\n",
              "        const docLink = document.createElement('div');\n",
              "        docLink.innerHTML = docLinkHtml;\n",
              "        element.appendChild(docLink);\n",
              "      }\n",
              "    </script>\n",
              "  </div>\n",
              "\n",
              "\n",
              "<div id=\"df-c3010f1c-1a54-44a4-aacb-8780ded1e2fb\">\n",
              "  <button class=\"colab-df-quickchart\" onclick=\"quickchart('df-c3010f1c-1a54-44a4-aacb-8780ded1e2fb')\"\n",
              "            title=\"Suggest charts\"\n",
              "            style=\"display:none;\">\n",
              "\n",
              "<svg xmlns=\"http://www.w3.org/2000/svg\" height=\"24px\"viewBox=\"0 0 24 24\"\n",
              "     width=\"24px\">\n",
              "    <g>\n",
              "        <path d=\"M19 3H5c-1.1 0-2 .9-2 2v14c0 1.1.9 2 2 2h14c1.1 0 2-.9 2-2V5c0-1.1-.9-2-2-2zM9 17H7v-7h2v7zm4 0h-2V7h2v10zm4 0h-2v-4h2v4z\"/>\n",
              "    </g>\n",
              "</svg>\n",
              "  </button>\n",
              "\n",
              "<style>\n",
              "  .colab-df-quickchart {\n",
              "      --bg-color: #E8F0FE;\n",
              "      --fill-color: #1967D2;\n",
              "      --hover-bg-color: #E2EBFA;\n",
              "      --hover-fill-color: #174EA6;\n",
              "      --disabled-fill-color: #AAA;\n",
              "      --disabled-bg-color: #DDD;\n",
              "  }\n",
              "\n",
              "  [theme=dark] .colab-df-quickchart {\n",
              "      --bg-color: #3B4455;\n",
              "      --fill-color: #D2E3FC;\n",
              "      --hover-bg-color: #434B5C;\n",
              "      --hover-fill-color: #FFFFFF;\n",
              "      --disabled-bg-color: #3B4455;\n",
              "      --disabled-fill-color: #666;\n",
              "  }\n",
              "\n",
              "  .colab-df-quickchart {\n",
              "    background-color: var(--bg-color);\n",
              "    border: none;\n",
              "    border-radius: 50%;\n",
              "    cursor: pointer;\n",
              "    display: none;\n",
              "    fill: var(--fill-color);\n",
              "    height: 32px;\n",
              "    padding: 0;\n",
              "    width: 32px;\n",
              "  }\n",
              "\n",
              "  .colab-df-quickchart:hover {\n",
              "    background-color: var(--hover-bg-color);\n",
              "    box-shadow: 0 1px 2px rgba(60, 64, 67, 0.3), 0 1px 3px 1px rgba(60, 64, 67, 0.15);\n",
              "    fill: var(--button-hover-fill-color);\n",
              "  }\n",
              "\n",
              "  .colab-df-quickchart-complete:disabled,\n",
              "  .colab-df-quickchart-complete:disabled:hover {\n",
              "    background-color: var(--disabled-bg-color);\n",
              "    fill: var(--disabled-fill-color);\n",
              "    box-shadow: none;\n",
              "  }\n",
              "\n",
              "  .colab-df-spinner {\n",
              "    border: 2px solid var(--fill-color);\n",
              "    border-color: transparent;\n",
              "    border-bottom-color: var(--fill-color);\n",
              "    animation:\n",
              "      spin 1s steps(1) infinite;\n",
              "  }\n",
              "\n",
              "  @keyframes spin {\n",
              "    0% {\n",
              "      border-color: transparent;\n",
              "      border-bottom-color: var(--fill-color);\n",
              "      border-left-color: var(--fill-color);\n",
              "    }\n",
              "    20% {\n",
              "      border-color: transparent;\n",
              "      border-left-color: var(--fill-color);\n",
              "      border-top-color: var(--fill-color);\n",
              "    }\n",
              "    30% {\n",
              "      border-color: transparent;\n",
              "      border-left-color: var(--fill-color);\n",
              "      border-top-color: var(--fill-color);\n",
              "      border-right-color: var(--fill-color);\n",
              "    }\n",
              "    40% {\n",
              "      border-color: transparent;\n",
              "      border-right-color: var(--fill-color);\n",
              "      border-top-color: var(--fill-color);\n",
              "    }\n",
              "    60% {\n",
              "      border-color: transparent;\n",
              "      border-right-color: var(--fill-color);\n",
              "    }\n",
              "    80% {\n",
              "      border-color: transparent;\n",
              "      border-right-color: var(--fill-color);\n",
              "      border-bottom-color: var(--fill-color);\n",
              "    }\n",
              "    90% {\n",
              "      border-color: transparent;\n",
              "      border-bottom-color: var(--fill-color);\n",
              "    }\n",
              "  }\n",
              "</style>\n",
              "\n",
              "  <script>\n",
              "    async function quickchart(key) {\n",
              "      const quickchartButtonEl =\n",
              "        document.querySelector('#' + key + ' button');\n",
              "      quickchartButtonEl.disabled = true;  // To prevent multiple clicks.\n",
              "      quickchartButtonEl.classList.add('colab-df-spinner');\n",
              "      try {\n",
              "        const charts = await google.colab.kernel.invokeFunction(\n",
              "            'suggestCharts', [key], {});\n",
              "      } catch (error) {\n",
              "        console.error('Error during call to suggestCharts:', error);\n",
              "      }\n",
              "      quickchartButtonEl.classList.remove('colab-df-spinner');\n",
              "      quickchartButtonEl.classList.add('colab-df-quickchart-complete');\n",
              "    }\n",
              "    (() => {\n",
              "      let quickchartButtonEl =\n",
              "        document.querySelector('#df-c3010f1c-1a54-44a4-aacb-8780ded1e2fb button');\n",
              "      quickchartButtonEl.style.display =\n",
              "        google.colab.kernel.accessAllowed ? 'block' : 'none';\n",
              "    })();\n",
              "  </script>\n",
              "</div>\n",
              "    </div>\n",
              "  </div>\n"
            ],
            "text/plain": [
              "                                           Offencecode  \\\n",
              "193                                                 99   \n",
              "194                                                 9A   \n",
              "195                                                 9B   \n",
              "196                                                NaN   \n",
              "197  * These offences were introduced after 31 Marc...   \n",
              "\n",
              "                                        Offdescription  \\\n",
              "193                          Other notifiable offences   \n",
              "194                     Public fear, alarm or distress   \n",
              "195  Racially or religiously aggravated public fear...   \n",
              "196                                                NaN   \n",
              "197                                                NaN   \n",
              "\n",
              "                      oldOffGroup  \\\n",
              "193  Other miscellaneous offences   \n",
              "194   Violence against the person   \n",
              "195   Violence against the person   \n",
              "196                           NaN   \n",
              "197                           NaN   \n",
              "\n",
              "                                   oldOffsubGroup  \\\n",
              "193                                           NaN   \n",
              "194  Violence against the person - without injury   \n",
              "195  Violence against the person - without injury   \n",
              "196                                           NaN   \n",
              "197                                           NaN   \n",
              "\n",
              "                              newOffGroup  \\\n",
              "193  Miscellaneous crimes against society   \n",
              "194                 Public order offences   \n",
              "195                 Public order offences   \n",
              "196                                   NaN   \n",
              "197                                   NaN   \n",
              "\n",
              "                                 noSGroup  \n",
              "193  Miscellaneous crimes against society  \n",
              "194                 Public order offences  \n",
              "195                 Public order offences  \n",
              "196                                   NaN  \n",
              "197                                   NaN  "
            ]
          },
          "execution_count": 38,
          "metadata": {},
          "output_type": "execute_result"
        }
      ],
      "source": [
        "dataset2.tail(5)"
      ]
    },
    {
      "cell_type": "markdown",
      "metadata": {
        "id": "naTkTVv4UNMy"
      },
      "source": [
        "### Create a copy of dataset"
      ]
    },
    {
      "cell_type": "code",
      "execution_count": null,
      "metadata": {
        "colab": {
          "background_save": true
        },
        "id": "rN2wJegA_lVJ",
        "outputId": "ca318b1e-4f4e-4532-9e97-13fe6ef82de4"
      },
      "outputs": [
        {
          "data": {
            "text/html": [
              "\n",
              "  <div id=\"df-9c7f26e9-3955-4447-8698-7237c63316e9\" class=\"colab-df-container\">\n",
              "    <div>\n",
              "<style scoped>\n",
              "    .dataframe tbody tr th:only-of-type {\n",
              "        vertical-align: middle;\n",
              "    }\n",
              "\n",
              "    .dataframe tbody tr th {\n",
              "        vertical-align: top;\n",
              "    }\n",
              "\n",
              "    .dataframe thead th {\n",
              "        text-align: right;\n",
              "    }\n",
              "</style>\n",
              "<table border=\"1\" class=\"dataframe\">\n",
              "  <thead>\n",
              "    <tr style=\"text-align: right;\">\n",
              "      <th></th>\n",
              "      <th>Offencecode</th>\n",
              "      <th>Offdescription</th>\n",
              "      <th>oldOffGroup</th>\n",
              "      <th>oldOffsubGroup</th>\n",
              "      <th>newOffGroup</th>\n",
              "      <th>noSGroup</th>\n",
              "    </tr>\n",
              "  </thead>\n",
              "  <tbody>\n",
              "    <tr>\n",
              "      <th>0</th>\n",
              "      <td>1</td>\n",
              "      <td>Murder</td>\n",
              "      <td>Violence against the person</td>\n",
              "      <td>Violence against the person - with injury</td>\n",
              "      <td>Violence against the person</td>\n",
              "      <td>Homicide</td>\n",
              "    </tr>\n",
              "    <tr>\n",
              "      <th>1</th>\n",
              "      <td>1/4.1/4.2</td>\n",
              "      <td>Homicide</td>\n",
              "      <td>Violence against the person</td>\n",
              "      <td>Violence against the person - with injury</td>\n",
              "      <td>Violence against the person</td>\n",
              "      <td>Homicide</td>\n",
              "    </tr>\n",
              "    <tr>\n",
              "      <th>2</th>\n",
              "      <td>1/4.1/4.2/4.10</td>\n",
              "      <td>Homicide</td>\n",
              "      <td>Violence against the person</td>\n",
              "      <td>Violence against the person - with injury</td>\n",
              "      <td>Violence against the person</td>\n",
              "      <td>Homicide</td>\n",
              "    </tr>\n",
              "    <tr>\n",
              "      <th>3</th>\n",
              "      <td>104</td>\n",
              "      <td>Assault without injury on a constable</td>\n",
              "      <td>Violence against the person</td>\n",
              "      <td>Violence against the person - without injury</td>\n",
              "      <td>Violence against the person</td>\n",
              "      <td>Violence without injury</td>\n",
              "    </tr>\n",
              "    <tr>\n",
              "      <th>4</th>\n",
              "      <td>105A</td>\n",
              "      <td>Assault without injury</td>\n",
              "      <td>Violence against the person</td>\n",
              "      <td>Violence against the person - without injury</td>\n",
              "      <td>Violence against the person</td>\n",
              "      <td>Violence without injury</td>\n",
              "    </tr>\n",
              "  </tbody>\n",
              "</table>\n",
              "</div>\n",
              "    <div class=\"colab-df-buttons\">\n",
              "\n",
              "  <div class=\"colab-df-container\">\n",
              "    <button class=\"colab-df-convert\" onclick=\"convertToInteractive('df-9c7f26e9-3955-4447-8698-7237c63316e9')\"\n",
              "            title=\"Convert this dataframe to an interactive table.\"\n",
              "            style=\"display:none;\">\n",
              "\n",
              "  <svg xmlns=\"http://www.w3.org/2000/svg\" height=\"24px\" viewBox=\"0 -960 960 960\">\n",
              "    <path d=\"M120-120v-720h720v720H120Zm60-500h600v-160H180v160Zm220 220h160v-160H400v160Zm0 220h160v-160H400v160ZM180-400h160v-160H180v160Zm440 0h160v-160H620v160ZM180-180h160v-160H180v160Zm440 0h160v-160H620v160Z\"/>\n",
              "  </svg>\n",
              "    </button>\n",
              "\n",
              "  <style>\n",
              "    .colab-df-container {\n",
              "      display:flex;\n",
              "      gap: 12px;\n",
              "    }\n",
              "\n",
              "    .colab-df-convert {\n",
              "      background-color: #E8F0FE;\n",
              "      border: none;\n",
              "      border-radius: 50%;\n",
              "      cursor: pointer;\n",
              "      display: none;\n",
              "      fill: #1967D2;\n",
              "      height: 32px;\n",
              "      padding: 0 0 0 0;\n",
              "      width: 32px;\n",
              "    }\n",
              "\n",
              "    .colab-df-convert:hover {\n",
              "      background-color: #E2EBFA;\n",
              "      box-shadow: 0px 1px 2px rgba(60, 64, 67, 0.3), 0px 1px 3px 1px rgba(60, 64, 67, 0.15);\n",
              "      fill: #174EA6;\n",
              "    }\n",
              "\n",
              "    .colab-df-buttons div {\n",
              "      margin-bottom: 4px;\n",
              "    }\n",
              "\n",
              "    [theme=dark] .colab-df-convert {\n",
              "      background-color: #3B4455;\n",
              "      fill: #D2E3FC;\n",
              "    }\n",
              "\n",
              "    [theme=dark] .colab-df-convert:hover {\n",
              "      background-color: #434B5C;\n",
              "      box-shadow: 0px 1px 3px 1px rgba(0, 0, 0, 0.15);\n",
              "      filter: drop-shadow(0px 1px 2px rgba(0, 0, 0, 0.3));\n",
              "      fill: #FFFFFF;\n",
              "    }\n",
              "  </style>\n",
              "\n",
              "    <script>\n",
              "      const buttonEl =\n",
              "        document.querySelector('#df-9c7f26e9-3955-4447-8698-7237c63316e9 button.colab-df-convert');\n",
              "      buttonEl.style.display =\n",
              "        google.colab.kernel.accessAllowed ? 'block' : 'none';\n",
              "\n",
              "      async function convertToInteractive(key) {\n",
              "        const element = document.querySelector('#df-9c7f26e9-3955-4447-8698-7237c63316e9');\n",
              "        const dataTable =\n",
              "          await google.colab.kernel.invokeFunction('convertToInteractive',\n",
              "                                                    [key], {});\n",
              "        if (!dataTable) return;\n",
              "\n",
              "        const docLinkHtml = 'Like what you see? Visit the ' +\n",
              "          '<a target=\"_blank\" href=https://colab.research.google.com/notebooks/data_table.ipynb>data table notebook</a>'\n",
              "          + ' to learn more about interactive tables.';\n",
              "        element.innerHTML = '';\n",
              "        dataTable['output_type'] = 'display_data';\n",
              "        await google.colab.output.renderOutput(dataTable, element);\n",
              "        const docLink = document.createElement('div');\n",
              "        docLink.innerHTML = docLinkHtml;\n",
              "        element.appendChild(docLink);\n",
              "      }\n",
              "    </script>\n",
              "  </div>\n",
              "\n",
              "\n",
              "<div id=\"df-d9648920-f704-43d0-8fd8-937c037b063d\">\n",
              "  <button class=\"colab-df-quickchart\" onclick=\"quickchart('df-d9648920-f704-43d0-8fd8-937c037b063d')\"\n",
              "            title=\"Suggest charts\"\n",
              "            style=\"display:none;\">\n",
              "\n",
              "<svg xmlns=\"http://www.w3.org/2000/svg\" height=\"24px\"viewBox=\"0 0 24 24\"\n",
              "     width=\"24px\">\n",
              "    <g>\n",
              "        <path d=\"M19 3H5c-1.1 0-2 .9-2 2v14c0 1.1.9 2 2 2h14c1.1 0 2-.9 2-2V5c0-1.1-.9-2-2-2zM9 17H7v-7h2v7zm4 0h-2V7h2v10zm4 0h-2v-4h2v4z\"/>\n",
              "    </g>\n",
              "</svg>\n",
              "  </button>\n",
              "\n",
              "<style>\n",
              "  .colab-df-quickchart {\n",
              "      --bg-color: #E8F0FE;\n",
              "      --fill-color: #1967D2;\n",
              "      --hover-bg-color: #E2EBFA;\n",
              "      --hover-fill-color: #174EA6;\n",
              "      --disabled-fill-color: #AAA;\n",
              "      --disabled-bg-color: #DDD;\n",
              "  }\n",
              "\n",
              "  [theme=dark] .colab-df-quickchart {\n",
              "      --bg-color: #3B4455;\n",
              "      --fill-color: #D2E3FC;\n",
              "      --hover-bg-color: #434B5C;\n",
              "      --hover-fill-color: #FFFFFF;\n",
              "      --disabled-bg-color: #3B4455;\n",
              "      --disabled-fill-color: #666;\n",
              "  }\n",
              "\n",
              "  .colab-df-quickchart {\n",
              "    background-color: var(--bg-color);\n",
              "    border: none;\n",
              "    border-radius: 50%;\n",
              "    cursor: pointer;\n",
              "    display: none;\n",
              "    fill: var(--fill-color);\n",
              "    height: 32px;\n",
              "    padding: 0;\n",
              "    width: 32px;\n",
              "  }\n",
              "\n",
              "  .colab-df-quickchart:hover {\n",
              "    background-color: var(--hover-bg-color);\n",
              "    box-shadow: 0 1px 2px rgba(60, 64, 67, 0.3), 0 1px 3px 1px rgba(60, 64, 67, 0.15);\n",
              "    fill: var(--button-hover-fill-color);\n",
              "  }\n",
              "\n",
              "  .colab-df-quickchart-complete:disabled,\n",
              "  .colab-df-quickchart-complete:disabled:hover {\n",
              "    background-color: var(--disabled-bg-color);\n",
              "    fill: var(--disabled-fill-color);\n",
              "    box-shadow: none;\n",
              "  }\n",
              "\n",
              "  .colab-df-spinner {\n",
              "    border: 2px solid var(--fill-color);\n",
              "    border-color: transparent;\n",
              "    border-bottom-color: var(--fill-color);\n",
              "    animation:\n",
              "      spin 1s steps(1) infinite;\n",
              "  }\n",
              "\n",
              "  @keyframes spin {\n",
              "    0% {\n",
              "      border-color: transparent;\n",
              "      border-bottom-color: var(--fill-color);\n",
              "      border-left-color: var(--fill-color);\n",
              "    }\n",
              "    20% {\n",
              "      border-color: transparent;\n",
              "      border-left-color: var(--fill-color);\n",
              "      border-top-color: var(--fill-color);\n",
              "    }\n",
              "    30% {\n",
              "      border-color: transparent;\n",
              "      border-left-color: var(--fill-color);\n",
              "      border-top-color: var(--fill-color);\n",
              "      border-right-color: var(--fill-color);\n",
              "    }\n",
              "    40% {\n",
              "      border-color: transparent;\n",
              "      border-right-color: var(--fill-color);\n",
              "      border-top-color: var(--fill-color);\n",
              "    }\n",
              "    60% {\n",
              "      border-color: transparent;\n",
              "      border-right-color: var(--fill-color);\n",
              "    }\n",
              "    80% {\n",
              "      border-color: transparent;\n",
              "      border-right-color: var(--fill-color);\n",
              "      border-bottom-color: var(--fill-color);\n",
              "    }\n",
              "    90% {\n",
              "      border-color: transparent;\n",
              "      border-bottom-color: var(--fill-color);\n",
              "    }\n",
              "  }\n",
              "</style>\n",
              "\n",
              "  <script>\n",
              "    async function quickchart(key) {\n",
              "      const quickchartButtonEl =\n",
              "        document.querySelector('#' + key + ' button');\n",
              "      quickchartButtonEl.disabled = true;  // To prevent multiple clicks.\n",
              "      quickchartButtonEl.classList.add('colab-df-spinner');\n",
              "      try {\n",
              "        const charts = await google.colab.kernel.invokeFunction(\n",
              "            'suggestCharts', [key], {});\n",
              "      } catch (error) {\n",
              "        console.error('Error during call to suggestCharts:', error);\n",
              "      }\n",
              "      quickchartButtonEl.classList.remove('colab-df-spinner');\n",
              "      quickchartButtonEl.classList.add('colab-df-quickchart-complete');\n",
              "    }\n",
              "    (() => {\n",
              "      let quickchartButtonEl =\n",
              "        document.querySelector('#df-d9648920-f704-43d0-8fd8-937c037b063d button');\n",
              "      quickchartButtonEl.style.display =\n",
              "        google.colab.kernel.accessAllowed ? 'block' : 'none';\n",
              "    })();\n",
              "  </script>\n",
              "</div>\n",
              "    </div>\n",
              "  </div>\n"
            ],
            "text/plain": [
              "      Offencecode                         Offdescription  \\\n",
              "0               1                                 Murder   \n",
              "1       1/4.1/4.2                               Homicide   \n",
              "2  1/4.1/4.2/4.10                               Homicide   \n",
              "3             104  Assault without injury on a constable   \n",
              "4            105A                 Assault without injury   \n",
              "\n",
              "                   oldOffGroup                                oldOffsubGroup  \\\n",
              "0  Violence against the person     Violence against the person - with injury   \n",
              "1  Violence against the person     Violence against the person - with injury   \n",
              "2  Violence against the person     Violence against the person - with injury   \n",
              "3  Violence against the person  Violence against the person - without injury   \n",
              "4  Violence against the person  Violence against the person - without injury   \n",
              "\n",
              "                   newOffGroup                 noSGroup  \n",
              "0  Violence against the person                 Homicide  \n",
              "1  Violence against the person                 Homicide  \n",
              "2  Violence against the person                 Homicide  \n",
              "3  Violence against the person  Violence without injury  \n",
              "4  Violence against the person  Violence without injury  "
            ]
          },
          "execution_count": 39,
          "metadata": {},
          "output_type": "execute_result"
        }
      ],
      "source": [
        "dataset2.copy() #making a copy of the worksheet df before starting the data cleaning\n",
        "dataset2.head (5) #preview of new worksheet"
      ]
    },
    {
      "cell_type": "markdown",
      "metadata": {
        "id": "y9Htb9MtUVTC"
      },
      "source": [
        "### Drop rows"
      ]
    },
    {
      "cell_type": "code",
      "execution_count": null,
      "metadata": {
        "colab": {
          "background_save": true
        },
        "id": "3A-771fuGTfJ",
        "outputId": "47df7ff8-a7c5-4bbb-deb2-16d069c1a00e"
      },
      "outputs": [
        {
          "data": {
            "text/html": [
              "\n",
              "  <div id=\"df-0df8dd1f-4d10-464e-b47b-bc75e1905f58\" class=\"colab-df-container\">\n",
              "    <div>\n",
              "<style scoped>\n",
              "    .dataframe tbody tr th:only-of-type {\n",
              "        vertical-align: middle;\n",
              "    }\n",
              "\n",
              "    .dataframe tbody tr th {\n",
              "        vertical-align: top;\n",
              "    }\n",
              "\n",
              "    .dataframe thead th {\n",
              "        text-align: right;\n",
              "    }\n",
              "</style>\n",
              "<table border=\"1\" class=\"dataframe\">\n",
              "  <thead>\n",
              "    <tr style=\"text-align: right;\">\n",
              "      <th></th>\n",
              "      <th>Offencecode</th>\n",
              "      <th>Offdescription</th>\n",
              "      <th>oldOffGroup</th>\n",
              "      <th>oldOffsubGroup</th>\n",
              "      <th>newOffGroup</th>\n",
              "      <th>noSGroup</th>\n",
              "    </tr>\n",
              "  </thead>\n",
              "  <tbody>\n",
              "    <tr>\n",
              "      <th>193</th>\n",
              "      <td>99</td>\n",
              "      <td>Other notifiable offences</td>\n",
              "      <td>Other miscellaneous offences</td>\n",
              "      <td>NaN</td>\n",
              "      <td>Miscellaneous crimes against society</td>\n",
              "      <td>Miscellaneous crimes against society</td>\n",
              "    </tr>\n",
              "    <tr>\n",
              "      <th>194</th>\n",
              "      <td>9A</td>\n",
              "      <td>Public fear, alarm or distress</td>\n",
              "      <td>Violence against the person</td>\n",
              "      <td>Violence against the person - without injury</td>\n",
              "      <td>Public order offences</td>\n",
              "      <td>Public order offences</td>\n",
              "    </tr>\n",
              "    <tr>\n",
              "      <th>195</th>\n",
              "      <td>9B</td>\n",
              "      <td>Racially or religiously aggravated public fear...</td>\n",
              "      <td>Violence against the person</td>\n",
              "      <td>Violence against the person - without injury</td>\n",
              "      <td>Public order offences</td>\n",
              "      <td>Public order offences</td>\n",
              "    </tr>\n",
              "    <tr>\n",
              "      <th>196</th>\n",
              "      <td>NaN</td>\n",
              "      <td>NaN</td>\n",
              "      <td>NaN</td>\n",
              "      <td>NaN</td>\n",
              "      <td>NaN</td>\n",
              "      <td>NaN</td>\n",
              "    </tr>\n",
              "    <tr>\n",
              "      <th>197</th>\n",
              "      <td>* These offences were introduced after 31 Marc...</td>\n",
              "      <td>NaN</td>\n",
              "      <td>NaN</td>\n",
              "      <td>NaN</td>\n",
              "      <td>NaN</td>\n",
              "      <td>NaN</td>\n",
              "    </tr>\n",
              "  </tbody>\n",
              "</table>\n",
              "</div>\n",
              "    <div class=\"colab-df-buttons\">\n",
              "\n",
              "  <div class=\"colab-df-container\">\n",
              "    <button class=\"colab-df-convert\" onclick=\"convertToInteractive('df-0df8dd1f-4d10-464e-b47b-bc75e1905f58')\"\n",
              "            title=\"Convert this dataframe to an interactive table.\"\n",
              "            style=\"display:none;\">\n",
              "\n",
              "  <svg xmlns=\"http://www.w3.org/2000/svg\" height=\"24px\" viewBox=\"0 -960 960 960\">\n",
              "    <path d=\"M120-120v-720h720v720H120Zm60-500h600v-160H180v160Zm220 220h160v-160H400v160Zm0 220h160v-160H400v160ZM180-400h160v-160H180v160Zm440 0h160v-160H620v160ZM180-180h160v-160H180v160Zm440 0h160v-160H620v160Z\"/>\n",
              "  </svg>\n",
              "    </button>\n",
              "\n",
              "  <style>\n",
              "    .colab-df-container {\n",
              "      display:flex;\n",
              "      gap: 12px;\n",
              "    }\n",
              "\n",
              "    .colab-df-convert {\n",
              "      background-color: #E8F0FE;\n",
              "      border: none;\n",
              "      border-radius: 50%;\n",
              "      cursor: pointer;\n",
              "      display: none;\n",
              "      fill: #1967D2;\n",
              "      height: 32px;\n",
              "      padding: 0 0 0 0;\n",
              "      width: 32px;\n",
              "    }\n",
              "\n",
              "    .colab-df-convert:hover {\n",
              "      background-color: #E2EBFA;\n",
              "      box-shadow: 0px 1px 2px rgba(60, 64, 67, 0.3), 0px 1px 3px 1px rgba(60, 64, 67, 0.15);\n",
              "      fill: #174EA6;\n",
              "    }\n",
              "\n",
              "    .colab-df-buttons div {\n",
              "      margin-bottom: 4px;\n",
              "    }\n",
              "\n",
              "    [theme=dark] .colab-df-convert {\n",
              "      background-color: #3B4455;\n",
              "      fill: #D2E3FC;\n",
              "    }\n",
              "\n",
              "    [theme=dark] .colab-df-convert:hover {\n",
              "      background-color: #434B5C;\n",
              "      box-shadow: 0px 1px 3px 1px rgba(0, 0, 0, 0.15);\n",
              "      filter: drop-shadow(0px 1px 2px rgba(0, 0, 0, 0.3));\n",
              "      fill: #FFFFFF;\n",
              "    }\n",
              "  </style>\n",
              "\n",
              "    <script>\n",
              "      const buttonEl =\n",
              "        document.querySelector('#df-0df8dd1f-4d10-464e-b47b-bc75e1905f58 button.colab-df-convert');\n",
              "      buttonEl.style.display =\n",
              "        google.colab.kernel.accessAllowed ? 'block' : 'none';\n",
              "\n",
              "      async function convertToInteractive(key) {\n",
              "        const element = document.querySelector('#df-0df8dd1f-4d10-464e-b47b-bc75e1905f58');\n",
              "        const dataTable =\n",
              "          await google.colab.kernel.invokeFunction('convertToInteractive',\n",
              "                                                    [key], {});\n",
              "        if (!dataTable) return;\n",
              "\n",
              "        const docLinkHtml = 'Like what you see? Visit the ' +\n",
              "          '<a target=\"_blank\" href=https://colab.research.google.com/notebooks/data_table.ipynb>data table notebook</a>'\n",
              "          + ' to learn more about interactive tables.';\n",
              "        element.innerHTML = '';\n",
              "        dataTable['output_type'] = 'display_data';\n",
              "        await google.colab.output.renderOutput(dataTable, element);\n",
              "        const docLink = document.createElement('div');\n",
              "        docLink.innerHTML = docLinkHtml;\n",
              "        element.appendChild(docLink);\n",
              "      }\n",
              "    </script>\n",
              "  </div>\n",
              "\n",
              "\n",
              "<div id=\"df-0511696a-7999-4432-8b56-52ce87749e9a\">\n",
              "  <button class=\"colab-df-quickchart\" onclick=\"quickchart('df-0511696a-7999-4432-8b56-52ce87749e9a')\"\n",
              "            title=\"Suggest charts\"\n",
              "            style=\"display:none;\">\n",
              "\n",
              "<svg xmlns=\"http://www.w3.org/2000/svg\" height=\"24px\"viewBox=\"0 0 24 24\"\n",
              "     width=\"24px\">\n",
              "    <g>\n",
              "        <path d=\"M19 3H5c-1.1 0-2 .9-2 2v14c0 1.1.9 2 2 2h14c1.1 0 2-.9 2-2V5c0-1.1-.9-2-2-2zM9 17H7v-7h2v7zm4 0h-2V7h2v10zm4 0h-2v-4h2v4z\"/>\n",
              "    </g>\n",
              "</svg>\n",
              "  </button>\n",
              "\n",
              "<style>\n",
              "  .colab-df-quickchart {\n",
              "      --bg-color: #E8F0FE;\n",
              "      --fill-color: #1967D2;\n",
              "      --hover-bg-color: #E2EBFA;\n",
              "      --hover-fill-color: #174EA6;\n",
              "      --disabled-fill-color: #AAA;\n",
              "      --disabled-bg-color: #DDD;\n",
              "  }\n",
              "\n",
              "  [theme=dark] .colab-df-quickchart {\n",
              "      --bg-color: #3B4455;\n",
              "      --fill-color: #D2E3FC;\n",
              "      --hover-bg-color: #434B5C;\n",
              "      --hover-fill-color: #FFFFFF;\n",
              "      --disabled-bg-color: #3B4455;\n",
              "      --disabled-fill-color: #666;\n",
              "  }\n",
              "\n",
              "  .colab-df-quickchart {\n",
              "    background-color: var(--bg-color);\n",
              "    border: none;\n",
              "    border-radius: 50%;\n",
              "    cursor: pointer;\n",
              "    display: none;\n",
              "    fill: var(--fill-color);\n",
              "    height: 32px;\n",
              "    padding: 0;\n",
              "    width: 32px;\n",
              "  }\n",
              "\n",
              "  .colab-df-quickchart:hover {\n",
              "    background-color: var(--hover-bg-color);\n",
              "    box-shadow: 0 1px 2px rgba(60, 64, 67, 0.3), 0 1px 3px 1px rgba(60, 64, 67, 0.15);\n",
              "    fill: var(--button-hover-fill-color);\n",
              "  }\n",
              "\n",
              "  .colab-df-quickchart-complete:disabled,\n",
              "  .colab-df-quickchart-complete:disabled:hover {\n",
              "    background-color: var(--disabled-bg-color);\n",
              "    fill: var(--disabled-fill-color);\n",
              "    box-shadow: none;\n",
              "  }\n",
              "\n",
              "  .colab-df-spinner {\n",
              "    border: 2px solid var(--fill-color);\n",
              "    border-color: transparent;\n",
              "    border-bottom-color: var(--fill-color);\n",
              "    animation:\n",
              "      spin 1s steps(1) infinite;\n",
              "  }\n",
              "\n",
              "  @keyframes spin {\n",
              "    0% {\n",
              "      border-color: transparent;\n",
              "      border-bottom-color: var(--fill-color);\n",
              "      border-left-color: var(--fill-color);\n",
              "    }\n",
              "    20% {\n",
              "      border-color: transparent;\n",
              "      border-left-color: var(--fill-color);\n",
              "      border-top-color: var(--fill-color);\n",
              "    }\n",
              "    30% {\n",
              "      border-color: transparent;\n",
              "      border-left-color: var(--fill-color);\n",
              "      border-top-color: var(--fill-color);\n",
              "      border-right-color: var(--fill-color);\n",
              "    }\n",
              "    40% {\n",
              "      border-color: transparent;\n",
              "      border-right-color: var(--fill-color);\n",
              "      border-top-color: var(--fill-color);\n",
              "    }\n",
              "    60% {\n",
              "      border-color: transparent;\n",
              "      border-right-color: var(--fill-color);\n",
              "    }\n",
              "    80% {\n",
              "      border-color: transparent;\n",
              "      border-right-color: var(--fill-color);\n",
              "      border-bottom-color: var(--fill-color);\n",
              "    }\n",
              "    90% {\n",
              "      border-color: transparent;\n",
              "      border-bottom-color: var(--fill-color);\n",
              "    }\n",
              "  }\n",
              "</style>\n",
              "\n",
              "  <script>\n",
              "    async function quickchart(key) {\n",
              "      const quickchartButtonEl =\n",
              "        document.querySelector('#' + key + ' button');\n",
              "      quickchartButtonEl.disabled = true;  // To prevent multiple clicks.\n",
              "      quickchartButtonEl.classList.add('colab-df-spinner');\n",
              "      try {\n",
              "        const charts = await google.colab.kernel.invokeFunction(\n",
              "            'suggestCharts', [key], {});\n",
              "      } catch (error) {\n",
              "        console.error('Error during call to suggestCharts:', error);\n",
              "      }\n",
              "      quickchartButtonEl.classList.remove('colab-df-spinner');\n",
              "      quickchartButtonEl.classList.add('colab-df-quickchart-complete');\n",
              "    }\n",
              "    (() => {\n",
              "      let quickchartButtonEl =\n",
              "        document.querySelector('#df-0511696a-7999-4432-8b56-52ce87749e9a button');\n",
              "      quickchartButtonEl.style.display =\n",
              "        google.colab.kernel.accessAllowed ? 'block' : 'none';\n",
              "    })();\n",
              "  </script>\n",
              "</div>\n",
              "    </div>\n",
              "  </div>\n"
            ],
            "text/plain": [
              "                                           Offencecode  \\\n",
              "193                                                 99   \n",
              "194                                                 9A   \n",
              "195                                                 9B   \n",
              "196                                                NaN   \n",
              "197  * These offences were introduced after 31 Marc...   \n",
              "\n",
              "                                        Offdescription  \\\n",
              "193                          Other notifiable offences   \n",
              "194                     Public fear, alarm or distress   \n",
              "195  Racially or religiously aggravated public fear...   \n",
              "196                                                NaN   \n",
              "197                                                NaN   \n",
              "\n",
              "                      oldOffGroup  \\\n",
              "193  Other miscellaneous offences   \n",
              "194   Violence against the person   \n",
              "195   Violence against the person   \n",
              "196                           NaN   \n",
              "197                           NaN   \n",
              "\n",
              "                                   oldOffsubGroup  \\\n",
              "193                                           NaN   \n",
              "194  Violence against the person - without injury   \n",
              "195  Violence against the person - without injury   \n",
              "196                                           NaN   \n",
              "197                                           NaN   \n",
              "\n",
              "                              newOffGroup  \\\n",
              "193  Miscellaneous crimes against society   \n",
              "194                 Public order offences   \n",
              "195                 Public order offences   \n",
              "196                                   NaN   \n",
              "197                                   NaN   \n",
              "\n",
              "                                 noSGroup  \n",
              "193  Miscellaneous crimes against society  \n",
              "194                 Public order offences  \n",
              "195                 Public order offences  \n",
              "196                                   NaN  \n",
              "197                                   NaN  "
            ]
          },
          "execution_count": 40,
          "metadata": {},
          "output_type": "execute_result"
        }
      ],
      "source": [
        "dataset2.tail(5)"
      ]
    },
    {
      "cell_type": "code",
      "execution_count": null,
      "metadata": {
        "colab": {
          "background_save": true
        },
        "id": "aw89rWtBGSCy"
      },
      "outputs": [],
      "source": [
        "dataset2.drop(dataset2.index[-2:], inplace=True) #delete last two rows of the dataset"
      ]
    },
    {
      "cell_type": "code",
      "execution_count": null,
      "metadata": {
        "colab": {
          "background_save": true
        },
        "id": "VQI_R_d4GmB5",
        "outputId": "edd2c35c-3224-4560-c82a-4ebb60cc0455"
      },
      "outputs": [
        {
          "data": {
            "text/plain": [
              "(196, 6)"
            ]
          },
          "execution_count": 42,
          "metadata": {},
          "output_type": "execute_result"
        }
      ],
      "source": [
        "dataset2.shape #dataset description"
      ]
    },
    {
      "cell_type": "markdown",
      "metadata": {
        "id": "Kg4warbNVdfW"
      },
      "source": [
        "### Handling Duplicates"
      ]
    },
    {
      "cell_type": "code",
      "execution_count": null,
      "metadata": {
        "colab": {
          "background_save": true
        },
        "id": "apXvxo6eMCME"
      },
      "outputs": [],
      "source": [
        "duplicated_rows = dataset2[dataset2['Offencecode'].duplicated(keep=False)]"
      ]
    },
    {
      "cell_type": "code",
      "execution_count": null,
      "metadata": {
        "colab": {
          "background_save": true
        },
        "id": "z0BTCc8tMnbt",
        "outputId": "49b41a29-40c8-4dda-9161-08721cdcafe4"
      },
      "outputs": [
        {
          "data": {
            "text/html": [
              "\n",
              "  <div id=\"df-503e44a8-b91b-433d-a3a1-b57708206bdd\" class=\"colab-df-container\">\n",
              "    <div>\n",
              "<style scoped>\n",
              "    .dataframe tbody tr th:only-of-type {\n",
              "        vertical-align: middle;\n",
              "    }\n",
              "\n",
              "    .dataframe tbody tr th {\n",
              "        vertical-align: top;\n",
              "    }\n",
              "\n",
              "    .dataframe thead th {\n",
              "        text-align: right;\n",
              "    }\n",
              "</style>\n",
              "<table border=\"1\" class=\"dataframe\">\n",
              "  <thead>\n",
              "    <tr style=\"text-align: right;\">\n",
              "      <th></th>\n",
              "      <th>Offencecode</th>\n",
              "      <th>Offdescription</th>\n",
              "      <th>oldOffGroup</th>\n",
              "      <th>oldOffsubGroup</th>\n",
              "      <th>newOffGroup</th>\n",
              "      <th>noSGroup</th>\n",
              "    </tr>\n",
              "  </thead>\n",
              "  <tbody>\n",
              "    <tr>\n",
              "      <th>154</th>\n",
              "      <td>88A</td>\n",
              "      <td>Sexual grooming</td>\n",
              "      <td>Sexual offences</td>\n",
              "      <td>Other sexual offences</td>\n",
              "      <td>Sexual offences</td>\n",
              "      <td>Other sexual offences</td>\n",
              "    </tr>\n",
              "    <tr>\n",
              "      <th>155</th>\n",
              "      <td>88A</td>\n",
              "      <td>Sexual grooming</td>\n",
              "      <td>Sexual offences</td>\n",
              "      <td>Other sexual offences</td>\n",
              "      <td>Sexual offences</td>\n",
              "      <td>Other sexual offences</td>\n",
              "    </tr>\n",
              "    <tr>\n",
              "      <th>156</th>\n",
              "      <td>88B</td>\n",
              "      <td>Other miscellaneous sexual offences</td>\n",
              "      <td>Sexual offences</td>\n",
              "      <td>Other sexual offences</td>\n",
              "      <td>Sexual offences</td>\n",
              "      <td>Other sexual offences</td>\n",
              "    </tr>\n",
              "    <tr>\n",
              "      <th>157</th>\n",
              "      <td>88B</td>\n",
              "      <td>Other miscellaneous sexual offences</td>\n",
              "      <td>Sexual offences</td>\n",
              "      <td>Other sexual offences</td>\n",
              "      <td>Sexual offences</td>\n",
              "      <td>Other sexual offences</td>\n",
              "    </tr>\n",
              "    <tr>\n",
              "      <th>158</th>\n",
              "      <td>88C</td>\n",
              "      <td>Other miscellaneous sexual offences</td>\n",
              "      <td>Sexual offences</td>\n",
              "      <td>Other sexual offences</td>\n",
              "      <td>Sexual offences</td>\n",
              "      <td>Other sexual offences</td>\n",
              "    </tr>\n",
              "    <tr>\n",
              "      <th>159</th>\n",
              "      <td>88C</td>\n",
              "      <td>Other miscellaneous sexual offences</td>\n",
              "      <td>Sexual offences</td>\n",
              "      <td>Other sexual offences</td>\n",
              "      <td>Sexual offences</td>\n",
              "      <td>Other sexual offences</td>\n",
              "    </tr>\n",
              "    <tr>\n",
              "      <th>160</th>\n",
              "      <td>88D</td>\n",
              "      <td>Unnatural sexual offences</td>\n",
              "      <td>Sexual offences</td>\n",
              "      <td>Other sexual offences</td>\n",
              "      <td>Sexual offences</td>\n",
              "      <td>Other sexual offences</td>\n",
              "    </tr>\n",
              "    <tr>\n",
              "      <th>161</th>\n",
              "      <td>88D</td>\n",
              "      <td>Unnatural sexual offences</td>\n",
              "      <td>Sexual offences</td>\n",
              "      <td>Other sexual offences</td>\n",
              "      <td>Sexual offences</td>\n",
              "      <td>Other sexual offences</td>\n",
              "    </tr>\n",
              "    <tr>\n",
              "      <th>169</th>\n",
              "      <td>8H</td>\n",
              "      <td>Racially or religiously aggravated inflicting ...</td>\n",
              "      <td>Violence against the person</td>\n",
              "      <td>Violence against the person - with injury</td>\n",
              "      <td>Violence against the person</td>\n",
              "      <td>Violence with injury</td>\n",
              "    </tr>\n",
              "    <tr>\n",
              "      <th>170</th>\n",
              "      <td>8H</td>\n",
              "      <td>Racially or religiously aggravated inflicting ...</td>\n",
              "      <td>Violence against the person</td>\n",
              "      <td>Violence against the person - with injury</td>\n",
              "      <td>Violence against the person</td>\n",
              "      <td>Violence with injury</td>\n",
              "    </tr>\n",
              "    <tr>\n",
              "      <th>171</th>\n",
              "      <td>8J</td>\n",
              "      <td>Racially or religiously aggravated actual bodi...</td>\n",
              "      <td>Violence against the person</td>\n",
              "      <td>Violence against the person - with injury</td>\n",
              "      <td>Violence against the person</td>\n",
              "      <td>Violence with injury</td>\n",
              "    </tr>\n",
              "    <tr>\n",
              "      <th>172</th>\n",
              "      <td>8J</td>\n",
              "      <td>Racially or religiously aggravated actual bodi...</td>\n",
              "      <td>Violence against the person</td>\n",
              "      <td>Violence against the person - with injury</td>\n",
              "      <td>Violence against the person</td>\n",
              "      <td>Violence with injury</td>\n",
              "    </tr>\n",
              "    <tr>\n",
              "      <th>173</th>\n",
              "      <td>8K</td>\n",
              "      <td>Poisoning or female genital mutilation</td>\n",
              "      <td>Violence against the person</td>\n",
              "      <td>Violence against the person - with injury</td>\n",
              "      <td>Violence against the person</td>\n",
              "      <td>Violence with injury</td>\n",
              "    </tr>\n",
              "    <tr>\n",
              "      <th>174</th>\n",
              "      <td>8K</td>\n",
              "      <td>Poisoning or female genital mutilation</td>\n",
              "      <td>Violence against the person</td>\n",
              "      <td>Violence against the person - with injury</td>\n",
              "      <td>Violence against the person</td>\n",
              "      <td>Violence with injury</td>\n",
              "    </tr>\n",
              "    <tr>\n",
              "      <th>175</th>\n",
              "      <td>8L</td>\n",
              "      <td>Harassment</td>\n",
              "      <td>Violence against the person</td>\n",
              "      <td>Violence against the person - without injury</td>\n",
              "      <td>Violence against the person</td>\n",
              "      <td>Violence without injury</td>\n",
              "    </tr>\n",
              "    <tr>\n",
              "      <th>176</th>\n",
              "      <td>8L</td>\n",
              "      <td>Harassment</td>\n",
              "      <td>Violence against the person</td>\n",
              "      <td>Violence against the person - without injury</td>\n",
              "      <td>Violence against the person</td>\n",
              "      <td>Violence without injury</td>\n",
              "    </tr>\n",
              "    <tr>\n",
              "      <th>177</th>\n",
              "      <td>8M</td>\n",
              "      <td>Racially or religiously aggravated harassment</td>\n",
              "      <td>Violence against the person</td>\n",
              "      <td>Violence against the person - without injury</td>\n",
              "      <td>Violence against the person</td>\n",
              "      <td>Violence without injury</td>\n",
              "    </tr>\n",
              "    <tr>\n",
              "      <th>178</th>\n",
              "      <td>8M</td>\n",
              "      <td>Racially or religiously aggravated harassment</td>\n",
              "      <td>Violence against the person</td>\n",
              "      <td>Violence against the person - without injury</td>\n",
              "      <td>Violence against the person</td>\n",
              "      <td>Violence without injury</td>\n",
              "    </tr>\n",
              "    <tr>\n",
              "      <th>179</th>\n",
              "      <td>8N</td>\n",
              "      <td>Assault with injury</td>\n",
              "      <td>Violence against the person</td>\n",
              "      <td>Violence against the person - with injury</td>\n",
              "      <td>Violence against the person</td>\n",
              "      <td>Violence with injury</td>\n",
              "    </tr>\n",
              "    <tr>\n",
              "      <th>180</th>\n",
              "      <td>8N</td>\n",
              "      <td>Assault with injury</td>\n",
              "      <td>Violence against the person</td>\n",
              "      <td>Violence against the person - with injury</td>\n",
              "      <td>Violence against the person</td>\n",
              "      <td>Violence with injury</td>\n",
              "    </tr>\n",
              "  </tbody>\n",
              "</table>\n",
              "</div>\n",
              "    <div class=\"colab-df-buttons\">\n",
              "\n",
              "  <div class=\"colab-df-container\">\n",
              "    <button class=\"colab-df-convert\" onclick=\"convertToInteractive('df-503e44a8-b91b-433d-a3a1-b57708206bdd')\"\n",
              "            title=\"Convert this dataframe to an interactive table.\"\n",
              "            style=\"display:none;\">\n",
              "\n",
              "  <svg xmlns=\"http://www.w3.org/2000/svg\" height=\"24px\" viewBox=\"0 -960 960 960\">\n",
              "    <path d=\"M120-120v-720h720v720H120Zm60-500h600v-160H180v160Zm220 220h160v-160H400v160Zm0 220h160v-160H400v160ZM180-400h160v-160H180v160Zm440 0h160v-160H620v160ZM180-180h160v-160H180v160Zm440 0h160v-160H620v160Z\"/>\n",
              "  </svg>\n",
              "    </button>\n",
              "\n",
              "  <style>\n",
              "    .colab-df-container {\n",
              "      display:flex;\n",
              "      gap: 12px;\n",
              "    }\n",
              "\n",
              "    .colab-df-convert {\n",
              "      background-color: #E8F0FE;\n",
              "      border: none;\n",
              "      border-radius: 50%;\n",
              "      cursor: pointer;\n",
              "      display: none;\n",
              "      fill: #1967D2;\n",
              "      height: 32px;\n",
              "      padding: 0 0 0 0;\n",
              "      width: 32px;\n",
              "    }\n",
              "\n",
              "    .colab-df-convert:hover {\n",
              "      background-color: #E2EBFA;\n",
              "      box-shadow: 0px 1px 2px rgba(60, 64, 67, 0.3), 0px 1px 3px 1px rgba(60, 64, 67, 0.15);\n",
              "      fill: #174EA6;\n",
              "    }\n",
              "\n",
              "    .colab-df-buttons div {\n",
              "      margin-bottom: 4px;\n",
              "    }\n",
              "\n",
              "    [theme=dark] .colab-df-convert {\n",
              "      background-color: #3B4455;\n",
              "      fill: #D2E3FC;\n",
              "    }\n",
              "\n",
              "    [theme=dark] .colab-df-convert:hover {\n",
              "      background-color: #434B5C;\n",
              "      box-shadow: 0px 1px 3px 1px rgba(0, 0, 0, 0.15);\n",
              "      filter: drop-shadow(0px 1px 2px rgba(0, 0, 0, 0.3));\n",
              "      fill: #FFFFFF;\n",
              "    }\n",
              "  </style>\n",
              "\n",
              "    <script>\n",
              "      const buttonEl =\n",
              "        document.querySelector('#df-503e44a8-b91b-433d-a3a1-b57708206bdd button.colab-df-convert');\n",
              "      buttonEl.style.display =\n",
              "        google.colab.kernel.accessAllowed ? 'block' : 'none';\n",
              "\n",
              "      async function convertToInteractive(key) {\n",
              "        const element = document.querySelector('#df-503e44a8-b91b-433d-a3a1-b57708206bdd');\n",
              "        const dataTable =\n",
              "          await google.colab.kernel.invokeFunction('convertToInteractive',\n",
              "                                                    [key], {});\n",
              "        if (!dataTable) return;\n",
              "\n",
              "        const docLinkHtml = 'Like what you see? Visit the ' +\n",
              "          '<a target=\"_blank\" href=https://colab.research.google.com/notebooks/data_table.ipynb>data table notebook</a>'\n",
              "          + ' to learn more about interactive tables.';\n",
              "        element.innerHTML = '';\n",
              "        dataTable['output_type'] = 'display_data';\n",
              "        await google.colab.output.renderOutput(dataTable, element);\n",
              "        const docLink = document.createElement('div');\n",
              "        docLink.innerHTML = docLinkHtml;\n",
              "        element.appendChild(docLink);\n",
              "      }\n",
              "    </script>\n",
              "  </div>\n",
              "\n",
              "\n",
              "<div id=\"df-a98fc65f-11e9-4597-9b7c-d32608ff312d\">\n",
              "  <button class=\"colab-df-quickchart\" onclick=\"quickchart('df-a98fc65f-11e9-4597-9b7c-d32608ff312d')\"\n",
              "            title=\"Suggest charts\"\n",
              "            style=\"display:none;\">\n",
              "\n",
              "<svg xmlns=\"http://www.w3.org/2000/svg\" height=\"24px\"viewBox=\"0 0 24 24\"\n",
              "     width=\"24px\">\n",
              "    <g>\n",
              "        <path d=\"M19 3H5c-1.1 0-2 .9-2 2v14c0 1.1.9 2 2 2h14c1.1 0 2-.9 2-2V5c0-1.1-.9-2-2-2zM9 17H7v-7h2v7zm4 0h-2V7h2v10zm4 0h-2v-4h2v4z\"/>\n",
              "    </g>\n",
              "</svg>\n",
              "  </button>\n",
              "\n",
              "<style>\n",
              "  .colab-df-quickchart {\n",
              "      --bg-color: #E8F0FE;\n",
              "      --fill-color: #1967D2;\n",
              "      --hover-bg-color: #E2EBFA;\n",
              "      --hover-fill-color: #174EA6;\n",
              "      --disabled-fill-color: #AAA;\n",
              "      --disabled-bg-color: #DDD;\n",
              "  }\n",
              "\n",
              "  [theme=dark] .colab-df-quickchart {\n",
              "      --bg-color: #3B4455;\n",
              "      --fill-color: #D2E3FC;\n",
              "      --hover-bg-color: #434B5C;\n",
              "      --hover-fill-color: #FFFFFF;\n",
              "      --disabled-bg-color: #3B4455;\n",
              "      --disabled-fill-color: #666;\n",
              "  }\n",
              "\n",
              "  .colab-df-quickchart {\n",
              "    background-color: var(--bg-color);\n",
              "    border: none;\n",
              "    border-radius: 50%;\n",
              "    cursor: pointer;\n",
              "    display: none;\n",
              "    fill: var(--fill-color);\n",
              "    height: 32px;\n",
              "    padding: 0;\n",
              "    width: 32px;\n",
              "  }\n",
              "\n",
              "  .colab-df-quickchart:hover {\n",
              "    background-color: var(--hover-bg-color);\n",
              "    box-shadow: 0 1px 2px rgba(60, 64, 67, 0.3), 0 1px 3px 1px rgba(60, 64, 67, 0.15);\n",
              "    fill: var(--button-hover-fill-color);\n",
              "  }\n",
              "\n",
              "  .colab-df-quickchart-complete:disabled,\n",
              "  .colab-df-quickchart-complete:disabled:hover {\n",
              "    background-color: var(--disabled-bg-color);\n",
              "    fill: var(--disabled-fill-color);\n",
              "    box-shadow: none;\n",
              "  }\n",
              "\n",
              "  .colab-df-spinner {\n",
              "    border: 2px solid var(--fill-color);\n",
              "    border-color: transparent;\n",
              "    border-bottom-color: var(--fill-color);\n",
              "    animation:\n",
              "      spin 1s steps(1) infinite;\n",
              "  }\n",
              "\n",
              "  @keyframes spin {\n",
              "    0% {\n",
              "      border-color: transparent;\n",
              "      border-bottom-color: var(--fill-color);\n",
              "      border-left-color: var(--fill-color);\n",
              "    }\n",
              "    20% {\n",
              "      border-color: transparent;\n",
              "      border-left-color: var(--fill-color);\n",
              "      border-top-color: var(--fill-color);\n",
              "    }\n",
              "    30% {\n",
              "      border-color: transparent;\n",
              "      border-left-color: var(--fill-color);\n",
              "      border-top-color: var(--fill-color);\n",
              "      border-right-color: var(--fill-color);\n",
              "    }\n",
              "    40% {\n",
              "      border-color: transparent;\n",
              "      border-right-color: var(--fill-color);\n",
              "      border-top-color: var(--fill-color);\n",
              "    }\n",
              "    60% {\n",
              "      border-color: transparent;\n",
              "      border-right-color: var(--fill-color);\n",
              "    }\n",
              "    80% {\n",
              "      border-color: transparent;\n",
              "      border-right-color: var(--fill-color);\n",
              "      border-bottom-color: var(--fill-color);\n",
              "    }\n",
              "    90% {\n",
              "      border-color: transparent;\n",
              "      border-bottom-color: var(--fill-color);\n",
              "    }\n",
              "  }\n",
              "</style>\n",
              "\n",
              "  <script>\n",
              "    async function quickchart(key) {\n",
              "      const quickchartButtonEl =\n",
              "        document.querySelector('#' + key + ' button');\n",
              "      quickchartButtonEl.disabled = true;  // To prevent multiple clicks.\n",
              "      quickchartButtonEl.classList.add('colab-df-spinner');\n",
              "      try {\n",
              "        const charts = await google.colab.kernel.invokeFunction(\n",
              "            'suggestCharts', [key], {});\n",
              "      } catch (error) {\n",
              "        console.error('Error during call to suggestCharts:', error);\n",
              "      }\n",
              "      quickchartButtonEl.classList.remove('colab-df-spinner');\n",
              "      quickchartButtonEl.classList.add('colab-df-quickchart-complete');\n",
              "    }\n",
              "    (() => {\n",
              "      let quickchartButtonEl =\n",
              "        document.querySelector('#df-a98fc65f-11e9-4597-9b7c-d32608ff312d button');\n",
              "      quickchartButtonEl.style.display =\n",
              "        google.colab.kernel.accessAllowed ? 'block' : 'none';\n",
              "    })();\n",
              "  </script>\n",
              "</div>\n",
              "    </div>\n",
              "  </div>\n"
            ],
            "text/plain": [
              "    Offencecode                                     Offdescription  \\\n",
              "154         88A                                    Sexual grooming   \n",
              "155         88A                                    Sexual grooming   \n",
              "156         88B                Other miscellaneous sexual offences   \n",
              "157         88B                Other miscellaneous sexual offences   \n",
              "158         88C                Other miscellaneous sexual offences   \n",
              "159         88C                Other miscellaneous sexual offences   \n",
              "160         88D                          Unnatural sexual offences   \n",
              "161         88D                          Unnatural sexual offences   \n",
              "169          8H  Racially or religiously aggravated inflicting ...   \n",
              "170          8H  Racially or religiously aggravated inflicting ...   \n",
              "171          8J  Racially or religiously aggravated actual bodi...   \n",
              "172          8J  Racially or religiously aggravated actual bodi...   \n",
              "173          8K          Poisoning or female genital mutilation      \n",
              "174          8K          Poisoning or female genital mutilation      \n",
              "175          8L                                         Harassment   \n",
              "176          8L                                         Harassment   \n",
              "177          8M      Racially or religiously aggravated harassment   \n",
              "178          8M      Racially or religiously aggravated harassment   \n",
              "179          8N                                Assault with injury   \n",
              "180          8N                                Assault with injury   \n",
              "\n",
              "                     oldOffGroup  \\\n",
              "154              Sexual offences   \n",
              "155              Sexual offences   \n",
              "156              Sexual offences   \n",
              "157              Sexual offences   \n",
              "158              Sexual offences   \n",
              "159              Sexual offences   \n",
              "160              Sexual offences   \n",
              "161              Sexual offences   \n",
              "169  Violence against the person   \n",
              "170  Violence against the person   \n",
              "171  Violence against the person   \n",
              "172  Violence against the person   \n",
              "173  Violence against the person   \n",
              "174  Violence against the person   \n",
              "175  Violence against the person   \n",
              "176  Violence against the person   \n",
              "177  Violence against the person   \n",
              "178  Violence against the person   \n",
              "179  Violence against the person   \n",
              "180  Violence against the person   \n",
              "\n",
              "                                   oldOffsubGroup  \\\n",
              "154                         Other sexual offences   \n",
              "155                         Other sexual offences   \n",
              "156                         Other sexual offences   \n",
              "157                         Other sexual offences   \n",
              "158                         Other sexual offences   \n",
              "159                         Other sexual offences   \n",
              "160                         Other sexual offences   \n",
              "161                         Other sexual offences   \n",
              "169     Violence against the person - with injury   \n",
              "170     Violence against the person - with injury   \n",
              "171     Violence against the person - with injury   \n",
              "172     Violence against the person - with injury   \n",
              "173     Violence against the person - with injury   \n",
              "174     Violence against the person - with injury   \n",
              "175  Violence against the person - without injury   \n",
              "176  Violence against the person - without injury   \n",
              "177  Violence against the person - without injury   \n",
              "178  Violence against the person - without injury   \n",
              "179     Violence against the person - with injury   \n",
              "180     Violence against the person - with injury   \n",
              "\n",
              "                     newOffGroup                 noSGroup  \n",
              "154              Sexual offences    Other sexual offences  \n",
              "155              Sexual offences    Other sexual offences  \n",
              "156              Sexual offences    Other sexual offences  \n",
              "157              Sexual offences    Other sexual offences  \n",
              "158              Sexual offences    Other sexual offences  \n",
              "159              Sexual offences    Other sexual offences  \n",
              "160              Sexual offences    Other sexual offences  \n",
              "161              Sexual offences    Other sexual offences  \n",
              "169  Violence against the person     Violence with injury  \n",
              "170  Violence against the person     Violence with injury  \n",
              "171  Violence against the person     Violence with injury  \n",
              "172  Violence against the person     Violence with injury  \n",
              "173  Violence against the person     Violence with injury  \n",
              "174  Violence against the person     Violence with injury  \n",
              "175  Violence against the person  Violence without injury  \n",
              "176  Violence against the person  Violence without injury  \n",
              "177  Violence against the person  Violence without injury  \n",
              "178  Violence against the person  Violence without injury  \n",
              "179  Violence against the person     Violence with injury  \n",
              "180  Violence against the person     Violence with injury  "
            ]
          },
          "execution_count": 44,
          "metadata": {},
          "output_type": "execute_result"
        }
      ],
      "source": [
        "duplicated_rows #list of all duplicate rows"
      ]
    },
    {
      "cell_type": "code",
      "execution_count": null,
      "metadata": {
        "colab": {
          "background_save": true
        },
        "id": "1hG90I74LGTg"
      },
      "outputs": [],
      "source": [
        "distinct_values = dataset2['Offencecode'].unique() #code to check for distinct rows in offcode"
      ]
    },
    {
      "cell_type": "code",
      "execution_count": null,
      "metadata": {
        "colab": {
          "background_save": true
        },
        "id": "TUAYW-FJ_ywp",
        "outputId": "e4c0dac3-d568-48b1-99bb-8c7205a21f07"
      },
      "outputs": [
        {
          "data": {
            "text/plain": [
              "(186, 6)"
            ]
          },
          "execution_count": 46,
          "metadata": {},
          "output_type": "execute_result"
        }
      ],
      "source": [
        "Dataset2 = dataset2.drop_duplicates(dataset2) # Drop duplicates deletes the duplicates after the first occcurence.\n",
        "Dataset2.shape"
      ]
    },
    {
      "cell_type": "markdown",
      "metadata": {
        "id": "G_l8kQnNVXb8"
      },
      "source": [
        "### Detecting Missing values"
      ]
    },
    {
      "cell_type": "code",
      "execution_count": null,
      "metadata": {
        "colab": {
          "background_save": true
        },
        "id": "8UWygDGBEQgU",
        "outputId": "0f775251-04c6-424c-98a9-29d80d4f60d7"
      },
      "outputs": [
        {
          "data": {
            "text/html": [
              "\n",
              "  <div id=\"df-cc69b187-d063-46b7-a79a-61b4b6eda4e3\" class=\"colab-df-container\">\n",
              "    <div>\n",
              "<style scoped>\n",
              "    .dataframe tbody tr th:only-of-type {\n",
              "        vertical-align: middle;\n",
              "    }\n",
              "\n",
              "    .dataframe tbody tr th {\n",
              "        vertical-align: top;\n",
              "    }\n",
              "\n",
              "    .dataframe thead th {\n",
              "        text-align: right;\n",
              "    }\n",
              "</style>\n",
              "<table border=\"1\" class=\"dataframe\">\n",
              "  <thead>\n",
              "    <tr style=\"text-align: right;\">\n",
              "      <th></th>\n",
              "      <th>Offencecode</th>\n",
              "      <th>Offdescription</th>\n",
              "      <th>oldOffGroup</th>\n",
              "      <th>oldOffsubGroup</th>\n",
              "      <th>newOffGroup</th>\n",
              "      <th>noSGroup</th>\n",
              "    </tr>\n",
              "  </thead>\n",
              "  <tbody>\n",
              "    <tr>\n",
              "      <th>0</th>\n",
              "      <td>False</td>\n",
              "      <td>False</td>\n",
              "      <td>False</td>\n",
              "      <td>False</td>\n",
              "      <td>False</td>\n",
              "      <td>False</td>\n",
              "    </tr>\n",
              "    <tr>\n",
              "      <th>1</th>\n",
              "      <td>False</td>\n",
              "      <td>False</td>\n",
              "      <td>False</td>\n",
              "      <td>False</td>\n",
              "      <td>False</td>\n",
              "      <td>False</td>\n",
              "    </tr>\n",
              "    <tr>\n",
              "      <th>2</th>\n",
              "      <td>False</td>\n",
              "      <td>False</td>\n",
              "      <td>False</td>\n",
              "      <td>False</td>\n",
              "      <td>False</td>\n",
              "      <td>False</td>\n",
              "    </tr>\n",
              "    <tr>\n",
              "      <th>3</th>\n",
              "      <td>False</td>\n",
              "      <td>False</td>\n",
              "      <td>False</td>\n",
              "      <td>False</td>\n",
              "      <td>False</td>\n",
              "      <td>False</td>\n",
              "    </tr>\n",
              "    <tr>\n",
              "      <th>4</th>\n",
              "      <td>False</td>\n",
              "      <td>False</td>\n",
              "      <td>False</td>\n",
              "      <td>False</td>\n",
              "      <td>False</td>\n",
              "      <td>False</td>\n",
              "    </tr>\n",
              "    <tr>\n",
              "      <th>...</th>\n",
              "      <td>...</td>\n",
              "      <td>...</td>\n",
              "      <td>...</td>\n",
              "      <td>...</td>\n",
              "      <td>...</td>\n",
              "      <td>...</td>\n",
              "    </tr>\n",
              "    <tr>\n",
              "      <th>191</th>\n",
              "      <td>False</td>\n",
              "      <td>False</td>\n",
              "      <td>False</td>\n",
              "      <td>True</td>\n",
              "      <td>False</td>\n",
              "      <td>False</td>\n",
              "    </tr>\n",
              "    <tr>\n",
              "      <th>192</th>\n",
              "      <td>False</td>\n",
              "      <td>False</td>\n",
              "      <td>True</td>\n",
              "      <td>True</td>\n",
              "      <td>False</td>\n",
              "      <td>False</td>\n",
              "    </tr>\n",
              "    <tr>\n",
              "      <th>193</th>\n",
              "      <td>False</td>\n",
              "      <td>False</td>\n",
              "      <td>False</td>\n",
              "      <td>True</td>\n",
              "      <td>False</td>\n",
              "      <td>False</td>\n",
              "    </tr>\n",
              "    <tr>\n",
              "      <th>194</th>\n",
              "      <td>False</td>\n",
              "      <td>False</td>\n",
              "      <td>False</td>\n",
              "      <td>False</td>\n",
              "      <td>False</td>\n",
              "      <td>False</td>\n",
              "    </tr>\n",
              "    <tr>\n",
              "      <th>195</th>\n",
              "      <td>False</td>\n",
              "      <td>False</td>\n",
              "      <td>False</td>\n",
              "      <td>False</td>\n",
              "      <td>False</td>\n",
              "      <td>False</td>\n",
              "    </tr>\n",
              "  </tbody>\n",
              "</table>\n",
              "<p>186 rows × 6 columns</p>\n",
              "</div>\n",
              "    <div class=\"colab-df-buttons\">\n",
              "\n",
              "  <div class=\"colab-df-container\">\n",
              "    <button class=\"colab-df-convert\" onclick=\"convertToInteractive('df-cc69b187-d063-46b7-a79a-61b4b6eda4e3')\"\n",
              "            title=\"Convert this dataframe to an interactive table.\"\n",
              "            style=\"display:none;\">\n",
              "\n",
              "  <svg xmlns=\"http://www.w3.org/2000/svg\" height=\"24px\" viewBox=\"0 -960 960 960\">\n",
              "    <path d=\"M120-120v-720h720v720H120Zm60-500h600v-160H180v160Zm220 220h160v-160H400v160Zm0 220h160v-160H400v160ZM180-400h160v-160H180v160Zm440 0h160v-160H620v160ZM180-180h160v-160H180v160Zm440 0h160v-160H620v160Z\"/>\n",
              "  </svg>\n",
              "    </button>\n",
              "\n",
              "  <style>\n",
              "    .colab-df-container {\n",
              "      display:flex;\n",
              "      gap: 12px;\n",
              "    }\n",
              "\n",
              "    .colab-df-convert {\n",
              "      background-color: #E8F0FE;\n",
              "      border: none;\n",
              "      border-radius: 50%;\n",
              "      cursor: pointer;\n",
              "      display: none;\n",
              "      fill: #1967D2;\n",
              "      height: 32px;\n",
              "      padding: 0 0 0 0;\n",
              "      width: 32px;\n",
              "    }\n",
              "\n",
              "    .colab-df-convert:hover {\n",
              "      background-color: #E2EBFA;\n",
              "      box-shadow: 0px 1px 2px rgba(60, 64, 67, 0.3), 0px 1px 3px 1px rgba(60, 64, 67, 0.15);\n",
              "      fill: #174EA6;\n",
              "    }\n",
              "\n",
              "    .colab-df-buttons div {\n",
              "      margin-bottom: 4px;\n",
              "    }\n",
              "\n",
              "    [theme=dark] .colab-df-convert {\n",
              "      background-color: #3B4455;\n",
              "      fill: #D2E3FC;\n",
              "    }\n",
              "\n",
              "    [theme=dark] .colab-df-convert:hover {\n",
              "      background-color: #434B5C;\n",
              "      box-shadow: 0px 1px 3px 1px rgba(0, 0, 0, 0.15);\n",
              "      filter: drop-shadow(0px 1px 2px rgba(0, 0, 0, 0.3));\n",
              "      fill: #FFFFFF;\n",
              "    }\n",
              "  </style>\n",
              "\n",
              "    <script>\n",
              "      const buttonEl =\n",
              "        document.querySelector('#df-cc69b187-d063-46b7-a79a-61b4b6eda4e3 button.colab-df-convert');\n",
              "      buttonEl.style.display =\n",
              "        google.colab.kernel.accessAllowed ? 'block' : 'none';\n",
              "\n",
              "      async function convertToInteractive(key) {\n",
              "        const element = document.querySelector('#df-cc69b187-d063-46b7-a79a-61b4b6eda4e3');\n",
              "        const dataTable =\n",
              "          await google.colab.kernel.invokeFunction('convertToInteractive',\n",
              "                                                    [key], {});\n",
              "        if (!dataTable) return;\n",
              "\n",
              "        const docLinkHtml = 'Like what you see? Visit the ' +\n",
              "          '<a target=\"_blank\" href=https://colab.research.google.com/notebooks/data_table.ipynb>data table notebook</a>'\n",
              "          + ' to learn more about interactive tables.';\n",
              "        element.innerHTML = '';\n",
              "        dataTable['output_type'] = 'display_data';\n",
              "        await google.colab.output.renderOutput(dataTable, element);\n",
              "        const docLink = document.createElement('div');\n",
              "        docLink.innerHTML = docLinkHtml;\n",
              "        element.appendChild(docLink);\n",
              "      }\n",
              "    </script>\n",
              "  </div>\n",
              "\n",
              "\n",
              "<div id=\"df-e0c92195-63ef-48f9-9d09-b637cde4d1f6\">\n",
              "  <button class=\"colab-df-quickchart\" onclick=\"quickchart('df-e0c92195-63ef-48f9-9d09-b637cde4d1f6')\"\n",
              "            title=\"Suggest charts\"\n",
              "            style=\"display:none;\">\n",
              "\n",
              "<svg xmlns=\"http://www.w3.org/2000/svg\" height=\"24px\"viewBox=\"0 0 24 24\"\n",
              "     width=\"24px\">\n",
              "    <g>\n",
              "        <path d=\"M19 3H5c-1.1 0-2 .9-2 2v14c0 1.1.9 2 2 2h14c1.1 0 2-.9 2-2V5c0-1.1-.9-2-2-2zM9 17H7v-7h2v7zm4 0h-2V7h2v10zm4 0h-2v-4h2v4z\"/>\n",
              "    </g>\n",
              "</svg>\n",
              "  </button>\n",
              "\n",
              "<style>\n",
              "  .colab-df-quickchart {\n",
              "      --bg-color: #E8F0FE;\n",
              "      --fill-color: #1967D2;\n",
              "      --hover-bg-color: #E2EBFA;\n",
              "      --hover-fill-color: #174EA6;\n",
              "      --disabled-fill-color: #AAA;\n",
              "      --disabled-bg-color: #DDD;\n",
              "  }\n",
              "\n",
              "  [theme=dark] .colab-df-quickchart {\n",
              "      --bg-color: #3B4455;\n",
              "      --fill-color: #D2E3FC;\n",
              "      --hover-bg-color: #434B5C;\n",
              "      --hover-fill-color: #FFFFFF;\n",
              "      --disabled-bg-color: #3B4455;\n",
              "      --disabled-fill-color: #666;\n",
              "  }\n",
              "\n",
              "  .colab-df-quickchart {\n",
              "    background-color: var(--bg-color);\n",
              "    border: none;\n",
              "    border-radius: 50%;\n",
              "    cursor: pointer;\n",
              "    display: none;\n",
              "    fill: var(--fill-color);\n",
              "    height: 32px;\n",
              "    padding: 0;\n",
              "    width: 32px;\n",
              "  }\n",
              "\n",
              "  .colab-df-quickchart:hover {\n",
              "    background-color: var(--hover-bg-color);\n",
              "    box-shadow: 0 1px 2px rgba(60, 64, 67, 0.3), 0 1px 3px 1px rgba(60, 64, 67, 0.15);\n",
              "    fill: var(--button-hover-fill-color);\n",
              "  }\n",
              "\n",
              "  .colab-df-quickchart-complete:disabled,\n",
              "  .colab-df-quickchart-complete:disabled:hover {\n",
              "    background-color: var(--disabled-bg-color);\n",
              "    fill: var(--disabled-fill-color);\n",
              "    box-shadow: none;\n",
              "  }\n",
              "\n",
              "  .colab-df-spinner {\n",
              "    border: 2px solid var(--fill-color);\n",
              "    border-color: transparent;\n",
              "    border-bottom-color: var(--fill-color);\n",
              "    animation:\n",
              "      spin 1s steps(1) infinite;\n",
              "  }\n",
              "\n",
              "  @keyframes spin {\n",
              "    0% {\n",
              "      border-color: transparent;\n",
              "      border-bottom-color: var(--fill-color);\n",
              "      border-left-color: var(--fill-color);\n",
              "    }\n",
              "    20% {\n",
              "      border-color: transparent;\n",
              "      border-left-color: var(--fill-color);\n",
              "      border-top-color: var(--fill-color);\n",
              "    }\n",
              "    30% {\n",
              "      border-color: transparent;\n",
              "      border-left-color: var(--fill-color);\n",
              "      border-top-color: var(--fill-color);\n",
              "      border-right-color: var(--fill-color);\n",
              "    }\n",
              "    40% {\n",
              "      border-color: transparent;\n",
              "      border-right-color: var(--fill-color);\n",
              "      border-top-color: var(--fill-color);\n",
              "    }\n",
              "    60% {\n",
              "      border-color: transparent;\n",
              "      border-right-color: var(--fill-color);\n",
              "    }\n",
              "    80% {\n",
              "      border-color: transparent;\n",
              "      border-right-color: var(--fill-color);\n",
              "      border-bottom-color: var(--fill-color);\n",
              "    }\n",
              "    90% {\n",
              "      border-color: transparent;\n",
              "      border-bottom-color: var(--fill-color);\n",
              "    }\n",
              "  }\n",
              "</style>\n",
              "\n",
              "  <script>\n",
              "    async function quickchart(key) {\n",
              "      const quickchartButtonEl =\n",
              "        document.querySelector('#' + key + ' button');\n",
              "      quickchartButtonEl.disabled = true;  // To prevent multiple clicks.\n",
              "      quickchartButtonEl.classList.add('colab-df-spinner');\n",
              "      try {\n",
              "        const charts = await google.colab.kernel.invokeFunction(\n",
              "            'suggestCharts', [key], {});\n",
              "      } catch (error) {\n",
              "        console.error('Error during call to suggestCharts:', error);\n",
              "      }\n",
              "      quickchartButtonEl.classList.remove('colab-df-spinner');\n",
              "      quickchartButtonEl.classList.add('colab-df-quickchart-complete');\n",
              "    }\n",
              "    (() => {\n",
              "      let quickchartButtonEl =\n",
              "        document.querySelector('#df-e0c92195-63ef-48f9-9d09-b637cde4d1f6 button');\n",
              "      quickchartButtonEl.style.display =\n",
              "        google.colab.kernel.accessAllowed ? 'block' : 'none';\n",
              "    })();\n",
              "  </script>\n",
              "</div>\n",
              "    </div>\n",
              "  </div>\n"
            ],
            "text/plain": [
              "     Offencecode  Offdescription  oldOffGroup  oldOffsubGroup  newOffGroup  \\\n",
              "0          False           False        False           False        False   \n",
              "1          False           False        False           False        False   \n",
              "2          False           False        False           False        False   \n",
              "3          False           False        False           False        False   \n",
              "4          False           False        False           False        False   \n",
              "..           ...             ...          ...             ...          ...   \n",
              "191        False           False        False            True        False   \n",
              "192        False           False         True            True        False   \n",
              "193        False           False        False            True        False   \n",
              "194        False           False        False           False        False   \n",
              "195        False           False        False           False        False   \n",
              "\n",
              "     noSGroup  \n",
              "0       False  \n",
              "1       False  \n",
              "2       False  \n",
              "3       False  \n",
              "4       False  \n",
              "..        ...  \n",
              "191     False  \n",
              "192     False  \n",
              "193     False  \n",
              "194     False  \n",
              "195     False  \n",
              "\n",
              "[186 rows x 6 columns]"
            ]
          },
          "execution_count": 47,
          "metadata": {},
          "output_type": "execute_result"
        }
      ],
      "source": [
        "Dataset2.isnull() #code to check for null values"
      ]
    },
    {
      "cell_type": "code",
      "execution_count": null,
      "metadata": {
        "colab": {
          "background_save": true
        },
        "id": "5xPWCLWrETZB",
        "outputId": "1b145673-2af4-44e2-a3df-00b74bebd9e2"
      },
      "outputs": [
        {
          "data": {
            "text/plain": [
              "Offencecode        0\n",
              "Offdescription     0\n",
              "oldOffGroup        5\n",
              "oldOffsubGroup    90\n",
              "newOffGroup        0\n",
              "noSGroup           0\n",
              "dtype: int64"
            ]
          },
          "execution_count": 48,
          "metadata": {},
          "output_type": "execute_result"
        }
      ],
      "source": [
        "Dataset2.isnull().sum() #code to give a sum of null values in each column"
      ]
    },
    {
      "cell_type": "markdown",
      "metadata": {
        "id": "LNHEEBD3qEAL"
      },
      "source": [
        "### Handling Missing Values"
      ]
    },
    {
      "cell_type": "code",
      "execution_count": null,
      "metadata": {
        "colab": {
          "background_save": true
        },
        "id": "OByn2nxlEost"
      },
      "outputs": [],
      "source": [
        "#off.fillna(0, inplace=True) #code to change every null value to a constant (0)."
      ]
    },
    {
      "cell_type": "code",
      "execution_count": null,
      "metadata": {
        "colab": {
          "background_save": true
        },
        "id": "Ew4WORPoZd_B",
        "outputId": "54c0f825-3e76-4417-fd96-3f7892aeb065"
      },
      "outputs": [
        {
          "name": "stderr",
          "output_type": "stream",
          "text": [
            "<ipython-input-50-bc49cb8ff158>:1: SettingWithCopyWarning: \n",
            "A value is trying to be set on a copy of a slice from a DataFrame\n",
            "\n",
            "See the caveats in the documentation: https://pandas.pydata.org/pandas-docs/stable/user_guide/indexing.html#returning-a-view-versus-a-copy\n",
            "  Dataset2['oldOffGroup'].fillna(0, inplace = True) #code to change null values in oldoffgroup with a constant (0).\n"
          ]
        }
      ],
      "source": [
        "Dataset2['oldOffGroup'].fillna(0, inplace = True) #code to change null values in oldoffgroup with a constant (0)."
      ]
    },
    {
      "cell_type": "code",
      "execution_count": null,
      "metadata": {
        "colab": {
          "background_save": true
        },
        "id": "5ZyVBEXdZBEN",
        "outputId": "2e7653f9-c7b3-4d45-e27e-97eeb56d1053"
      },
      "outputs": [
        {
          "name": "stderr",
          "output_type": "stream",
          "text": [
            "<ipython-input-51-6137cc5a92d1>:1: SettingWithCopyWarning: \n",
            "A value is trying to be set on a copy of a slice from a DataFrame\n",
            "\n",
            "See the caveats in the documentation: https://pandas.pydata.org/pandas-docs/stable/user_guide/indexing.html#returning-a-view-versus-a-copy\n",
            "  Dataset2['oldOffsubGroup'].fillna('Unknown', inplace=True) #code to change null values in oldsubgroup with 'unknown'.\n"
          ]
        }
      ],
      "source": [
        "Dataset2['oldOffsubGroup'].fillna('Unknown', inplace=True) #code to change null values in oldsubgroup with 'unknown'."
      ]
    },
    {
      "cell_type": "code",
      "execution_count": null,
      "metadata": {
        "colab": {
          "background_save": true
        },
        "id": "DsbJyQFLXsit",
        "outputId": "bc8f2d08-3960-4efe-94ed-0ba7824974cd"
      },
      "outputs": [
        {
          "data": {
            "text/plain": [
              "Offencecode       0\n",
              "Offdescription    0\n",
              "oldOffGroup       0\n",
              "oldOffsubGroup    0\n",
              "newOffGroup       0\n",
              "noSGroup          0\n",
              "dtype: int64"
            ]
          },
          "execution_count": 52,
          "metadata": {},
          "output_type": "execute_result"
        }
      ],
      "source": [
        "Dataset2.isnull().sum()"
      ]
    },
    {
      "cell_type": "markdown",
      "metadata": {
        "id": "Vnc_jN9EQjcQ"
      },
      "source": [
        "# Using Spark SQL\n",
        "We create a spark dataframe from Pandas"
      ]
    },
    {
      "cell_type": "markdown",
      "metadata": {
        "id": "mXoXfjcxzCh3"
      },
      "source": [
        "### Creating a SparkDataframe for Dataset 1\n"
      ]
    },
    {
      "cell_type": "code",
      "execution_count": null,
      "metadata": {
        "colab": {
          "background_save": true
        },
        "id": "GUSZKgAAhJl2"
      },
      "outputs": [],
      "source": [
        "Dataset1df = spark.createDataFrame(Dataset1) #create a spark dataframe from a Panda dataframe"
      ]
    },
    {
      "cell_type": "code",
      "execution_count": null,
      "metadata": {
        "colab": {
          "background_save": true
        },
        "id": "CZey_qCzNSgQ",
        "outputId": "464207ea-e5d2-437a-9b44-344ef36cfce8"
      },
      "outputs": [
        {
          "name": "stdout",
          "output_type": "stream",
          "text": [
            "+-------+--------+-----------------+--------------------+--------------------+--------------------+-------+-----+\n",
            "|  Fyear|FQuarter|        ForceName|             OffDesc|            OffGroup|         OffSubgroup|OffCode|NoOff|\n",
            "+-------+--------+-----------------+--------------------+--------------------+--------------------+-------+-----+\n",
            "|2014/15|       1|Avon and Somerset|Absconding from l...|Miscellaneous cri...|Miscellaneous cri...|     80|    3|\n",
            "|2014/15|       1|Avon and Somerset|Abuse of children...|     Sexual offences|Other sexual offe...|     71|    3|\n",
            "|2014/15|       1|Avon and Somerset|Abuse of position...|     Sexual offences|Other sexual offe...|     73|    3|\n",
            "|2014/15|       1|Avon and Somerset|Aggravated burgla...|      Theft offences|Non-domestic burg...|     31|    3|\n",
            "|2014/15|       1|Avon and Somerset|Aggravated burgla...|      Theft offences|   Domestic burglary|     29|   12|\n",
            "+-------+--------+-----------------+--------------------+--------------------+--------------------+-------+-----+\n",
            "only showing top 5 rows\n",
            "\n"
          ]
        }
      ],
      "source": [
        "Dataset1df.show(5)"
      ]
    },
    {
      "cell_type": "markdown",
      "metadata": {
        "id": "2MTaVGv6cNFC"
      },
      "source": [
        "### Create a Spark Dataframe for Dataset 2"
      ]
    },
    {
      "cell_type": "code",
      "execution_count": null,
      "metadata": {
        "colab": {
          "background_save": true
        },
        "id": "WhEkvqq_jtfx"
      },
      "outputs": [],
      "source": [
        "Dataset2df = spark.createDataFrame(Dataset2) #create a spark dataframe from a Panda dataframe"
      ]
    },
    {
      "cell_type": "code",
      "execution_count": null,
      "metadata": {
        "colab": {
          "background_save": true
        },
        "id": "QIFUM69xjlTG",
        "outputId": "ad7651d5-8466-4adf-9a63-f2bc96668642"
      },
      "outputs": [
        {
          "name": "stdout",
          "output_type": "stream",
          "text": [
            "+--------------+--------------------+--------------------+--------------------+--------------------+--------------------+\n",
            "|   Offencecode|      Offdescription|         oldOffGroup|      oldOffsubGroup|         newOffGroup|            noSGroup|\n",
            "+--------------+--------------------+--------------------+--------------------+--------------------+--------------------+\n",
            "|             1|              Murder|Violence against ...|Violence against ...|Violence against ...|            Homicide|\n",
            "|     1/4.1/4.2|            Homicide|Violence against ...|Violence against ...|Violence against ...|            Homicide|\n",
            "|1/4.1/4.2/4.10|            Homicide|Violence against ...|Violence against ...|Violence against ...|            Homicide|\n",
            "|           104|Assault without i...|Violence against ...|Violence against ...|Violence against ...|Violence without ...|\n",
            "|          105A|Assault without i...|Violence against ...|Violence against ...|Violence against ...|Violence without ...|\n",
            "+--------------+--------------------+--------------------+--------------------+--------------------+--------------------+\n",
            "only showing top 5 rows\n",
            "\n"
          ]
        }
      ],
      "source": [
        "Dataset2df.show(5)"
      ]
    },
    {
      "cell_type": "markdown",
      "metadata": {
        "id": "yD4WVE9ZzNtE"
      },
      "source": [
        "## Create a Temporary Table\n",
        "\n",
        "for us to work with SQL, we have to save the spark dataframe on a SQL database by creating a temporary table to accept the data"
      ]
    },
    {
      "cell_type": "markdown",
      "metadata": {
        "id": "R8RfHz5uSDLl"
      },
      "source": [
        "### Temporary Table for Dataset 1"
      ]
    },
    {
      "cell_type": "code",
      "execution_count": null,
      "metadata": {
        "colab": {
          "background_save": true
        },
        "id": "N_iHyVx_ieo5"
      },
      "outputs": [],
      "source": [
        "Dataset1df.createOrReplaceTempView(\"Crime\") # Register Temporary Table"
      ]
    },
    {
      "cell_type": "markdown",
      "metadata": {
        "id": "iFIIsIeBcSZS"
      },
      "source": [
        "### Temporary table for dataset 2"
      ]
    },
    {
      "cell_type": "code",
      "execution_count": null,
      "metadata": {
        "colab": {
          "background_save": true
        },
        "id": "ZMxwQ1eRj-ed"
      },
      "outputs": [],
      "source": [
        "Dataset2df.createOrReplaceTempView(\"Offence\") #creating a temporary table name offence"
      ]
    },
    {
      "cell_type": "markdown",
      "metadata": {
        "id": "-mnltn0OcX6o"
      },
      "source": [
        "## **Perform SQL Queries using Spark.SQL**"
      ]
    },
    {
      "cell_type": "markdown",
      "metadata": {
        "id": "WyMEN0uT-kXi"
      },
      "source": [
        "### SQL Syntax 1: to Merge Datasets"
      ]
    },
    {
      "cell_type": "code",
      "execution_count": null,
      "metadata": {
        "colab": {
          "background_save": true
        },
        "id": "X4cB--cF4CTz",
        "outputId": "0e86143d-1b43-413c-bb0c-5f7f639c5cac"
      },
      "outputs": [
        {
          "data": {
            "text/plain": [
              "89984"
            ]
          },
          "execution_count": 59,
          "metadata": {},
          "output_type": "execute_result"
        }
      ],
      "source": [
        "Criminaldataset = spark.sql(\"SELECT * FROM Crime LEFT JOIN Offence ON Crime.OffCode = offence.Offencecode\") #code to merge the datasets into one\n",
        "Criminaldataset.count()"
      ]
    },
    {
      "cell_type": "code",
      "execution_count": null,
      "metadata": {
        "colab": {
          "background_save": true
        },
        "id": "f_fD9PFi9NiB"
      },
      "outputs": [],
      "source": []
    },
    {
      "cell_type": "markdown",
      "metadata": {
        "id": "Csah7QsAoRS0"
      },
      "source": [
        "### Temporary Table for Merged Data"
      ]
    },
    {
      "cell_type": "code",
      "execution_count": null,
      "metadata": {
        "colab": {
          "background_save": true
        },
        "id": "vKEcMlYfL6eW"
      },
      "outputs": [],
      "source": [
        " Criminaldataset.createOrReplaceTempView(\"Newdataset\") #creating a temporary table name offence"
      ]
    },
    {
      "cell_type": "markdown",
      "metadata": {
        "id": "aHvByB0S13fv"
      },
      "source": [
        "### SQL Syntax 2: Sql Select"
      ]
    },
    {
      "cell_type": "code",
      "execution_count": null,
      "metadata": {
        "colab": {
          "background_save": true
        },
        "id": "InpjtXzPMU-J",
        "outputId": "1001c224-5fb3-44af-ca09-8b55caaa0ec3"
      },
      "outputs": [
        {
          "name": "stdout",
          "output_type": "stream",
          "text": [
            "+-------+--------+-----------------+--------------------+--------------------+--------------------+-------+-----+-----------+--------------------+--------------------+--------------------+--------------------+--------------------+\n",
            "|  Fyear|FQuarter|        ForceName|             OffDesc|            OffGroup|         OffSubgroup|OffCode|NoOff|Offencecode|      Offdescription|         oldOffGroup|      oldOffsubGroup|         newOffGroup|            noSGroup|\n",
            "+-------+--------+-----------------+--------------------+--------------------+--------------------+-------+-----+-----------+--------------------+--------------------+--------------------+--------------------+--------------------+\n",
            "|2021/22|       1|             Kent|Exploitation of p...|Miscellaneous cri...|Miscellaneous cri...|     24|   10|         24|Exploitation of p...|     Sexual offences|Other sexual offe...|Miscellaneous cri...|Miscellaneous cri...|\n",
            "|2021/22|       1|             Kent|Distraction Burgl...|      Theft offences|   Domestic burglary|    28G|    9|       NULL|                NULL|                NULL|                NULL|                NULL|                NULL|\n",
            "|2014/15|       1|Avon and Somerset|Aggravated burgla...|      Theft offences|   Domestic burglary|     29|   12|         29|Aggravated burgla...|            Burglary|Total burglary in...|      Theft offences|   Domestic burglary|\n",
            "|2014/15|       1|Avon and Somerset|Aggravated burgla...|      Theft offences|Non-domestic burg...|     31|    3|         31|Aggravated burgla...|            Burglary|Total burglary in...|      Theft offences|Non-domestic burg...|\n",
            "|2021/22|       1|             Kent|    Endangering life|Violence against ...|Violence with injury|     5E|    8|         5E|    Endangering life|Violence against ...|Violence against ...|Violence against ...|Violence with injury|\n",
            "+-------+--------+-----------------+--------------------+--------------------+--------------------+-------+-----+-----------+--------------------+--------------------+--------------------+--------------------+--------------------+\n",
            "\n"
          ]
        }
      ],
      "source": [
        "spark.sql(\"select * from Newdataset limit 5\").show(5) # Select all data from temp table"
      ]
    },
    {
      "cell_type": "markdown",
      "metadata": {
        "id": "imAKVdCp7nW1"
      },
      "source": [
        "### SQL Syntax 3: SQL Count"
      ]
    },
    {
      "cell_type": "code",
      "execution_count": null,
      "metadata": {
        "colab": {
          "background_save": true
        },
        "id": "sjfp_xic7mei",
        "outputId": "1210dff8-d8b6-47a5-fd6f-4d20405ef38c"
      },
      "outputs": [
        {
          "name": "stdout",
          "output_type": "stream",
          "text": [
            "+-----------+\n",
            "|total_count|\n",
            "+-----------+\n",
            "|      89984|\n",
            "+-----------+\n",
            "\n"
          ]
        }
      ],
      "source": [
        "spark.sql(\"select count(*) as total_count from Newdataset\").show() # Select count of data in table"
      ]
    },
    {
      "cell_type": "markdown",
      "metadata": {
        "id": "MTy10RU1-ooR"
      },
      "source": [
        "### SQL Syntax 3: to Locate Distinct Values"
      ]
    },
    {
      "cell_type": "code",
      "execution_count": null,
      "metadata": {
        "colab": {
          "background_save": true
        },
        "id": "tMBgn0qQ9fYp",
        "outputId": "be71c40f-763f-4c83-b7cc-5c42071b7b39"
      },
      "outputs": [
        {
          "data": {
            "text/html": [
              "<table border='1'>\n",
              "<tr><th>FQuarter</th></tr>\n",
              "<tr><td>1</td></tr>\n",
              "<tr><td>3</td></tr>\n",
              "<tr><td>2</td></tr>\n",
              "<tr><td>4</td></tr>\n",
              "</table>\n"
            ],
            "text/plain": [
              "+--------+\n",
              "|FQuarter|\n",
              "+--------+\n",
              "|       1|\n",
              "|       3|\n",
              "|       2|\n",
              "|       4|\n",
              "+--------+"
            ]
          },
          "execution_count": 63,
          "metadata": {},
          "output_type": "execute_result"
        }
      ],
      "source": [
        "spark.sql(\"SELECT DISTINCT \tFQuarter FROM Newdataset\") #highlighting the different FQuarter in the table"
      ]
    },
    {
      "cell_type": "code",
      "execution_count": null,
      "metadata": {
        "colab": {
          "background_save": true
        },
        "id": "JSNdlM9N-BN2",
        "outputId": "628aebd1-1354-489e-ac01-1c0c9f3bcf82"
      },
      "outputs": [
        {
          "name": "stdout",
          "output_type": "stream",
          "text": [
            "+--------------------+\n",
            "|           ForceName|\n",
            "+--------------------+\n",
            "|       Thames Valley|\n",
            "|               Gwent|\n",
            "|           Hampshire|\n",
            "|       Staffordshire|\n",
            "|     Gloucestershire|\n",
            "|     Nottinghamshire|\n",
            "|     North Yorkshire|\n",
            "|              Surrey|\n",
            "|             Cumbria|\n",
            "|           Cleveland|\n",
            "|British Transport...|\n",
            "|     London, City of|\n",
            "|          Merseyside|\n",
            "|  Greater Manchester|\n",
            "|          Lancashire|\n",
            "|        Warwickshire|\n",
            "|       Hertfordshire|\n",
            "|           Wiltshire|\n",
            "|      Leicestershire|\n",
            "| Metropolitan Police|\n",
            "|              Dorset|\n",
            "|        Bedfordshire|\n",
            "|         North Wales|\n",
            "|                Kent|\n",
            "|   Avon and Somerset|\n",
            "|               Cifas|\n",
            "|             Norfolk|\n",
            "|         South Wales|\n",
            "|              Sussex|\n",
            "|      Cambridgeshire|\n",
            "|          Derbyshire|\n",
            "|Financial Fraud A...|\n",
            "|              Durham|\n",
            "|     South Yorkshire|\n",
            "|             Suffolk|\n",
            "|    Northamptonshire|\n",
            "|         Northumbria|\n",
            "|         Dyfed-Powys|\n",
            "|        Lincolnshire|\n",
            "|       West Midlands|\n",
            "|        Action Fraud|\n",
            "|            Cheshire|\n",
            "|          Humberside|\n",
            "|  Devon and Cornwall|\n",
            "|         West Mercia|\n",
            "|               Essex|\n",
            "|      West Yorkshire|\n",
            "|               CIFAS|\n",
            "|          UK Finance|\n",
            "+--------------------+\n",
            "\n",
            "+-------------------------+\n",
            "|count(DISTINCT Forcename)|\n",
            "+-------------------------+\n",
            "|                       49|\n",
            "+-------------------------+\n",
            "\n"
          ]
        }
      ],
      "source": [
        "spark.sql(\"SELECT DISTINCT ForceName FROM Newdataset\").show(50) #highlighting the different Forcenames in the table\n",
        "spark.sql(\"select COUNT(DISTINCT Forcename) from Newdataset\").show()"
      ]
    },
    {
      "cell_type": "code",
      "execution_count": null,
      "metadata": {
        "colab": {
          "background_save": true
        },
        "id": "aZiikKyJ51hP",
        "outputId": "cc885e8e-7bfb-4719-88a7-73f29ffecfa2"
      },
      "outputs": [
        {
          "name": "stdout",
          "output_type": "stream",
          "text": [
            "+--------------------+\n",
            "|            OffGroup|\n",
            "+--------------------+\n",
            "|Public order offe...|\n",
            "|             Robbery|\n",
            "|      Fraud offences|\n",
            "|     Sexual offences|\n",
            "|Criminal damage a...|\n",
            "|Possession of wea...|\n",
            "|       Drug offences|\n",
            "|      Theft offences|\n",
            "|Miscellaneous cri...|\n",
            "|Violence against ...|\n",
            "+--------------------+\n",
            "\n",
            "+------------------------+\n",
            "|count(DISTINCT OffGroup)|\n",
            "+------------------------+\n",
            "|                      10|\n",
            "+------------------------+\n",
            "\n"
          ]
        }
      ],
      "source": [
        "spark.sql(\"SELECT DISTINCT OffGroup FROM Newdataset\").show() #highlighting the different OffGroup in the table\n",
        "spark.sql(\"select COUNT(DISTINCT OffGroup) from Newdataset\").show()"
      ]
    },
    {
      "cell_type": "code",
      "execution_count": null,
      "metadata": {
        "colab": {
          "background_save": true
        },
        "id": "PFiP56tW2UT8",
        "outputId": "f1a50c9f-6432-4e45-c001-34ef1f53268d"
      },
      "outputs": [
        {
          "name": "stdout",
          "output_type": "stream",
          "text": [
            "+--------------------+\n",
            "|            OffGroup|\n",
            "+--------------------+\n",
            "|Public order offe...|\n",
            "|             Robbery|\n",
            "|      Fraud offences|\n",
            "|     Sexual offences|\n",
            "|Criminal damage a...|\n",
            "|Possession of wea...|\n",
            "|       Drug offences|\n",
            "|      Theft offences|\n",
            "|Miscellaneous cri...|\n",
            "|Violence against ...|\n",
            "+--------------------+\n",
            "\n",
            "+------------------------+\n",
            "|count(DISTINCT OffGroup)|\n",
            "+------------------------+\n",
            "|                      10|\n",
            "+------------------------+\n",
            "\n"
          ]
        }
      ],
      "source": [
        "spark.sql(\"SELECT DISTINCT OffGroup FROM Newdataset\").show() #highlighting the different OffGroup in the table\n",
        "spark.sql(\"select COUNT(DISTINCT OffGroup) from Newdataset\").show()"
      ]
    },
    {
      "cell_type": "markdown",
      "metadata": {
        "id": "b5jGA8kX_VCe"
      },
      "source": [
        "### SQL Syntax 4: to Describe Columns"
      ]
    },
    {
      "cell_type": "code",
      "execution_count": null,
      "metadata": {
        "colab": {
          "background_save": true
        },
        "id": "ze1sVIPS_X5k",
        "outputId": "77678ebb-7158-4362-9199-2c1cf7b05e1a"
      },
      "outputs": [
        {
          "data": {
            "text/html": [
              "<table border='1'>\n",
              "<tr><th>col_name</th><th>data_type</th><th>comment</th></tr>\n",
              "<tr><td>Fyear</td><td>string</td><td>NULL</td></tr>\n",
              "<tr><td>FQuarter</td><td>bigint</td><td>NULL</td></tr>\n",
              "<tr><td>ForceName</td><td>string</td><td>NULL</td></tr>\n",
              "<tr><td>OffDesc</td><td>string</td><td>NULL</td></tr>\n",
              "<tr><td>OffGroup</td><td>string</td><td>NULL</td></tr>\n",
              "<tr><td>OffSubgroup</td><td>string</td><td>NULL</td></tr>\n",
              "<tr><td>OffCode</td><td>string</td><td>NULL</td></tr>\n",
              "<tr><td>NoOff</td><td>bigint</td><td>NULL</td></tr>\n",
              "<tr><td>Offencecode</td><td>string</td><td>NULL</td></tr>\n",
              "<tr><td>Offdescription</td><td>string</td><td>NULL</td></tr>\n",
              "<tr><td>oldOffGroup</td><td>string</td><td>NULL</td></tr>\n",
              "<tr><td>oldOffsubGroup</td><td>string</td><td>NULL</td></tr>\n",
              "<tr><td>newOffGroup</td><td>string</td><td>NULL</td></tr>\n",
              "<tr><td>noSGroup</td><td>string</td><td>NULL</td></tr>\n",
              "</table>\n"
            ],
            "text/plain": [
              "+--------------+---------+-------+\n",
              "|      col_name|data_type|comment|\n",
              "+--------------+---------+-------+\n",
              "|         Fyear|   string|   NULL|\n",
              "|      FQuarter|   bigint|   NULL|\n",
              "|     ForceName|   string|   NULL|\n",
              "|       OffDesc|   string|   NULL|\n",
              "|      OffGroup|   string|   NULL|\n",
              "|   OffSubgroup|   string|   NULL|\n",
              "|       OffCode|   string|   NULL|\n",
              "|         NoOff|   bigint|   NULL|\n",
              "|   Offencecode|   string|   NULL|\n",
              "|Offdescription|   string|   NULL|\n",
              "|   oldOffGroup|   string|   NULL|\n",
              "|oldOffsubGroup|   string|   NULL|\n",
              "|   newOffGroup|   string|   NULL|\n",
              "|      noSGroup|   string|   NULL|\n",
              "+--------------+---------+-------+"
            ]
          },
          "execution_count": 67,
          "metadata": {},
          "output_type": "execute_result"
        }
      ],
      "source": [
        "spark.sql (\"DESCRIBE Newdataset\") #description of table"
      ]
    },
    {
      "cell_type": "markdown",
      "metadata": {
        "id": "P9NEe18CLGrl"
      },
      "source": [
        "SQL Syntax 5: Show columns"
      ]
    },
    {
      "cell_type": "code",
      "execution_count": null,
      "metadata": {
        "colab": {
          "background_save": true
        },
        "id": "LQn_yf2gIr8F",
        "outputId": "e7898bb7-d77a-4620-f8c8-fca9cf2c50b7"
      },
      "outputs": [
        {
          "data": {
            "text/html": [
              "<table border='1'>\n",
              "<tr><th>col_name</th></tr>\n",
              "<tr><td>Fyear</td></tr>\n",
              "<tr><td>FQuarter</td></tr>\n",
              "<tr><td>ForceName</td></tr>\n",
              "<tr><td>OffDesc</td></tr>\n",
              "<tr><td>OffGroup</td></tr>\n",
              "<tr><td>OffSubgroup</td></tr>\n",
              "<tr><td>OffCode</td></tr>\n",
              "<tr><td>NoOff</td></tr>\n",
              "<tr><td>Offencecode</td></tr>\n",
              "<tr><td>Offdescription</td></tr>\n",
              "<tr><td>oldOffGroup</td></tr>\n",
              "<tr><td>oldOffsubGroup</td></tr>\n",
              "<tr><td>newOffGroup</td></tr>\n",
              "<tr><td>noSGroup</td></tr>\n",
              "</table>\n"
            ],
            "text/plain": [
              "+--------------+\n",
              "|      col_name|\n",
              "+--------------+\n",
              "|         Fyear|\n",
              "|      FQuarter|\n",
              "|     ForceName|\n",
              "|       OffDesc|\n",
              "|      OffGroup|\n",
              "|   OffSubgroup|\n",
              "|       OffCode|\n",
              "|         NoOff|\n",
              "|   Offencecode|\n",
              "|Offdescription|\n",
              "|   oldOffGroup|\n",
              "|oldOffsubGroup|\n",
              "|   newOffGroup|\n",
              "|      noSGroup|\n",
              "+--------------+"
            ]
          },
          "execution_count": 68,
          "metadata": {},
          "output_type": "execute_result"
        }
      ],
      "source": [
        "spark.sql(\"SHOW COLUMNS FROM Newdataset\") #descriotion of table"
      ]
    },
    {
      "cell_type": "markdown",
      "metadata": {
        "id": "S_d4LbWxDKth"
      },
      "source": [
        "### SQL Syntax 5: Handling Null Values"
      ]
    },
    {
      "cell_type": "code",
      "execution_count": null,
      "metadata": {
        "colab": {
          "background_save": true
        },
        "id": "D8K_i6znDOL2",
        "outputId": "f3c6122e-0a94-426a-be17-da96c8bc58e3"
      },
      "outputs": [
        {
          "data": {
            "text/html": [
              "<table border='1'>\n",
              "<tr><th>Fyear</th><th>FQuarter</th><th>ForceName</th><th>OffDesc</th><th>OffGroup</th><th>OffSubgroup</th><th>OffCode</th><th>NoOff</th><th>Offencecode</th><th>Offdescription</th><th>oldOffGroup</th><th>oldOffsubGroup</th><th>newOffGroup</th><th>noSGroup</th></tr>\n",
              "<tr><td>2021/22</td><td>1</td><td>Avon and Somerset</td><td>Assaults on emerg...</td><td>Violence against ...</td><td>Violence with injury</td><td>8T</td><td>38</td><td>NULL</td><td>NULL</td><td>NULL</td><td>NULL</td><td>NULL</td><td>NULL</td></tr>\n",
              "<tr><td>2021/22</td><td>1</td><td>Bedfordshire</td><td>Assaults on emerg...</td><td>Violence against ...</td><td>Violence with injury</td><td>8T</td><td>5</td><td>NULL</td><td>NULL</td><td>NULL</td><td>NULL</td><td>NULL</td><td>NULL</td></tr>\n",
              "<tr><td>2021/22</td><td>1</td><td>British Transport...</td><td>Assaults on emerg...</td><td>Violence against ...</td><td>Violence with injury</td><td>8T</td><td>0</td><td>NULL</td><td>NULL</td><td>NULL</td><td>NULL</td><td>NULL</td><td>NULL</td></tr>\n",
              "<tr><td>2021/22</td><td>1</td><td>Cambridgeshire</td><td>Assaults on emerg...</td><td>Violence against ...</td><td>Violence with injury</td><td>8T</td><td>7</td><td>NULL</td><td>NULL</td><td>NULL</td><td>NULL</td><td>NULL</td><td>NULL</td></tr>\n",
              "<tr><td>2021/22</td><td>1</td><td>Cheshire</td><td>Assaults on emerg...</td><td>Violence against ...</td><td>Violence with injury</td><td>8T</td><td>13</td><td>NULL</td><td>NULL</td><td>NULL</td><td>NULL</td><td>NULL</td><td>NULL</td></tr>\n",
              "<tr><td>2021/22</td><td>1</td><td>Cleveland</td><td>Assaults on emerg...</td><td>Violence against ...</td><td>Violence with injury</td><td>8T</td><td>8</td><td>NULL</td><td>NULL</td><td>NULL</td><td>NULL</td><td>NULL</td><td>NULL</td></tr>\n",
              "<tr><td>2021/22</td><td>1</td><td>Cumbria</td><td>Assaults on emerg...</td><td>Violence against ...</td><td>Violence with injury</td><td>8T</td><td>8</td><td>NULL</td><td>NULL</td><td>NULL</td><td>NULL</td><td>NULL</td><td>NULL</td></tr>\n",
              "<tr><td>2021/22</td><td>1</td><td>Derbyshire</td><td>Assaults on emerg...</td><td>Violence against ...</td><td>Violence with injury</td><td>8T</td><td>1</td><td>NULL</td><td>NULL</td><td>NULL</td><td>NULL</td><td>NULL</td><td>NULL</td></tr>\n",
              "<tr><td>2021/22</td><td>1</td><td>Devon and Cornwall</td><td>Assaults on emerg...</td><td>Violence against ...</td><td>Violence with injury</td><td>8T</td><td>14</td><td>NULL</td><td>NULL</td><td>NULL</td><td>NULL</td><td>NULL</td><td>NULL</td></tr>\n",
              "<tr><td>2021/22</td><td>1</td><td>Dorset</td><td>Assaults on emerg...</td><td>Violence against ...</td><td>Violence with injury</td><td>8T</td><td>0</td><td>NULL</td><td>NULL</td><td>NULL</td><td>NULL</td><td>NULL</td><td>NULL</td></tr>\n",
              "<tr><td>2021/22</td><td>1</td><td>Durham</td><td>Assaults on emerg...</td><td>Violence against ...</td><td>Violence with injury</td><td>8T</td><td>5</td><td>NULL</td><td>NULL</td><td>NULL</td><td>NULL</td><td>NULL</td><td>NULL</td></tr>\n",
              "<tr><td>2021/22</td><td>1</td><td>Dyfed-Powys</td><td>Assaults on emerg...</td><td>Violence against ...</td><td>Violence with injury</td><td>8T</td><td>7</td><td>NULL</td><td>NULL</td><td>NULL</td><td>NULL</td><td>NULL</td><td>NULL</td></tr>\n",
              "<tr><td>2021/22</td><td>1</td><td>Essex</td><td>Assaults on emerg...</td><td>Violence against ...</td><td>Violence with injury</td><td>8T</td><td>6</td><td>NULL</td><td>NULL</td><td>NULL</td><td>NULL</td><td>NULL</td><td>NULL</td></tr>\n",
              "<tr><td>2021/22</td><td>1</td><td>Gloucestershire</td><td>Assaults on emerg...</td><td>Violence against ...</td><td>Violence with injury</td><td>8T</td><td>0</td><td>NULL</td><td>NULL</td><td>NULL</td><td>NULL</td><td>NULL</td><td>NULL</td></tr>\n",
              "<tr><td>2021/22</td><td>1</td><td>Greater Manchester</td><td>Assaults on emerg...</td><td>Violence against ...</td><td>Violence with injury</td><td>8T</td><td>21</td><td>NULL</td><td>NULL</td><td>NULL</td><td>NULL</td><td>NULL</td><td>NULL</td></tr>\n",
              "<tr><td>2021/22</td><td>1</td><td>Gwent</td><td>Assaults on emerg...</td><td>Violence against ...</td><td>Violence with injury</td><td>8T</td><td>17</td><td>NULL</td><td>NULL</td><td>NULL</td><td>NULL</td><td>NULL</td><td>NULL</td></tr>\n",
              "<tr><td>2021/22</td><td>1</td><td>Hampshire</td><td>Assaults on emerg...</td><td>Violence against ...</td><td>Violence with injury</td><td>8T</td><td>23</td><td>NULL</td><td>NULL</td><td>NULL</td><td>NULL</td><td>NULL</td><td>NULL</td></tr>\n",
              "<tr><td>2021/22</td><td>1</td><td>Hertfordshire</td><td>Assaults on emerg...</td><td>Violence against ...</td><td>Violence with injury</td><td>8T</td><td>15</td><td>NULL</td><td>NULL</td><td>NULL</td><td>NULL</td><td>NULL</td><td>NULL</td></tr>\n",
              "<tr><td>2021/22</td><td>1</td><td>Humberside</td><td>Assaults on emerg...</td><td>Violence against ...</td><td>Violence with injury</td><td>8T</td><td>8</td><td>NULL</td><td>NULL</td><td>NULL</td><td>NULL</td><td>NULL</td><td>NULL</td></tr>\n",
              "<tr><td>2021/22</td><td>1</td><td>Kent</td><td>Assaults on emerg...</td><td>Violence against ...</td><td>Violence with injury</td><td>8T</td><td>36</td><td>NULL</td><td>NULL</td><td>NULL</td><td>NULL</td><td>NULL</td><td>NULL</td></tr>\n",
              "</table>\n",
              "only showing top 20 rows\n"
            ],
            "text/plain": [
              "+-------+--------+--------------------+--------------------+--------------------+--------------------+-------+-----+-----------+--------------+-----------+--------------+-----------+--------+\n",
              "|  Fyear|FQuarter|           ForceName|             OffDesc|            OffGroup|         OffSubgroup|OffCode|NoOff|Offencecode|Offdescription|oldOffGroup|oldOffsubGroup|newOffGroup|noSGroup|\n",
              "+-------+--------+--------------------+--------------------+--------------------+--------------------+-------+-----+-----------+--------------+-----------+--------------+-----------+--------+\n",
              "|2021/22|       1|   Avon and Somerset|Assaults on emerg...|Violence against ...|Violence with injury|     8T|   38|       NULL|          NULL|       NULL|          NULL|       NULL|    NULL|\n",
              "|2021/22|       1|        Bedfordshire|Assaults on emerg...|Violence against ...|Violence with injury|     8T|    5|       NULL|          NULL|       NULL|          NULL|       NULL|    NULL|\n",
              "|2021/22|       1|British Transport...|Assaults on emerg...|Violence against ...|Violence with injury|     8T|    0|       NULL|          NULL|       NULL|          NULL|       NULL|    NULL|\n",
              "|2021/22|       1|      Cambridgeshire|Assaults on emerg...|Violence against ...|Violence with injury|     8T|    7|       NULL|          NULL|       NULL|          NULL|       NULL|    NULL|\n",
              "|2021/22|       1|            Cheshire|Assaults on emerg...|Violence against ...|Violence with injury|     8T|   13|       NULL|          NULL|       NULL|          NULL|       NULL|    NULL|\n",
              "|2021/22|       1|           Cleveland|Assaults on emerg...|Violence against ...|Violence with injury|     8T|    8|       NULL|          NULL|       NULL|          NULL|       NULL|    NULL|\n",
              "|2021/22|       1|             Cumbria|Assaults on emerg...|Violence against ...|Violence with injury|     8T|    8|       NULL|          NULL|       NULL|          NULL|       NULL|    NULL|\n",
              "|2021/22|       1|          Derbyshire|Assaults on emerg...|Violence against ...|Violence with injury|     8T|    1|       NULL|          NULL|       NULL|          NULL|       NULL|    NULL|\n",
              "|2021/22|       1|  Devon and Cornwall|Assaults on emerg...|Violence against ...|Violence with injury|     8T|   14|       NULL|          NULL|       NULL|          NULL|       NULL|    NULL|\n",
              "|2021/22|       1|              Dorset|Assaults on emerg...|Violence against ...|Violence with injury|     8T|    0|       NULL|          NULL|       NULL|          NULL|       NULL|    NULL|\n",
              "|2021/22|       1|              Durham|Assaults on emerg...|Violence against ...|Violence with injury|     8T|    5|       NULL|          NULL|       NULL|          NULL|       NULL|    NULL|\n",
              "|2021/22|       1|         Dyfed-Powys|Assaults on emerg...|Violence against ...|Violence with injury|     8T|    7|       NULL|          NULL|       NULL|          NULL|       NULL|    NULL|\n",
              "|2021/22|       1|               Essex|Assaults on emerg...|Violence against ...|Violence with injury|     8T|    6|       NULL|          NULL|       NULL|          NULL|       NULL|    NULL|\n",
              "|2021/22|       1|     Gloucestershire|Assaults on emerg...|Violence against ...|Violence with injury|     8T|    0|       NULL|          NULL|       NULL|          NULL|       NULL|    NULL|\n",
              "|2021/22|       1|  Greater Manchester|Assaults on emerg...|Violence against ...|Violence with injury|     8T|   21|       NULL|          NULL|       NULL|          NULL|       NULL|    NULL|\n",
              "|2021/22|       1|               Gwent|Assaults on emerg...|Violence against ...|Violence with injury|     8T|   17|       NULL|          NULL|       NULL|          NULL|       NULL|    NULL|\n",
              "|2021/22|       1|           Hampshire|Assaults on emerg...|Violence against ...|Violence with injury|     8T|   23|       NULL|          NULL|       NULL|          NULL|       NULL|    NULL|\n",
              "|2021/22|       1|       Hertfordshire|Assaults on emerg...|Violence against ...|Violence with injury|     8T|   15|       NULL|          NULL|       NULL|          NULL|       NULL|    NULL|\n",
              "|2021/22|       1|          Humberside|Assaults on emerg...|Violence against ...|Violence with injury|     8T|    8|       NULL|          NULL|       NULL|          NULL|       NULL|    NULL|\n",
              "|2021/22|       1|                Kent|Assaults on emerg...|Violence against ...|Violence with injury|     8T|   36|       NULL|          NULL|       NULL|          NULL|       NULL|    NULL|\n",
              "+-------+--------+--------------------+--------------------+--------------------+--------------------+-------+-----+-----------+--------------+-----------+--------------+-----------+--------+\n",
              "only showing top 20 rows"
            ]
          },
          "execution_count": 69,
          "metadata": {},
          "output_type": "execute_result"
        }
      ],
      "source": [
        "spark.sql(\"SELECT * FROM Newdataset WHERE newOffGroup IS NULL\")"
      ]
    },
    {
      "cell_type": "code",
      "execution_count": null,
      "metadata": {
        "colab": {
          "background_save": true
        },
        "id": "EwcufOZaHJ0R",
        "outputId": "13ab0a3d-9ea1-4d42-e5b8-07fb91807640"
      },
      "outputs": [
        {
          "name": "stdout",
          "output_type": "stream",
          "text": [
            "+-------+--------+-----------------+--------------------+--------------------+--------------------+-------+-----+-----------+--------------------+--------------------+--------------------+--------------------+--------------------+--------------------+--------------------+\n",
            "|  Fyear|FQuarter|        ForceName|             OffDesc|            OffGroup|         OffSubgroup|OffCode|NoOff|Offencecode|      Offdescription|         oldOffGroup|      oldOffsubGroup|         newOffGroup|            noSGroup|                Nogp|               Nosgp|\n",
            "+-------+--------+-----------------+--------------------+--------------------+--------------------+-------+-----+-----------+--------------------+--------------------+--------------------+--------------------+--------------------+--------------------+--------------------+\n",
            "|2021/22|       1|             Kent|              Murder|Violence against ...|            Homicide|      1|    3|          1|              Murder|Violence against ...|Violence against ...|Violence against ...|            Homicide|Violence against ...|            Homicide|\n",
            "|2014/15|       1|Avon and Somerset|Assault without i...|Violence against ...|Violence without ...|    104|  125|        104|Assault without i...|Violence against ...|Violence against ...|Violence against ...|Violence without ...|Violence against ...|Violence without ...|\n",
            "|2014/15|       1|Avon and Somerset|Assault without i...|Violence against ...|Violence without ...|   105A| 2008|       105A|Assault without i...|Violence against ...|Violence against ...|Violence against ...|Violence without ...|Violence against ...|Violence without ...|\n",
            "|2021/22|       1|             Kent|      Modern slavery|Violence against ...|Violence without ...|    106|   88|       NULL|                NULL|                NULL|                NULL|                NULL|                NULL|             unknown|             unknown|\n",
            "|2021/22|       1|             Kent|Interfering with ...|      Theft offences|Vehicle interference|    126|  308|        126|Interfering with ...|Offences against ...|             Unknown|      Theft offences|    Vehicle offences|      Theft offences|    Vehicle offences|\n",
            "|2014/15|       1|Avon and Somerset|    Attempted murder|Violence against ...|Violence with injury|      2|    4|          2|    Attempted murder|Violence against ...|Violence against ...|Violence against ...|Violence with injury|Violence against ...|Violence with injury|\n",
            "|2021/22|       1|             Kent|Incest or familia...|     Sexual offences|Other sexual offe...|     23|   13|         23|Incest or familia...|     Sexual offences|Other sexual offe...|     Sexual offences|Other sexual offe...|     Sexual offences|Other sexual offe...|\n",
            "|2021/22|       1|             Kent|Exploitation of p...|Miscellaneous cri...|Miscellaneous cri...|     24|   10|         24|Exploitation of p...|     Sexual offences|Other sexual offe...|Miscellaneous cri...|Miscellaneous cri...|Miscellaneous cri...|Miscellaneous cri...|\n",
            "|2014/15|       1|Avon and Somerset|              Bigamy|Miscellaneous cri...|Miscellaneous cri...|     26|    0|         26|              Bigamy|Other miscellaneo...|             Unknown|Miscellaneous cri...|Miscellaneous cri...|Miscellaneous cri...|Miscellaneous cri...|\n",
            "|2014/15|       1|Avon and Somerset|Attempted burglar...|      Theft offences|   Domestic burglary|    28B|  181|        28B|Attempted burglar...|            Burglary|Total burglary in...|      Theft offences|   Domestic burglary|      Theft offences|   Domestic burglary|\n",
            "|2014/15|       1|Avon and Somerset|Attempted distrac...|      Theft offences|   Domestic burglary|    28D|    1|        28D|Attempted distrac...|            Burglary|Total burglary in...|      Theft offences|   Domestic burglary|      Theft offences|   Domestic burglary|\n",
            "|2021/22|       1|             Kent|Distraction Burgl...|      Theft offences|   Domestic burglary|    28G|    9|       NULL|                NULL|                NULL|                NULL|                NULL|                NULL|             unknown|             unknown|\n",
            "|2014/15|       1|Avon and Somerset|Aggravated burgla...|      Theft offences|   Domestic burglary|     29|   12|         29|Aggravated burgla...|            Burglary|Total burglary in...|      Theft offences|   Domestic burglary|      Theft offences|   Domestic burglary|\n",
            "|2014/15|       1|Avon and Somerset|Burglary in a bui...|      Theft offences|Non-domestic burg...|    30A| 1397|        30A|Burglary in a bui...|            Burglary|Total burglary in...|      Theft offences|Non-domestic burg...|      Theft offences|Non-domestic burg...|\n",
            "|2014/15|       1|Avon and Somerset|Attempted burglar...|      Theft offences|Non-domestic burg...|    30B|  219|        30B|Attempted burglar...|            Burglary|Total burglary in...|      Theft offences|Non-domestic burg...|      Theft offences|Non-domestic burg...|\n",
            "|2014/15|       1|Avon and Somerset|Aggravated burgla...|      Theft offences|Non-domestic burg...|     31|    3|         31|Aggravated burgla...|            Burglary|Total burglary in...|      Theft offences|Non-domestic burg...|      Theft offences|Non-domestic burg...|\n",
            "|2021/22|       1|             Kent|Going equipped fo...|Miscellaneous cri...|Miscellaneous cri...|     33|   14|         33|Going equipped fo...|Other miscellaneo...|             Unknown|Miscellaneous cri...|Miscellaneous cri...|Miscellaneous cri...|Miscellaneous cri...|\n",
            "|2021/22|       1|             Kent|Making, supplying...|Miscellaneous cri...|Miscellaneous cri...|    33A|   16|       NULL|                NULL|                NULL|                NULL|                NULL|                NULL|             unknown|             unknown|\n",
            "|2014/15|       1|Avon and Somerset|           Blackmail|      Theft offences|Other theft offences|     35|   25|         35|           Blackmail|Other miscellaneo...|             Unknown|      Theft offences|All other theft o...|      Theft offences|All other theft o...|\n",
            "|2021/22|       1|             Kent|          Kidnapping|Violence against ...|Violence without ...|     36|   86|         36|          Kidnapping|Other miscellaneo...|             Unknown|Violence against ...|Violence without ...|Violence against ...|Violence without ...|\n",
            "+-------+--------+-----------------+--------------------+--------------------+--------------------+-------+-----+-----------+--------------------+--------------------+--------------------+--------------------+--------------------+--------------------+--------------------+\n",
            "only showing top 20 rows\n",
            "\n"
          ]
        }
      ],
      "source": [
        "spark.sql(\"\"\"SELECT *, COALESCE(newOffGroup, 'unknown') AS Nogp, COALESCE(noSGroup, 'unknown') AS Nosgp FROM Newdataset\"\"\").show()"
      ]
    },
    {
      "cell_type": "markdown",
      "metadata": {
        "id": "m-3in3D-MYn3"
      },
      "source": [
        "### SQL Syntax 6: show number of offences"
      ]
    },
    {
      "cell_type": "code",
      "execution_count": null,
      "metadata": {
        "colab": {
          "background_save": true
        },
        "id": "rOdlmHxhMgLZ",
        "outputId": "a40e5bb0-0f8d-4824-cc50-5011fc37be56"
      },
      "outputs": [
        {
          "data": {
            "text/html": [
              "<table border='1'>\n",
              "<tr><th>ForceName</th><th>OffCode</th><th>NoOff</th></tr>\n",
              "<tr><td>Avon and Somerset</td><td>1</td><td>1</td></tr>\n",
              "<tr><td>Lancashire</td><td>1</td><td>1</td></tr>\n",
              "<tr><td>Bedfordshire</td><td>13</td><td>1</td></tr>\n",
              "<tr><td>British Transport...</td><td>13</td><td>1</td></tr>\n",
              "<tr><td>Lincolnshire</td><td>13</td><td>1</td></tr>\n",
              "<tr><td>Bedfordshire</td><td>19F</td><td>1</td></tr>\n",
              "<tr><td>Lincolnshire</td><td>22A</td><td>1</td></tr>\n",
              "<tr><td>Bedfordshire</td><td>24</td><td>1</td></tr>\n",
              "<tr><td>British Transport...</td><td>28A</td><td>1</td></tr>\n",
              "<tr><td>Avon and Somerset</td><td>28D</td><td>1</td></tr>\n",
              "<tr><td>Leicestershire</td><td>28H</td><td>1</td></tr>\n",
              "<tr><td>Bedfordshire</td><td>31</td><td>1</td></tr>\n",
              "<tr><td>Avon and Somerset</td><td>33A</td><td>1</td></tr>\n",
              "<tr><td>Lancashire</td><td>3A</td><td>1</td></tr>\n",
              "<tr><td>Leicestershire</td><td>3A</td><td>1</td></tr>\n",
              "<tr><td>British Transport...</td><td>3B</td><td>1</td></tr>\n",
              "<tr><td>Kent</td><td>4.1</td><td>1</td></tr>\n",
              "<tr><td>Leicestershire</td><td>4.1</td><td>1</td></tr>\n",
              "<tr><td>Leicestershire</td><td>4.6</td><td>1</td></tr>\n",
              "<tr><td>Lincolnshire</td><td>4.6</td><td>1</td></tr>\n",
              "</table>\n",
              "only showing top 20 rows\n"
            ],
            "text/plain": [
              "+--------------------+-------+-----+\n",
              "|           ForceName|OffCode|NoOff|\n",
              "+--------------------+-------+-----+\n",
              "|   Avon and Somerset|      1|    1|\n",
              "|          Lancashire|      1|    1|\n",
              "|        Bedfordshire|     13|    1|\n",
              "|British Transport...|     13|    1|\n",
              "|        Lincolnshire|     13|    1|\n",
              "|        Bedfordshire|    19F|    1|\n",
              "|        Lincolnshire|    22A|    1|\n",
              "|        Bedfordshire|     24|    1|\n",
              "|British Transport...|    28A|    1|\n",
              "|   Avon and Somerset|    28D|    1|\n",
              "|      Leicestershire|    28H|    1|\n",
              "|        Bedfordshire|     31|    1|\n",
              "|   Avon and Somerset|    33A|    1|\n",
              "|          Lancashire|     3A|    1|\n",
              "|      Leicestershire|     3A|    1|\n",
              "|British Transport...|     3B|    1|\n",
              "|                Kent|    4.1|    1|\n",
              "|      Leicestershire|    4.1|    1|\n",
              "|      Leicestershire|    4.6|    1|\n",
              "|        Lincolnshire|    4.6|    1|\n",
              "+--------------------+-------+-----+\n",
              "only showing top 20 rows"
            ]
          },
          "execution_count": 71,
          "metadata": {},
          "output_type": "execute_result"
        }
      ],
      "source": [
        "spark.sql(\"select ForceName, OffCode, NoOff from Newdataset where NoOff = 1\")"
      ]
    },
    {
      "cell_type": "markdown",
      "metadata": {
        "id": "jiek6cArOLhk"
      },
      "source": [
        "## Research Question 1:\n",
        "What are the most common type of offense and what are the top 10 offense recorded"
      ]
    },
    {
      "cell_type": "markdown",
      "metadata": {
        "id": "uvklxd-4XEtl"
      },
      "source": [
        "### SQL Syntax 7: Top offences"
      ]
    },
    {
      "cell_type": "markdown",
      "metadata": {
        "id": "eckx0m79WPEI"
      },
      "source": [
        "Most Common type of offense?"
      ]
    },
    {
      "cell_type": "code",
      "execution_count": null,
      "metadata": {
        "colab": {
          "background_save": true
        },
        "id": "cjh01Qi6Vw2l",
        "outputId": "3f68d042-bcb6-48f6-f1e8-79f414ca1aae"
      },
      "outputs": [
        {
          "name": "stdout",
          "output_type": "stream",
          "text": [
            "+--------------------+-------------+\n",
            "|            OffGroup|TotalOffences|\n",
            "+--------------------+-------------+\n",
            "|      Theft offences|      6732670|\n",
            "|Violence against ...|      5978442|\n",
            "|      Fraud offences|      3379636|\n",
            "|Criminal damage a...|      2109502|\n",
            "|Public order offe...|      1555195|\n",
            "|       Drug offences|       678364|\n",
            "|     Sexual offences|       584369|\n",
            "|Miscellaneous cri...|       348252|\n",
            "|             Robbery|       242912|\n",
            "|Possession of wea...|       154268|\n",
            "+--------------------+-------------+\n",
            "\n"
          ]
        }
      ],
      "source": [
        " spark.sql(\"\"\"SELECT OffGroup, SUM(NoOff) AS TotalOffences \\\n",
        "        FROM Newdataset GROUP BY OffGroup ORDER BY TotalOffences Desc \"\"\").show()"
      ]
    },
    {
      "cell_type": "markdown",
      "metadata": {
        "id": "8n9w1yCf0DnP"
      },
      "source": [
        "Research Question: Top 5 offences in the dataset"
      ]
    },
    {
      "cell_type": "code",
      "execution_count": null,
      "metadata": {
        "colab": {
          "background_save": true
        },
        "id": "kfyHtM3OYQdF",
        "outputId": "5ee761c6-ae42-441d-dfcf-702351e86263"
      },
      "outputs": [
        {
          "name": "stdout",
          "output_type": "stream",
          "text": [
            "+--------------------+-------------+\n",
            "|            OffGroup|TotalOffences|\n",
            "+--------------------+-------------+\n",
            "|      Theft offences|      6732670|\n",
            "|Violence against ...|      5978442|\n",
            "|      Fraud offences|      3379636|\n",
            "|Criminal damage a...|      2109502|\n",
            "|Public order offe...|      1555195|\n",
            "+--------------------+-------------+\n",
            "\n"
          ]
        }
      ],
      "source": [
        " spark.sql(\"\"\"SELECT Distinct OffGroup, SUM(NoOff) AS TotalOffences \\\n",
        "        FROM Newdataset GROUP BY OffGroup ORDER BY TotalOffences Desc Limit 5 \"\"\").show()"
      ]
    },
    {
      "cell_type": "code",
      "execution_count": null,
      "metadata": {
        "colab": {
          "background_save": true
        },
        "id": "2WEbWUE_SEud",
        "outputId": "eb3965da-a495-466b-ba60-c61d64478117"
      },
      "outputs": [
        {
          "data": {
            "text/html": [
              "<table border='1'>\n",
              "<tr><th>ForceName</th><th>OffCode</th><th>OffGroup</th><th>NoOff</th></tr>\n",
              "<tr><td>UK Finance</td><td>UK Finance</td><td>Fraud offences</td><td>128818</td></tr>\n",
              "<tr><td>UK Finance</td><td>UK Finance</td><td>Fraud offences</td><td>120310</td></tr>\n",
              "<tr><td>UK Finance</td><td>UK Finance</td><td>Fraud offences</td><td>113476</td></tr>\n",
              "<tr><td>UK Finance</td><td>UK Finance</td><td>Fraud offences</td><td>112518</td></tr>\n",
              "<tr><td>Action Fraud</td><td>AF</td><td>Fraud offences</td><td>112292</td></tr>\n",
              "<tr><td>UK Finance</td><td>UK Finance</td><td>Fraud offences</td><td>105725</td></tr>\n",
              "<tr><td>CIFAS</td><td>CIFAS</td><td>Fraud offences</td><td>100982</td></tr>\n",
              "<tr><td>CIFAS</td><td>CIFAS</td><td>Fraud offences</td><td>96612</td></tr>\n",
              "<tr><td>Action Fraud</td><td>AF</td><td>Fraud offences</td><td>92073</td></tr>\n",
              "<tr><td>Action Fraud</td><td>AF</td><td>Fraud offences</td><td>92033</td></tr>\n",
              "</table>\n"
            ],
            "text/plain": [
              "+------------+----------+--------------+------+\n",
              "|   ForceName|   OffCode|      OffGroup| NoOff|\n",
              "+------------+----------+--------------+------+\n",
              "|  UK Finance|UK Finance|Fraud offences|128818|\n",
              "|  UK Finance|UK Finance|Fraud offences|120310|\n",
              "|  UK Finance|UK Finance|Fraud offences|113476|\n",
              "|  UK Finance|UK Finance|Fraud offences|112518|\n",
              "|Action Fraud|        AF|Fraud offences|112292|\n",
              "|  UK Finance|UK Finance|Fraud offences|105725|\n",
              "|       CIFAS|     CIFAS|Fraud offences|100982|\n",
              "|       CIFAS|     CIFAS|Fraud offences| 96612|\n",
              "|Action Fraud|        AF|Fraud offences| 92073|\n",
              "|Action Fraud|        AF|Fraud offences| 92033|\n",
              "+------------+----------+--------------+------+"
            ]
          },
          "execution_count": 74,
          "metadata": {},
          "output_type": "execute_result"
        }
      ],
      "source": [
        "spark.sql(\"SELECT ForceName, OffCode, OffGroup, NoOff FROM Newdataset ORDER BY NoOff DESC LIMIT 10\") #top 10 offences in the dataset"
      ]
    },
    {
      "cell_type": "code",
      "execution_count": null,
      "metadata": {
        "colab": {
          "background_save": true
        },
        "id": "f_WxOIvuQTH5",
        "outputId": "87271fde-9ddd-4a0c-eb8e-c9521590f94b"
      },
      "outputs": [
        {
          "data": {
            "text/html": [
              "<table border='1'>\n",
              "<tr><th>Fyear</th><th>ForceName</th><th>NoOff</th></tr>\n",
              "<tr><td>2021/22</td><td>Kent</td><td>8273</td></tr>\n",
              "<tr><td>2021/22</td><td>Kent</td><td>8008</td></tr>\n",
              "<tr><td>2022/23</td><td>Kent</td><td>7817</td></tr>\n",
              "<tr><td>2022/23</td><td>Kent</td><td>7796</td></tr>\n",
              "<tr><td>2021/22</td><td>Kent</td><td>7712</td></tr>\n",
              "<tr><td>2022/23</td><td>Kent</td><td>7271</td></tr>\n",
              "<tr><td>2021/22</td><td>Kent</td><td>7126</td></tr>\n",
              "<tr><td>2022/23</td><td>Kent</td><td>6733</td></tr>\n",
              "<tr><td>2021/22</td><td>Kent</td><td>4477</td></tr>\n",
              "<tr><td>2022/23</td><td>Kent</td><td>4443</td></tr>\n",
              "</table>\n"
            ],
            "text/plain": [
              "+-------+---------+-----+\n",
              "|  Fyear|ForceName|NoOff|\n",
              "+-------+---------+-----+\n",
              "|2021/22|     Kent| 8273|\n",
              "|2021/22|     Kent| 8008|\n",
              "|2022/23|     Kent| 7817|\n",
              "|2022/23|     Kent| 7796|\n",
              "|2021/22|     Kent| 7712|\n",
              "|2022/23|     Kent| 7271|\n",
              "|2021/22|     Kent| 7126|\n",
              "|2022/23|     Kent| 6733|\n",
              "|2021/22|     Kent| 4477|\n",
              "|2022/23|     Kent| 4443|\n",
              "+-------+---------+-----+"
            ]
          },
          "execution_count": 75,
          "metadata": {},
          "output_type": "execute_result"
        }
      ],
      "source": [
        "spark.sql(\"SELECT Fyear, ForceName, NoOff FROM Newdataset WHERE ForceName = 'Kent' ORDER BY NoOff DESC LIMIT 10\")"
      ]
    },
    {
      "cell_type": "markdown",
      "metadata": {
        "id": "Sy1Su44Y5Xjp"
      },
      "source": [
        "# Using HIVE"
      ]
    },
    {
      "cell_type": "markdown",
      "metadata": {
        "id": "OVnjWcYnePn4"
      },
      "source": [
        "## COVERT TO HIVE"
      ]
    },
    {
      "cell_type": "code",
      "execution_count": null,
      "metadata": {
        "colab": {
          "background_save": true
        },
        "id": "i8f-UpnloqA6"
      },
      "outputs": [],
      "source": [
        "# Create Hive table\n",
        "spark.table(\"Newdataset\").write.saveAsTable(\"Newhivetable\")"
      ]
    },
    {
      "cell_type": "markdown",
      "metadata": {
        "id": "kQ7yMnzTh9OF"
      },
      "source": [
        "### QUERY THE HIVE TABLE"
      ]
    },
    {
      "cell_type": "code",
      "execution_count": null,
      "metadata": {
        "colab": {
          "background_save": true
        },
        "id": "ReEqegfSgp10",
        "outputId": "5ee523cc-c8bf-4a64-9292-35e039919b44"
      },
      "outputs": [
        {
          "name": "stdout",
          "output_type": "stream",
          "text": [
            "+-------+--------+-------------------+--------------------+---------------+--------------------+-------+-----+-----------+--------------------+---------------+--------------------+---------------+--------------------+\n",
            "|  Fyear|FQuarter|          ForceName|             OffDesc|       OffGroup|         OffSubgroup|OffCode|NoOff|Offencecode|      Offdescription|    oldOffGroup|      oldOffsubGroup|    newOffGroup|            noSGroup|\n",
            "+-------+--------+-------------------+--------------------+---------------+--------------------+-------+-----+-----------+--------------------+---------------+--------------------+---------------+--------------------+\n",
            "|2021/22|       1|               Kent|Sexual assault on...|Sexual offences|Other sexual offe...|    17A|   81|        17A|Sexual assault on...|Sexual offences|Most serious sexu...|Sexual offences|Other sexual offe...|\n",
            "|2021/22|       1|         Lancashire|Sexual assault on...|Sexual offences|Other sexual offe...|    17A|   38|        17A|Sexual assault on...|Sexual offences|Most serious sexu...|Sexual offences|Other sexual offe...|\n",
            "|2021/22|       1|     Leicestershire|Sexual assault on...|Sexual offences|Other sexual offe...|    17A|   27|        17A|Sexual assault on...|Sexual offences|Most serious sexu...|Sexual offences|Other sexual offe...|\n",
            "|2021/22|       1|       Lincolnshire|Sexual assault on...|Sexual offences|Other sexual offe...|    17A|   11|        17A|Sexual assault on...|Sexual offences|Most serious sexu...|Sexual offences|Other sexual offe...|\n",
            "|2021/22|       1|    London, City of|Sexual assault on...|Sexual offences|Other sexual offe...|    17A|    1|        17A|Sexual assault on...|Sexual offences|Most serious sexu...|Sexual offences|Other sexual offe...|\n",
            "|2021/22|       1|         Merseyside|Sexual assault on...|Sexual offences|Other sexual offe...|    17A|   40|        17A|Sexual assault on...|Sexual offences|Most serious sexu...|Sexual offences|Other sexual offe...|\n",
            "|2021/22|       1|Metropolitan Police|Sexual assault on...|Sexual offences|Other sexual offe...|    17A|  234|        17A|Sexual assault on...|Sexual offences|Most serious sexu...|Sexual offences|Other sexual offe...|\n",
            "|2021/22|       1|            Norfolk|Sexual assault on...|Sexual offences|Other sexual offe...|    17A|   30|        17A|Sexual assault on...|Sexual offences|Most serious sexu...|Sexual offences|Other sexual offe...|\n",
            "|2021/22|       1|        North Wales|Sexual assault on...|Sexual offences|Other sexual offe...|    17A|   28|        17A|Sexual assault on...|Sexual offences|Most serious sexu...|Sexual offences|Other sexual offe...|\n",
            "|2021/22|       1|    North Yorkshire|Sexual assault on...|Sexual offences|Other sexual offe...|    17A|   18|        17A|Sexual assault on...|Sexual offences|Most serious sexu...|Sexual offences|Other sexual offe...|\n",
            "|2021/22|       1|   Northamptonshire|Sexual assault on...|Sexual offences|Other sexual offe...|    17A|   24|        17A|Sexual assault on...|Sexual offences|Most serious sexu...|Sexual offences|Other sexual offe...|\n",
            "|2021/22|       1|        Northumbria|Sexual assault on...|Sexual offences|Other sexual offe...|    17A|   40|        17A|Sexual assault on...|Sexual offences|Most serious sexu...|Sexual offences|Other sexual offe...|\n",
            "|2021/22|       1|    Nottinghamshire|Sexual assault on...|Sexual offences|Other sexual offe...|    17A|   31|        17A|Sexual assault on...|Sexual offences|Most serious sexu...|Sexual offences|Other sexual offe...|\n",
            "|2021/22|       1|        South Wales|Sexual assault on...|Sexual offences|Other sexual offe...|    17A|   35|        17A|Sexual assault on...|Sexual offences|Most serious sexu...|Sexual offences|Other sexual offe...|\n",
            "|2021/22|       1|    South Yorkshire|Sexual assault on...|Sexual offences|Other sexual offe...|    17A|   44|        17A|Sexual assault on...|Sexual offences|Most serious sexu...|Sexual offences|Other sexual offe...|\n",
            "|2021/22|       1|      Staffordshire|Sexual assault on...|Sexual offences|Other sexual offe...|    17A|   27|        17A|Sexual assault on...|Sexual offences|Most serious sexu...|Sexual offences|Other sexual offe...|\n",
            "|2021/22|       1|            Suffolk|Sexual assault on...|Sexual offences|Other sexual offe...|    17A|   33|        17A|Sexual assault on...|Sexual offences|Most serious sexu...|Sexual offences|Other sexual offe...|\n",
            "|2021/22|       1|             Surrey|Sexual assault on...|Sexual offences|Other sexual offe...|    17A|   30|        17A|Sexual assault on...|Sexual offences|Most serious sexu...|Sexual offences|Other sexual offe...|\n",
            "|2021/22|       1|             Sussex|Sexual assault on...|Sexual offences|Other sexual offe...|    17A|   53|        17A|Sexual assault on...|Sexual offences|Most serious sexu...|Sexual offences|Other sexual offe...|\n",
            "|2021/22|       1|      Thames Valley|Sexual assault on...|Sexual offences|Other sexual offe...|    17A|   50|        17A|Sexual assault on...|Sexual offences|Most serious sexu...|Sexual offences|Other sexual offe...|\n",
            "+-------+--------+-------------------+--------------------+---------------+--------------------+-------+-----+-----------+--------------------+---------------+--------------------+---------------+--------------------+\n",
            "only showing top 20 rows\n",
            "\n"
          ]
        }
      ],
      "source": [
        "#Query the Hive table\n",
        "df1 = spark.sql(\"SELECT * FROM Newhivetable\")\n",
        "df1.show()"
      ]
    },
    {
      "cell_type": "markdown",
      "metadata": {
        "id": "rLGAHwqViA_q"
      },
      "source": [
        "### QUERY HIVE TABLE 2"
      ]
    },
    {
      "cell_type": "code",
      "execution_count": null,
      "metadata": {
        "colab": {
          "background_save": true
        },
        "id": "RXH0OI7BjmAD",
        "outputId": "56dce803-8d09-4cb1-b732-e7ab326e9bd8"
      },
      "outputs": [
        {
          "name": "stdout",
          "output_type": "stream",
          "text": [
            "+-------+--------+---------+--------------------+--------------------+--------------------+-------+-----+-----------+--------------------+--------------------+--------------------+--------------------+--------------------+\n",
            "|  Fyear|FQuarter|ForceName|             OffDesc|            OffGroup|         OffSubgroup|OffCode|NoOff|Offencecode|      Offdescription|         oldOffGroup|      oldOffsubGroup|         newOffGroup|            noSGroup|\n",
            "+-------+--------+---------+--------------------+--------------------+--------------------+-------+-----+-----------+--------------------+--------------------+--------------------+--------------------+--------------------+\n",
            "|2021/22|       4|     Kent|Sexual assault on...|     Sexual offences|Other sexual offe...|    17A|   91|        17A|Sexual assault on...|     Sexual offences|Most serious sexu...|     Sexual offences|Other sexual offe...|\n",
            "|2022/23|       4|     Kent|Sexual assault on...|     Sexual offences|Other sexual offe...|    17A|   72|        17A|Sexual assault on...|     Sexual offences|Most serious sexu...|     Sexual offences|Other sexual offe...|\n",
            "|2021/22|       4|     Kent|Concealing an inf...|Miscellaneous cri...|Miscellaneous cri...|     15|    0|         15|Concealing an inf...|Other miscellaneo...|             Unknown|Miscellaneous cri...|Miscellaneous cri...|\n",
            "|2021/22|       4|     Kent|Handling stolen g...|Miscellaneous cri...|Miscellaneous cri...|     54|   43|         54|Handling stolen g...|Other theft offences|             Unknown|Miscellaneous cri...|Miscellaneous cri...|\n",
            "|2022/23|       4|     Kent|Concealing an inf...|Miscellaneous cri...|Miscellaneous cri...|     15|    0|         15|Concealing an inf...|Other miscellaneo...|             Unknown|Miscellaneous cri...|Miscellaneous cri...|\n",
            "|2022/23|       4|     Kent|Handling stolen g...|Miscellaneous cri...|Miscellaneous cri...|     54|   61|         54|Handling stolen g...|Other theft offences|             Unknown|Miscellaneous cri...|Miscellaneous cri...|\n",
            "|2021/22|       4|     Kent|Other miscellaneo...|     Sexual offences|Other sexual offe...|    88C|    8|        88C|Other miscellaneo...|     Sexual offences|Other sexual offe...|     Sexual offences|Other sexual offe...|\n",
            "|2022/23|       4|     Kent|Other miscellaneo...|     Sexual offences|Other sexual offe...|    88C|    4|        88C|Other miscellaneo...|     Sexual offences|Other sexual offe...|     Sexual offences|Other sexual offe...|\n",
            "|2021/22|       4|     Kent|         Infanticide|Violence against ...|            Homicide|    4.2|    0|        4.2|         Infanticide|Violence against ...|Violence against ...|Violence against ...|            Homicide|\n",
            "|2022/23|       4|     Kent|         Infanticide|Violence against ...|            Homicide|    4.2|    0|        4.2|         Infanticide|Violence against ...|Violence against ...|Violence against ...|            Homicide|\n",
            "|2021/22|       4|     Kent|Aggravated burgla...|      Theft offences|   Domestic burglary|     29|    0|         29|Aggravated burgla...|            Burglary|Total burglary in...|      Theft offences|   Domestic burglary|\n",
            "|2021/22|       4|     Kent|Arson not endange...|Criminal damage a...|               Arson|    56B|  179|        56B|Arson not endange...|     Criminal damage|             Unknown|Criminal damage a...|               Arson|\n",
            "|2021/22|       4|     Kent|Offender Manageme...|Miscellaneous cri...|Miscellaneous cri...|     69|   14|         69|Offender Manageme...|Other miscellaneo...|             Unknown|Miscellaneous cri...|Miscellaneous cri...|\n",
            "|2022/23|       4|     Kent|Aggravated burgla...|      Theft offences|   Domestic burglary|     29|    0|         29|Aggravated burgla...|            Burglary|Total burglary in...|      Theft offences|   Domestic burglary|\n",
            "|2022/23|       4|     Kent|Arson not endange...|Criminal damage a...|               Arson|    56B|  107|        56B|Arson not endange...|     Criminal damage|             Unknown|Criminal damage a...|               Arson|\n",
            "|2022/23|       4|     Kent|Offender Manageme...|Miscellaneous cri...|Miscellaneous cri...|     69|   38|         69|Offender Manageme...|Other miscellaneo...|             Unknown|Miscellaneous cri...|Miscellaneous cri...|\n",
            "|2021/22|       4|     Kent|       Theft of mail|      Theft offences|Other theft offences|     42|   41|         42|       Theft of mail|Other theft offences|             Unknown|      Theft offences|All other theft o...|\n",
            "|2022/23|       4|     Kent|       Theft of mail|      Theft offences|Other theft offences|     42|   38|         42|       Theft of mail|Other theft offences|             Unknown|      Theft offences|All other theft o...|\n",
            "|2021/22|       4|     Kent|Abuse of position...|     Sexual offences|Other sexual offe...|     73|    2|         73|Abuse of position...|     Sexual offences|Other sexual offe...|     Sexual offences|Other sexual offe...|\n",
            "|2021/22|       4|     Kent|Assaults on emerg...|Violence against ...|Violence with injury|     8T|   25|       NULL|                NULL|                NULL|                NULL|                NULL|                NULL|\n",
            "+-------+--------+---------+--------------------+--------------------+--------------------+-------+-----+-----------+--------------------+--------------------+--------------------+--------------------+--------------------+\n",
            "only showing top 20 rows\n",
            "\n"
          ]
        }
      ],
      "source": [
        "df2 = spark.sql(\"Select * from Newhivetable where ForceName = 'Kent' and FQuarter = 4\")\n",
        "df2.show()"
      ]
    },
    {
      "cell_type": "code",
      "execution_count": null,
      "metadata": {
        "colab": {
          "background_save": true
        },
        "id": "XzS_VN4BLa81",
        "outputId": "87727858-b32d-4e92-f4e4-289293b50cd6"
      },
      "outputs": [
        {
          "name": "stdout",
          "output_type": "stream",
          "text": [
            "+-------+-------------+\n",
            "|  Fyear|TotalOffences|\n",
            "+-------+-------------+\n",
            "|2014/15|      4167619|\n",
            "|2015/16|      4515903|\n",
            "|2021/22|      6343500|\n",
            "|2022/23|      6736588|\n",
            "+-------+-------------+\n",
            "\n"
          ]
        }
      ],
      "source": [
        "spark.sql(\"\"\"SELECT Fyear, SUM(NoOff) AS TotalOffences \\\n",
        "        FROM Newhivetable GROUP BY Fyear ORDER BY Fyear\"\"\").show()"
      ]
    },
    {
      "cell_type": "markdown",
      "metadata": {
        "id": "mF7U7MyFMe1B"
      },
      "source": [
        "## Research Question 2:\n",
        "What force made the most arrest across all the financial years and in what financial year did they make the most arrest?"
      ]
    },
    {
      "cell_type": "markdown",
      "metadata": {
        "id": "IlUH9NiQPY4r"
      },
      "source": [
        "What force made the most arrest ?"
      ]
    },
    {
      "cell_type": "code",
      "execution_count": null,
      "metadata": {
        "colab": {
          "background_save": true
        },
        "id": "nV5RD6JhP2mQ",
        "outputId": "6a644ba3-03c2-4e6d-f9bf-eebdaa3bf4e1"
      },
      "outputs": [
        {
          "name": "stdout",
          "output_type": "stream",
          "text": [
            "+-------------------+-------------+\n",
            "|          ForceName|TotalOffences|\n",
            "+-------------------+-------------+\n",
            "|Metropolitan Police|      3153143|\n",
            "|       Action Fraud|      1157708|\n",
            "+-------------------+-------------+\n",
            "\n"
          ]
        }
      ],
      "source": [
        "spark.sql(\"\"\"SELECT ForceName, SUM(NoOff) AS TotalOffences \\\n",
        "        FROM Newhivetable GROUP BY ForceName ORDER BY TotalOffences Desc Limit 2\"\"\").show()"
      ]
    },
    {
      "cell_type": "markdown",
      "metadata": {
        "id": "ZUxgToqYTdMC"
      },
      "source": [
        "What Year did they make the most arrest?"
      ]
    },
    {
      "cell_type": "code",
      "execution_count": null,
      "metadata": {
        "colab": {
          "background_save": true
        },
        "id": "aeFhassKPGbo",
        "outputId": "76da2128-9d0e-49de-e1ce-1bf3b37892af"
      },
      "outputs": [
        {
          "name": "stdout",
          "output_type": "stream",
          "text": [
            "+-------------------+-------+-------------+\n",
            "|          ForceName|  Fyear|TotalOffences|\n",
            "+-------------------+-------+-------------+\n",
            "|Metropolitan Police|2022/23|       880923|\n",
            "|Metropolitan Police|2021/22|       830735|\n",
            "+-------------------+-------+-------------+\n",
            "\n"
          ]
        }
      ],
      "source": [
        "spark.sql(\"\"\"SELECT ForceName, Fyear, SUM(NoOff) AS TotalOffences\n",
        "    FROM Newhivetable GROUP BY ForceName, Fyear ORDER BY TotalOffences Desc Limit 2\"\"\").show()"
      ]
    },
    {
      "cell_type": "markdown",
      "metadata": {
        "id": "l6p3FkYKVHa1"
      },
      "source": [
        "What force made the most arrest across all the financial years?"
      ]
    },
    {
      "cell_type": "code",
      "execution_count": null,
      "metadata": {
        "colab": {
          "background_save": true
        },
        "id": "ULseK3n1RZNd",
        "outputId": "bb9b119a-1fc4-4bc7-8116-c45c59f02765"
      },
      "outputs": [
        {
          "name": "stdout",
          "output_type": "stream",
          "text": [
            "+-------------------+-------------+\n",
            "|          ForceName|TotalOffences|\n",
            "+-------------------+-------------+\n",
            "|Metropolitan Police|       880923|\n",
            "|         UK Finance|       460537|\n",
            "+-------------------+-------------+\n",
            "\n",
            "+-------------------+-------------+\n",
            "|          ForceName|TotalOffences|\n",
            "+-------------------+-------------+\n",
            "|Metropolitan Police|       830735|\n",
            "|       Action Fraud|       383644|\n",
            "+-------------------+-------------+\n",
            "\n",
            "+-------------------+-------------+\n",
            "|          ForceName|TotalOffences|\n",
            "+-------------------+-------------+\n",
            "|Metropolitan Police|       700886|\n",
            "|              Cifas|       257762|\n",
            "+-------------------+-------------+\n",
            "\n",
            "+-------------------+-------------+\n",
            "|          ForceName|TotalOffences|\n",
            "+-------------------+-------------+\n",
            "|Metropolitan Police|       740599|\n",
            "|              Cifas|       298968|\n",
            "+-------------------+-------------+\n",
            "\n"
          ]
        }
      ],
      "source": [
        "spark.sql(\"\"\"SELECT ForceName, SUM(NoOff) AS TotalOffences FROM Newhivetable\n",
        "    WHERE Fyear = '2022/23' GROUP BY ForceName ORDER BY TotalOffences Desc limit 2\"\"\").show()\n",
        "spark.sql(\"\"\"SELECT ForceName, SUM(NoOff) AS TotalOffences FROM Newhivetable\n",
        "    WHERE Fyear = '2021/22' GROUP BY ForceName ORDER BY TotalOffences Desc limit 2\"\"\").show()\n",
        "spark.sql(\"\"\"SELECT ForceName, SUM(NoOff) AS TotalOffences FROM Newhivetable\n",
        "    WHERE Fyear = '2014/15' GROUP BY ForceName ORDER BY TotalOffences Desc limit 2\"\"\").show()\n",
        "spark.sql(\"\"\"SELECT ForceName, SUM(NoOff) AS TotalOffences FROM Newhivetable\n",
        "    WHERE Fyear = '2015/16' GROUP BY ForceName ORDER BY TotalOffences Desc limit 2\"\"\").show()"
      ]
    },
    {
      "cell_type": "markdown",
      "metadata": {
        "id": "0jGq9CkMeyRO"
      },
      "source": [
        "# Using Spark"
      ]
    },
    {
      "cell_type": "markdown",
      "metadata": {
        "id": "F-olUCwVRbnA"
      },
      "source": [
        "## Saving the SQL into a Spark Dataframe"
      ]
    },
    {
      "cell_type": "code",
      "execution_count": null,
      "metadata": {
        "colab": {
          "background_save": true
        },
        "id": "OIvOgzt3PHau"
      },
      "outputs": [],
      "source": [
        " Criminaldataset = spark.sql(\"select * from Newhivetable\")"
      ]
    },
    {
      "cell_type": "code",
      "execution_count": null,
      "metadata": {
        "colab": {
          "background_save": true
        },
        "id": "lX5RtsTel91-",
        "outputId": "cddbb908-79c3-4577-be73-7c6715151d11"
      },
      "outputs": [
        {
          "name": "stdout",
          "output_type": "stream",
          "text": [
            "+-------+--------+---------------+--------------------+---------------+--------------------+-------+-----+-----------+--------------------+---------------+--------------------+---------------+--------------------+\n",
            "|  Fyear|FQuarter|      ForceName|             OffDesc|       OffGroup|         OffSubgroup|OffCode|NoOff|Offencecode|      Offdescription|    oldOffGroup|      oldOffsubGroup|    newOffGroup|            noSGroup|\n",
            "+-------+--------+---------------+--------------------+---------------+--------------------+-------+-----+-----------+--------------------+---------------+--------------------+---------------+--------------------+\n",
            "|2021/22|       1|           Kent|Sexual assault on...|Sexual offences|Other sexual offe...|    17A|   81|        17A|Sexual assault on...|Sexual offences|Most serious sexu...|Sexual offences|Other sexual offe...|\n",
            "|2021/22|       1|     Lancashire|Sexual assault on...|Sexual offences|Other sexual offe...|    17A|   38|        17A|Sexual assault on...|Sexual offences|Most serious sexu...|Sexual offences|Other sexual offe...|\n",
            "|2021/22|       1| Leicestershire|Sexual assault on...|Sexual offences|Other sexual offe...|    17A|   27|        17A|Sexual assault on...|Sexual offences|Most serious sexu...|Sexual offences|Other sexual offe...|\n",
            "|2021/22|       1|   Lincolnshire|Sexual assault on...|Sexual offences|Other sexual offe...|    17A|   11|        17A|Sexual assault on...|Sexual offences|Most serious sexu...|Sexual offences|Other sexual offe...|\n",
            "|2021/22|       1|London, City of|Sexual assault on...|Sexual offences|Other sexual offe...|    17A|    1|        17A|Sexual assault on...|Sexual offences|Most serious sexu...|Sexual offences|Other sexual offe...|\n",
            "+-------+--------+---------------+--------------------+---------------+--------------------+-------+-----+-----------+--------------------+---------------+--------------------+---------------+--------------------+\n",
            "only showing top 5 rows\n",
            "\n"
          ]
        }
      ],
      "source": [
        "Criminaldataset.show(5)"
      ]
    },
    {
      "cell_type": "markdown",
      "metadata": {
        "id": "xctMKVdSI2Fz"
      },
      "source": [
        "## Splitting Columns"
      ]
    },
    {
      "cell_type": "code",
      "execution_count": null,
      "metadata": {
        "colab": {
          "background_save": true
        },
        "id": "gIKBD-5tI4pH",
        "outputId": "8c84769d-3fb2-4c4d-b8ff-213d4f40ab08"
      },
      "outputs": [
        {
          "name": "stdout",
          "output_type": "stream",
          "text": [
            "+-------+--------+---------------+--------------------+---------------+--------------------+-------+-----+-----------+--------------------+---------------+--------------------+---------------+--------------------+--------+-------+\n",
            "|  Fyear|FQuarter|      ForceName|             OffDesc|       OffGroup|         OffSubgroup|OffCode|NoOff|Offencecode|      Offdescription|    oldOffGroup|      oldOffsubGroup|    newOffGroup|            noSGroup|Newfyear|Endyear|\n",
            "+-------+--------+---------------+--------------------+---------------+--------------------+-------+-----+-----------+--------------------+---------------+--------------------+---------------+--------------------+--------+-------+\n",
            "|2021/22|       1|           Kent|Sexual assault on...|Sexual offences|Other sexual offe...|    17A|   81|        17A|Sexual assault on...|Sexual offences|Most serious sexu...|Sexual offences|Other sexual offe...|    2021|     22|\n",
            "|2021/22|       1|     Lancashire|Sexual assault on...|Sexual offences|Other sexual offe...|    17A|   38|        17A|Sexual assault on...|Sexual offences|Most serious sexu...|Sexual offences|Other sexual offe...|    2021|     22|\n",
            "|2021/22|       1| Leicestershire|Sexual assault on...|Sexual offences|Other sexual offe...|    17A|   27|        17A|Sexual assault on...|Sexual offences|Most serious sexu...|Sexual offences|Other sexual offe...|    2021|     22|\n",
            "|2021/22|       1|   Lincolnshire|Sexual assault on...|Sexual offences|Other sexual offe...|    17A|   11|        17A|Sexual assault on...|Sexual offences|Most serious sexu...|Sexual offences|Other sexual offe...|    2021|     22|\n",
            "|2021/22|       1|London, City of|Sexual assault on...|Sexual offences|Other sexual offe...|    17A|    1|        17A|Sexual assault on...|Sexual offences|Most serious sexu...|Sexual offences|Other sexual offe...|    2021|     22|\n",
            "+-------+--------+---------------+--------------------+---------------+--------------------+-------+-----+-----------+--------------------+---------------+--------------------+---------------+--------------------+--------+-------+\n",
            "only showing top 5 rows\n",
            "\n"
          ]
        }
      ],
      "source": [
        "from pyspark.sql.functions import split, when\n",
        "\n",
        "# Split 'FinYear' into two columns\n",
        "Criminaldataset = Criminaldataset.withColumn('Newfyear', split(Criminaldataset['Fyear'], '/')[0])\n",
        "Criminaldataset = Criminaldataset.withColumn('Endyear', split(Criminaldataset['Fyear'], '/')[1])\n",
        "\n",
        "# Update 'ShortYear' column to replace '15' with '2015'\n",
        "#Cr = Cr.withColumn('Endyear', when(Cr['Endyear'] == '15', '2015').otherwise(Cr['Endyear']))\n",
        "\n",
        "# Show the result\n",
        "Criminaldataset.show(5)"
      ]
    },
    {
      "cell_type": "code",
      "execution_count": null,
      "metadata": {
        "colab": {
          "background_save": true
        },
        "id": "eF67V8aMQBEB",
        "outputId": "93d8f1ae-b9bd-4906-bf53-4cd2ff237c13"
      },
      "outputs": [
        {
          "data": {
            "text/plain": [
              "['Fyear',\n",
              " 'FQuarter',\n",
              " 'ForceName',\n",
              " 'OffDesc',\n",
              " 'OffGroup',\n",
              " 'OffSubgroup',\n",
              " 'OffCode',\n",
              " 'NoOff',\n",
              " 'Offencecode',\n",
              " 'Offdescription',\n",
              " 'oldOffGroup',\n",
              " 'oldOffsubGroup',\n",
              " 'newOffGroup',\n",
              " 'noSGroup',\n",
              " 'Newfyear',\n",
              " 'Endyear']"
            ]
          },
          "execution_count": 86,
          "metadata": {},
          "output_type": "execute_result"
        }
      ],
      "source": [
        "Criminaldataset.columns"
      ]
    },
    {
      "cell_type": "markdown",
      "metadata": {
        "id": "EqENPhNsRSZ2"
      },
      "source": [
        "## Drop Columns"
      ]
    },
    {
      "cell_type": "code",
      "execution_count": null,
      "metadata": {
        "colab": {
          "background_save": true
        },
        "id": "AX4cQxV7RVfM",
        "outputId": "3a0cb1d5-f5cf-4635-8469-2b2598c3f9bc"
      },
      "outputs": [
        {
          "name": "stdout",
          "output_type": "stream",
          "text": [
            "+--------+---------------+--------------------+---------------+--------------------+-------+-----+-----------+--------------------+---------------+--------------------+---------------+--------------------+--------+-------+\n",
            "|FQuarter|      ForceName|             OffDesc|       OffGroup|         OffSubgroup|OffCode|NoOff|Offencecode|      Offdescription|    oldOffGroup|      oldOffsubGroup|    newOffGroup|            noSGroup|Newfyear|Endyear|\n",
            "+--------+---------------+--------------------+---------------+--------------------+-------+-----+-----------+--------------------+---------------+--------------------+---------------+--------------------+--------+-------+\n",
            "|       1|           Kent|Sexual assault on...|Sexual offences|Other sexual offe...|    17A|   81|        17A|Sexual assault on...|Sexual offences|Most serious sexu...|Sexual offences|Other sexual offe...|    2021|     22|\n",
            "|       1|     Lancashire|Sexual assault on...|Sexual offences|Other sexual offe...|    17A|   38|        17A|Sexual assault on...|Sexual offences|Most serious sexu...|Sexual offences|Other sexual offe...|    2021|     22|\n",
            "|       1| Leicestershire|Sexual assault on...|Sexual offences|Other sexual offe...|    17A|   27|        17A|Sexual assault on...|Sexual offences|Most serious sexu...|Sexual offences|Other sexual offe...|    2021|     22|\n",
            "|       1|   Lincolnshire|Sexual assault on...|Sexual offences|Other sexual offe...|    17A|   11|        17A|Sexual assault on...|Sexual offences|Most serious sexu...|Sexual offences|Other sexual offe...|    2021|     22|\n",
            "|       1|London, City of|Sexual assault on...|Sexual offences|Other sexual offe...|    17A|    1|        17A|Sexual assault on...|Sexual offences|Most serious sexu...|Sexual offences|Other sexual offe...|    2021|     22|\n",
            "+--------+---------------+--------------------+---------------+--------------------+-------+-----+-----------+--------------------+---------------+--------------------+---------------+--------------------+--------+-------+\n",
            "only showing top 5 rows\n",
            "\n"
          ]
        }
      ],
      "source": [
        "Criminaldataset = Criminaldataset.drop('Fyear')\n",
        "Criminaldataset.show(5)"
      ]
    },
    {
      "cell_type": "code",
      "execution_count": null,
      "metadata": {
        "colab": {
          "background_save": true
        },
        "id": "zhZYZ9hziXWF",
        "outputId": "20e35c1a-9fc3-47e3-a103-617614235468"
      },
      "outputs": [
        {
          "name": "stdout",
          "output_type": "stream",
          "text": [
            "+--------+---------------+--------------------+---------------+--------------------+-------+-----+-----------+--------------------+---------------+--------------------+---------------+--------------------+--------+\n",
            "|FQuarter|      ForceName|             OffDesc|       OffGroup|         OffSubgroup|OffCode|NoOff|Offencecode|      Offdescription|    oldOffGroup|      oldOffsubGroup|    newOffGroup|            noSGroup|Newfyear|\n",
            "+--------+---------------+--------------------+---------------+--------------------+-------+-----+-----------+--------------------+---------------+--------------------+---------------+--------------------+--------+\n",
            "|       1|           Kent|Sexual assault on...|Sexual offences|Other sexual offe...|    17A|   81|        17A|Sexual assault on...|Sexual offences|Most serious sexu...|Sexual offences|Other sexual offe...|    2021|\n",
            "|       1|     Lancashire|Sexual assault on...|Sexual offences|Other sexual offe...|    17A|   38|        17A|Sexual assault on...|Sexual offences|Most serious sexu...|Sexual offences|Other sexual offe...|    2021|\n",
            "|       1| Leicestershire|Sexual assault on...|Sexual offences|Other sexual offe...|    17A|   27|        17A|Sexual assault on...|Sexual offences|Most serious sexu...|Sexual offences|Other sexual offe...|    2021|\n",
            "|       1|   Lincolnshire|Sexual assault on...|Sexual offences|Other sexual offe...|    17A|   11|        17A|Sexual assault on...|Sexual offences|Most serious sexu...|Sexual offences|Other sexual offe...|    2021|\n",
            "|       1|London, City of|Sexual assault on...|Sexual offences|Other sexual offe...|    17A|    1|        17A|Sexual assault on...|Sexual offences|Most serious sexu...|Sexual offences|Other sexual offe...|    2021|\n",
            "+--------+---------------+--------------------+---------------+--------------------+-------+-----+-----------+--------------------+---------------+--------------------+---------------+--------------------+--------+\n",
            "only showing top 5 rows\n",
            "\n"
          ]
        }
      ],
      "source": [
        "Criminaldataset = Criminaldataset.drop('EndYear')\n",
        "Criminaldataset.show(5)"
      ]
    },
    {
      "cell_type": "markdown",
      "metadata": {
        "id": "EV28V7svPd63"
      },
      "source": [
        "## Rearrange the order of appearance"
      ]
    },
    {
      "cell_type": "code",
      "execution_count": null,
      "metadata": {
        "colab": {
          "background_save": true
        },
        "id": "_xJgXt5ZPjau",
        "outputId": "10f06259-35ea-42ee-c3cc-a0c5a21cd820"
      },
      "outputs": [
        {
          "name": "stdout",
          "output_type": "stream",
          "text": [
            "+--------+--------+---------------+--------------------+---------------+--------------------+-------+-----+-----------+--------------------+---------------+--------------------+---------------+--------------------+\n",
            "|Newfyear|FQuarter|      ForceName|             OffDesc|       OffGroup|         OffSubgroup|OffCode|NoOff|Offencecode|      Offdescription|    oldOffGroup|      oldOffsubGroup|    newOffGroup|            noSGroup|\n",
            "+--------+--------+---------------+--------------------+---------------+--------------------+-------+-----+-----------+--------------------+---------------+--------------------+---------------+--------------------+\n",
            "|    2021|       1|           Kent|Sexual assault on...|Sexual offences|Other sexual offe...|    17A|   81|        17A|Sexual assault on...|Sexual offences|Most serious sexu...|Sexual offences|Other sexual offe...|\n",
            "|    2021|       1|     Lancashire|Sexual assault on...|Sexual offences|Other sexual offe...|    17A|   38|        17A|Sexual assault on...|Sexual offences|Most serious sexu...|Sexual offences|Other sexual offe...|\n",
            "|    2021|       1| Leicestershire|Sexual assault on...|Sexual offences|Other sexual offe...|    17A|   27|        17A|Sexual assault on...|Sexual offences|Most serious sexu...|Sexual offences|Other sexual offe...|\n",
            "|    2021|       1|   Lincolnshire|Sexual assault on...|Sexual offences|Other sexual offe...|    17A|   11|        17A|Sexual assault on...|Sexual offences|Most serious sexu...|Sexual offences|Other sexual offe...|\n",
            "|    2021|       1|London, City of|Sexual assault on...|Sexual offences|Other sexual offe...|    17A|    1|        17A|Sexual assault on...|Sexual offences|Most serious sexu...|Sexual offences|Other sexual offe...|\n",
            "+--------+--------+---------------+--------------------+---------------+--------------------+-------+-----+-----------+--------------------+---------------+--------------------+---------------+--------------------+\n",
            "only showing top 5 rows\n",
            "\n"
          ]
        }
      ],
      "source": [
        "from pyspark.sql.functions import col #importing the col function\n",
        "\n",
        "order = ['Newfyear','FQuarter','ForceName','OffDesc','OffGroup',\n",
        "                        'OffSubgroup', 'OffCode', 'NoOff']\n",
        "\n",
        "Criminaldataset = Criminaldataset.select(*order, *[col(column) for column in Criminaldataset.columns if column not in order]) #rearrange the order of appearance\n",
        "\n",
        "Criminaldataset.show(5)"
      ]
    },
    {
      "cell_type": "markdown",
      "metadata": {
        "id": "q0NPRSTsxd0c"
      },
      "source": [
        "## Handle Columns"
      ]
    },
    {
      "cell_type": "code",
      "execution_count": null,
      "metadata": {
        "colab": {
          "background_save": true
        },
        "id": "Q4SVhotCvnQj",
        "outputId": "de6b7ee1-6792-49ee-d8f2-cfdb156a4e43"
      },
      "outputs": [
        {
          "name": "stdout",
          "output_type": "stream",
          "text": [
            "+--------+--------+---------------+--------------------+---------------+--------------------+-------+-----+-----------+--------------------+---------------+--------------------+---------------+--------------------+\n",
            "|Newfyear|FQuarter|      ForceName|             OffDesc|       OffGroup|         OffSubgroup|OffCode|NoOff|Offencecode|      Offdescription|    oldOffGroup|      oldOffsubGroup|    newOffGroup|            noSGroup|\n",
            "+--------+--------+---------------+--------------------+---------------+--------------------+-------+-----+-----------+--------------------+---------------+--------------------+---------------+--------------------+\n",
            "|    2021|       1|           Kent|Sexual assault on...|Sexual offences|Other sexual offe...|    17A|   81|        17A|Sexual assault on...|Sexual offences|Most serious sexu...|Sexual offences|Other sexual offe...|\n",
            "|    2021|       1|     Lancashire|Sexual assault on...|Sexual offences|Other sexual offe...|    17A|   38|        17A|Sexual assault on...|Sexual offences|Most serious sexu...|Sexual offences|Other sexual offe...|\n",
            "|    2021|       1| Leicestershire|Sexual assault on...|Sexual offences|Other sexual offe...|    17A|   27|        17A|Sexual assault on...|Sexual offences|Most serious sexu...|Sexual offences|Other sexual offe...|\n",
            "|    2021|       1|   Lincolnshire|Sexual assault on...|Sexual offences|Other sexual offe...|    17A|   11|        17A|Sexual assault on...|Sexual offences|Most serious sexu...|Sexual offences|Other sexual offe...|\n",
            "|    2021|       1|London, City of|Sexual assault on...|Sexual offences|Other sexual offe...|    17A|    1|        17A|Sexual assault on...|Sexual offences|Most serious sexu...|Sexual offences|Other sexual offe...|\n",
            "+--------+--------+---------------+--------------------+---------------+--------------------+-------+-----+-----------+--------------------+---------------+--------------------+---------------+--------------------+\n",
            "only showing top 5 rows\n",
            "\n"
          ]
        }
      ],
      "source": [
        "Criminaldataset.show(5)"
      ]
    },
    {
      "cell_type": "code",
      "execution_count": null,
      "metadata": {
        "colab": {
          "background_save": true
        },
        "id": "iZ0fQC5plZQw",
        "outputId": "4228dc87-e34d-4533-8cbd-30dae4186ab9"
      },
      "outputs": [
        {
          "data": {
            "text/plain": [
              "['Newfyear',\n",
              " 'FQuarter',\n",
              " 'ForceName',\n",
              " 'OffDesc',\n",
              " 'OffGroup',\n",
              " 'OffSubgroup',\n",
              " 'OffCode',\n",
              " 'NoOff',\n",
              " 'Offencecode',\n",
              " 'Offdescription',\n",
              " 'oldOffGroup',\n",
              " 'oldOffsubGroup',\n",
              " 'newOffGroup',\n",
              " 'noSGroup']"
            ]
          },
          "execution_count": 91,
          "metadata": {},
          "output_type": "execute_result"
        }
      ],
      "source": [
        "Criminaldataset.columns"
      ]
    },
    {
      "cell_type": "code",
      "execution_count": null,
      "metadata": {
        "colab": {
          "background_save": true
        },
        "id": "bGMmNu5pvN-2",
        "outputId": "bbcee1d9-415c-43d9-eebb-7e787775ed22"
      },
      "outputs": [
        {
          "name": "stdout",
          "output_type": "stream",
          "text": [
            "+--------+--------+---------------+--------------------+---------------+--------------------+-------+-----+---------------+--------------------+\n",
            "|Newfyear|FQuarter|      ForceName|             OffDesc|       OffGroup|         OffSubgroup|OffCode|NoOff|    newOffGroup|            noSGroup|\n",
            "+--------+--------+---------------+--------------------+---------------+--------------------+-------+-----+---------------+--------------------+\n",
            "|    2021|       1|           Kent|Sexual assault on...|Sexual offences|Other sexual offe...|    17A|   81|Sexual offences|Other sexual offe...|\n",
            "|    2021|       1|     Lancashire|Sexual assault on...|Sexual offences|Other sexual offe...|    17A|   38|Sexual offences|Other sexual offe...|\n",
            "|    2021|       1| Leicestershire|Sexual assault on...|Sexual offences|Other sexual offe...|    17A|   27|Sexual offences|Other sexual offe...|\n",
            "|    2021|       1|   Lincolnshire|Sexual assault on...|Sexual offences|Other sexual offe...|    17A|   11|Sexual offences|Other sexual offe...|\n",
            "|    2021|       1|London, City of|Sexual assault on...|Sexual offences|Other sexual offe...|    17A|    1|Sexual offences|Other sexual offe...|\n",
            "+--------+--------+---------------+--------------------+---------------+--------------------+-------+-----+---------------+--------------------+\n",
            "only showing top 5 rows\n",
            "\n"
          ]
        }
      ],
      "source": [
        "Criminaldataset = Criminaldataset.drop('Offencecode') \\\n",
        "       .drop('Offdescription') \\\n",
        "       .drop('oldOffGroup') \\\n",
        "       .drop('oldOffsubGroup') \\\n",
        "\n",
        "Criminaldataset.show(5,truncate=True)"
      ]
    },
    {
      "cell_type": "markdown",
      "metadata": {
        "id": "kmtF2CKFsv18"
      },
      "source": [
        "#Using Pandas"
      ]
    },
    {
      "cell_type": "markdown",
      "metadata": {
        "id": "EIShjEM5PPCV"
      },
      "source": [
        "## Covert to Pandas to perform data cleaning"
      ]
    },
    {
      "cell_type": "code",
      "execution_count": null,
      "metadata": {
        "colab": {
          "background_save": true
        },
        "id": "N5PHfH8yO4kN"
      },
      "outputs": [],
      "source": [
        "Criminaldataset = Criminaldataset.toPandas() #convert dataframe to pandas"
      ]
    },
    {
      "cell_type": "code",
      "execution_count": null,
      "metadata": {
        "colab": {
          "background_save": true
        },
        "id": "8Q_sfhrwPEOf",
        "outputId": "62b51d75-61be-44ab-a92a-69bb2c199a6f"
      },
      "outputs": [
        {
          "data": {
            "text/html": [
              "\n",
              "  <div id=\"df-b49939d2-e5c9-4757-a954-30bce5e11461\" class=\"colab-df-container\">\n",
              "    <div>\n",
              "<style scoped>\n",
              "    .dataframe tbody tr th:only-of-type {\n",
              "        vertical-align: middle;\n",
              "    }\n",
              "\n",
              "    .dataframe tbody tr th {\n",
              "        vertical-align: top;\n",
              "    }\n",
              "\n",
              "    .dataframe thead th {\n",
              "        text-align: right;\n",
              "    }\n",
              "</style>\n",
              "<table border=\"1\" class=\"dataframe\">\n",
              "  <thead>\n",
              "    <tr style=\"text-align: right;\">\n",
              "      <th></th>\n",
              "      <th>Newfyear</th>\n",
              "      <th>FQuarter</th>\n",
              "      <th>ForceName</th>\n",
              "      <th>OffDesc</th>\n",
              "      <th>OffGroup</th>\n",
              "      <th>OffSubgroup</th>\n",
              "      <th>OffCode</th>\n",
              "      <th>NoOff</th>\n",
              "      <th>newOffGroup</th>\n",
              "      <th>noSGroup</th>\n",
              "    </tr>\n",
              "  </thead>\n",
              "  <tbody>\n",
              "    <tr>\n",
              "      <th>0</th>\n",
              "      <td>2021</td>\n",
              "      <td>1</td>\n",
              "      <td>Kent</td>\n",
              "      <td>Sexual assault on a male aged 13 and over</td>\n",
              "      <td>Sexual offences</td>\n",
              "      <td>Other sexual offences</td>\n",
              "      <td>17A</td>\n",
              "      <td>81</td>\n",
              "      <td>Sexual offences</td>\n",
              "      <td>Other sexual offences</td>\n",
              "    </tr>\n",
              "    <tr>\n",
              "      <th>1</th>\n",
              "      <td>2021</td>\n",
              "      <td>1</td>\n",
              "      <td>Lancashire</td>\n",
              "      <td>Sexual assault on a male aged 13 and over</td>\n",
              "      <td>Sexual offences</td>\n",
              "      <td>Other sexual offences</td>\n",
              "      <td>17A</td>\n",
              "      <td>38</td>\n",
              "      <td>Sexual offences</td>\n",
              "      <td>Other sexual offences</td>\n",
              "    </tr>\n",
              "    <tr>\n",
              "      <th>2</th>\n",
              "      <td>2021</td>\n",
              "      <td>1</td>\n",
              "      <td>Leicestershire</td>\n",
              "      <td>Sexual assault on a male aged 13 and over</td>\n",
              "      <td>Sexual offences</td>\n",
              "      <td>Other sexual offences</td>\n",
              "      <td>17A</td>\n",
              "      <td>27</td>\n",
              "      <td>Sexual offences</td>\n",
              "      <td>Other sexual offences</td>\n",
              "    </tr>\n",
              "    <tr>\n",
              "      <th>3</th>\n",
              "      <td>2021</td>\n",
              "      <td>1</td>\n",
              "      <td>Lincolnshire</td>\n",
              "      <td>Sexual assault on a male aged 13 and over</td>\n",
              "      <td>Sexual offences</td>\n",
              "      <td>Other sexual offences</td>\n",
              "      <td>17A</td>\n",
              "      <td>11</td>\n",
              "      <td>Sexual offences</td>\n",
              "      <td>Other sexual offences</td>\n",
              "    </tr>\n",
              "    <tr>\n",
              "      <th>4</th>\n",
              "      <td>2021</td>\n",
              "      <td>1</td>\n",
              "      <td>London, City of</td>\n",
              "      <td>Sexual assault on a male aged 13 and over</td>\n",
              "      <td>Sexual offences</td>\n",
              "      <td>Other sexual offences</td>\n",
              "      <td>17A</td>\n",
              "      <td>1</td>\n",
              "      <td>Sexual offences</td>\n",
              "      <td>Other sexual offences</td>\n",
              "    </tr>\n",
              "    <tr>\n",
              "      <th>...</th>\n",
              "      <td>...</td>\n",
              "      <td>...</td>\n",
              "      <td>...</td>\n",
              "      <td>...</td>\n",
              "      <td>...</td>\n",
              "      <td>...</td>\n",
              "      <td>...</td>\n",
              "      <td>...</td>\n",
              "      <td>...</td>\n",
              "      <td>...</td>\n",
              "    </tr>\n",
              "    <tr>\n",
              "      <th>89979</th>\n",
              "      <td>2021</td>\n",
              "      <td>1</td>\n",
              "      <td>Hertfordshire</td>\n",
              "      <td>Burglary Business and Community</td>\n",
              "      <td>Theft offences</td>\n",
              "      <td>Non-domestic burglary</td>\n",
              "      <td>30C</td>\n",
              "      <td>228</td>\n",
              "      <td>None</td>\n",
              "      <td>None</td>\n",
              "    </tr>\n",
              "    <tr>\n",
              "      <th>89980</th>\n",
              "      <td>2021</td>\n",
              "      <td>1</td>\n",
              "      <td>Hertfordshire</td>\n",
              "      <td>Violent disorder</td>\n",
              "      <td>Public order offences</td>\n",
              "      <td>Public order offences</td>\n",
              "      <td>62A</td>\n",
              "      <td>0</td>\n",
              "      <td>Public order offences</td>\n",
              "      <td>Public order offences</td>\n",
              "    </tr>\n",
              "    <tr>\n",
              "      <th>89981</th>\n",
              "      <td>2021</td>\n",
              "      <td>1</td>\n",
              "      <td>Humberside</td>\n",
              "      <td>Burglary Business and Community</td>\n",
              "      <td>Theft offences</td>\n",
              "      <td>Non-domestic burglary</td>\n",
              "      <td>30C</td>\n",
              "      <td>212</td>\n",
              "      <td>None</td>\n",
              "      <td>None</td>\n",
              "    </tr>\n",
              "    <tr>\n",
              "      <th>89982</th>\n",
              "      <td>2021</td>\n",
              "      <td>1</td>\n",
              "      <td>Humberside</td>\n",
              "      <td>Violent disorder</td>\n",
              "      <td>Public order offences</td>\n",
              "      <td>Public order offences</td>\n",
              "      <td>62A</td>\n",
              "      <td>0</td>\n",
              "      <td>Public order offences</td>\n",
              "      <td>Public order offences</td>\n",
              "    </tr>\n",
              "    <tr>\n",
              "      <th>89983</th>\n",
              "      <td>2021</td>\n",
              "      <td>1</td>\n",
              "      <td>Kent</td>\n",
              "      <td>Burglary Business and Community</td>\n",
              "      <td>Theft offences</td>\n",
              "      <td>Non-domestic burglary</td>\n",
              "      <td>30C</td>\n",
              "      <td>306</td>\n",
              "      <td>None</td>\n",
              "      <td>None</td>\n",
              "    </tr>\n",
              "  </tbody>\n",
              "</table>\n",
              "<p>89984 rows × 10 columns</p>\n",
              "</div>\n",
              "    <div class=\"colab-df-buttons\">\n",
              "\n",
              "  <div class=\"colab-df-container\">\n",
              "    <button class=\"colab-df-convert\" onclick=\"convertToInteractive('df-b49939d2-e5c9-4757-a954-30bce5e11461')\"\n",
              "            title=\"Convert this dataframe to an interactive table.\"\n",
              "            style=\"display:none;\">\n",
              "\n",
              "  <svg xmlns=\"http://www.w3.org/2000/svg\" height=\"24px\" viewBox=\"0 -960 960 960\">\n",
              "    <path d=\"M120-120v-720h720v720H120Zm60-500h600v-160H180v160Zm220 220h160v-160H400v160Zm0 220h160v-160H400v160ZM180-400h160v-160H180v160Zm440 0h160v-160H620v160ZM180-180h160v-160H180v160Zm440 0h160v-160H620v160Z\"/>\n",
              "  </svg>\n",
              "    </button>\n",
              "\n",
              "  <style>\n",
              "    .colab-df-container {\n",
              "      display:flex;\n",
              "      gap: 12px;\n",
              "    }\n",
              "\n",
              "    .colab-df-convert {\n",
              "      background-color: #E8F0FE;\n",
              "      border: none;\n",
              "      border-radius: 50%;\n",
              "      cursor: pointer;\n",
              "      display: none;\n",
              "      fill: #1967D2;\n",
              "      height: 32px;\n",
              "      padding: 0 0 0 0;\n",
              "      width: 32px;\n",
              "    }\n",
              "\n",
              "    .colab-df-convert:hover {\n",
              "      background-color: #E2EBFA;\n",
              "      box-shadow: 0px 1px 2px rgba(60, 64, 67, 0.3), 0px 1px 3px 1px rgba(60, 64, 67, 0.15);\n",
              "      fill: #174EA6;\n",
              "    }\n",
              "\n",
              "    .colab-df-buttons div {\n",
              "      margin-bottom: 4px;\n",
              "    }\n",
              "\n",
              "    [theme=dark] .colab-df-convert {\n",
              "      background-color: #3B4455;\n",
              "      fill: #D2E3FC;\n",
              "    }\n",
              "\n",
              "    [theme=dark] .colab-df-convert:hover {\n",
              "      background-color: #434B5C;\n",
              "      box-shadow: 0px 1px 3px 1px rgba(0, 0, 0, 0.15);\n",
              "      filter: drop-shadow(0px 1px 2px rgba(0, 0, 0, 0.3));\n",
              "      fill: #FFFFFF;\n",
              "    }\n",
              "  </style>\n",
              "\n",
              "    <script>\n",
              "      const buttonEl =\n",
              "        document.querySelector('#df-b49939d2-e5c9-4757-a954-30bce5e11461 button.colab-df-convert');\n",
              "      buttonEl.style.display =\n",
              "        google.colab.kernel.accessAllowed ? 'block' : 'none';\n",
              "\n",
              "      async function convertToInteractive(key) {\n",
              "        const element = document.querySelector('#df-b49939d2-e5c9-4757-a954-30bce5e11461');\n",
              "        const dataTable =\n",
              "          await google.colab.kernel.invokeFunction('convertToInteractive',\n",
              "                                                    [key], {});\n",
              "        if (!dataTable) return;\n",
              "\n",
              "        const docLinkHtml = 'Like what you see? Visit the ' +\n",
              "          '<a target=\"_blank\" href=https://colab.research.google.com/notebooks/data_table.ipynb>data table notebook</a>'\n",
              "          + ' to learn more about interactive tables.';\n",
              "        element.innerHTML = '';\n",
              "        dataTable['output_type'] = 'display_data';\n",
              "        await google.colab.output.renderOutput(dataTable, element);\n",
              "        const docLink = document.createElement('div');\n",
              "        docLink.innerHTML = docLinkHtml;\n",
              "        element.appendChild(docLink);\n",
              "      }\n",
              "    </script>\n",
              "  </div>\n",
              "\n",
              "\n",
              "<div id=\"df-bf3592df-159d-45fb-9616-20abeda0657f\">\n",
              "  <button class=\"colab-df-quickchart\" onclick=\"quickchart('df-bf3592df-159d-45fb-9616-20abeda0657f')\"\n",
              "            title=\"Suggest charts\"\n",
              "            style=\"display:none;\">\n",
              "\n",
              "<svg xmlns=\"http://www.w3.org/2000/svg\" height=\"24px\"viewBox=\"0 0 24 24\"\n",
              "     width=\"24px\">\n",
              "    <g>\n",
              "        <path d=\"M19 3H5c-1.1 0-2 .9-2 2v14c0 1.1.9 2 2 2h14c1.1 0 2-.9 2-2V5c0-1.1-.9-2-2-2zM9 17H7v-7h2v7zm4 0h-2V7h2v10zm4 0h-2v-4h2v4z\"/>\n",
              "    </g>\n",
              "</svg>\n",
              "  </button>\n",
              "\n",
              "<style>\n",
              "  .colab-df-quickchart {\n",
              "      --bg-color: #E8F0FE;\n",
              "      --fill-color: #1967D2;\n",
              "      --hover-bg-color: #E2EBFA;\n",
              "      --hover-fill-color: #174EA6;\n",
              "      --disabled-fill-color: #AAA;\n",
              "      --disabled-bg-color: #DDD;\n",
              "  }\n",
              "\n",
              "  [theme=dark] .colab-df-quickchart {\n",
              "      --bg-color: #3B4455;\n",
              "      --fill-color: #D2E3FC;\n",
              "      --hover-bg-color: #434B5C;\n",
              "      --hover-fill-color: #FFFFFF;\n",
              "      --disabled-bg-color: #3B4455;\n",
              "      --disabled-fill-color: #666;\n",
              "  }\n",
              "\n",
              "  .colab-df-quickchart {\n",
              "    background-color: var(--bg-color);\n",
              "    border: none;\n",
              "    border-radius: 50%;\n",
              "    cursor: pointer;\n",
              "    display: none;\n",
              "    fill: var(--fill-color);\n",
              "    height: 32px;\n",
              "    padding: 0;\n",
              "    width: 32px;\n",
              "  }\n",
              "\n",
              "  .colab-df-quickchart:hover {\n",
              "    background-color: var(--hover-bg-color);\n",
              "    box-shadow: 0 1px 2px rgba(60, 64, 67, 0.3), 0 1px 3px 1px rgba(60, 64, 67, 0.15);\n",
              "    fill: var(--button-hover-fill-color);\n",
              "  }\n",
              "\n",
              "  .colab-df-quickchart-complete:disabled,\n",
              "  .colab-df-quickchart-complete:disabled:hover {\n",
              "    background-color: var(--disabled-bg-color);\n",
              "    fill: var(--disabled-fill-color);\n",
              "    box-shadow: none;\n",
              "  }\n",
              "\n",
              "  .colab-df-spinner {\n",
              "    border: 2px solid var(--fill-color);\n",
              "    border-color: transparent;\n",
              "    border-bottom-color: var(--fill-color);\n",
              "    animation:\n",
              "      spin 1s steps(1) infinite;\n",
              "  }\n",
              "\n",
              "  @keyframes spin {\n",
              "    0% {\n",
              "      border-color: transparent;\n",
              "      border-bottom-color: var(--fill-color);\n",
              "      border-left-color: var(--fill-color);\n",
              "    }\n",
              "    20% {\n",
              "      border-color: transparent;\n",
              "      border-left-color: var(--fill-color);\n",
              "      border-top-color: var(--fill-color);\n",
              "    }\n",
              "    30% {\n",
              "      border-color: transparent;\n",
              "      border-left-color: var(--fill-color);\n",
              "      border-top-color: var(--fill-color);\n",
              "      border-right-color: var(--fill-color);\n",
              "    }\n",
              "    40% {\n",
              "      border-color: transparent;\n",
              "      border-right-color: var(--fill-color);\n",
              "      border-top-color: var(--fill-color);\n",
              "    }\n",
              "    60% {\n",
              "      border-color: transparent;\n",
              "      border-right-color: var(--fill-color);\n",
              "    }\n",
              "    80% {\n",
              "      border-color: transparent;\n",
              "      border-right-color: var(--fill-color);\n",
              "      border-bottom-color: var(--fill-color);\n",
              "    }\n",
              "    90% {\n",
              "      border-color: transparent;\n",
              "      border-bottom-color: var(--fill-color);\n",
              "    }\n",
              "  }\n",
              "</style>\n",
              "\n",
              "  <script>\n",
              "    async function quickchart(key) {\n",
              "      const quickchartButtonEl =\n",
              "        document.querySelector('#' + key + ' button');\n",
              "      quickchartButtonEl.disabled = true;  // To prevent multiple clicks.\n",
              "      quickchartButtonEl.classList.add('colab-df-spinner');\n",
              "      try {\n",
              "        const charts = await google.colab.kernel.invokeFunction(\n",
              "            'suggestCharts', [key], {});\n",
              "      } catch (error) {\n",
              "        console.error('Error during call to suggestCharts:', error);\n",
              "      }\n",
              "      quickchartButtonEl.classList.remove('colab-df-spinner');\n",
              "      quickchartButtonEl.classList.add('colab-df-quickchart-complete');\n",
              "    }\n",
              "    (() => {\n",
              "      let quickchartButtonEl =\n",
              "        document.querySelector('#df-bf3592df-159d-45fb-9616-20abeda0657f button');\n",
              "      quickchartButtonEl.style.display =\n",
              "        google.colab.kernel.accessAllowed ? 'block' : 'none';\n",
              "    })();\n",
              "  </script>\n",
              "</div>\n",
              "    </div>\n",
              "  </div>\n"
            ],
            "text/plain": [
              "      Newfyear  FQuarter        ForceName  \\\n",
              "0         2021         1             Kent   \n",
              "1         2021         1       Lancashire   \n",
              "2         2021         1   Leicestershire   \n",
              "3         2021         1     Lincolnshire   \n",
              "4         2021         1  London, City of   \n",
              "...        ...       ...              ...   \n",
              "89979     2021         1    Hertfordshire   \n",
              "89980     2021         1    Hertfordshire   \n",
              "89981     2021         1       Humberside   \n",
              "89982     2021         1       Humberside   \n",
              "89983     2021         1             Kent   \n",
              "\n",
              "                                         OffDesc               OffGroup  \\\n",
              "0      Sexual assault on a male aged 13 and over        Sexual offences   \n",
              "1      Sexual assault on a male aged 13 and over        Sexual offences   \n",
              "2      Sexual assault on a male aged 13 and over        Sexual offences   \n",
              "3      Sexual assault on a male aged 13 and over        Sexual offences   \n",
              "4      Sexual assault on a male aged 13 and over        Sexual offences   \n",
              "...                                          ...                    ...   \n",
              "89979            Burglary Business and Community         Theft offences   \n",
              "89980                           Violent disorder  Public order offences   \n",
              "89981            Burglary Business and Community         Theft offences   \n",
              "89982                           Violent disorder  Public order offences   \n",
              "89983            Burglary Business and Community         Theft offences   \n",
              "\n",
              "                 OffSubgroup OffCode  NoOff            newOffGroup  \\\n",
              "0      Other sexual offences     17A     81        Sexual offences   \n",
              "1      Other sexual offences     17A     38        Sexual offences   \n",
              "2      Other sexual offences     17A     27        Sexual offences   \n",
              "3      Other sexual offences     17A     11        Sexual offences   \n",
              "4      Other sexual offences     17A      1        Sexual offences   \n",
              "...                      ...     ...    ...                    ...   \n",
              "89979  Non-domestic burglary     30C    228                   None   \n",
              "89980  Public order offences     62A      0  Public order offences   \n",
              "89981  Non-domestic burglary     30C    212                   None   \n",
              "89982  Public order offences     62A      0  Public order offences   \n",
              "89983  Non-domestic burglary     30C    306                   None   \n",
              "\n",
              "                    noSGroup  \n",
              "0      Other sexual offences  \n",
              "1      Other sexual offences  \n",
              "2      Other sexual offences  \n",
              "3      Other sexual offences  \n",
              "4      Other sexual offences  \n",
              "...                      ...  \n",
              "89979                   None  \n",
              "89980  Public order offences  \n",
              "89981                   None  \n",
              "89982  Public order offences  \n",
              "89983                   None  \n",
              "\n",
              "[89984 rows x 10 columns]"
            ]
          },
          "execution_count": 94,
          "metadata": {},
          "output_type": "execute_result"
        }
      ],
      "source": [
        "Criminaldataset"
      ]
    },
    {
      "cell_type": "code",
      "execution_count": null,
      "metadata": {
        "colab": {
          "background_save": true
        },
        "id": "O_AldIkACHeQ",
        "outputId": "b479a9c6-e707-4663-8b11-fa1579bc9c6c"
      },
      "outputs": [
        {
          "data": {
            "text/plain": [
              "(89984, 10)"
            ]
          },
          "execution_count": 95,
          "metadata": {},
          "output_type": "execute_result"
        }
      ],
      "source": [
        "\n",
        "\n",
        "Criminaldataset = Criminaldataset.drop_duplicates(Criminaldataset) #deleting the duplicates found in the worksheet\n",
        "Criminaldataset.shape"
      ]
    },
    {
      "cell_type": "code",
      "execution_count": null,
      "metadata": {
        "colab": {
          "background_save": true
        },
        "id": "xJgwVXoPDzuW",
        "outputId": "552ff4ea-ec62-4be1-c3f0-132bc4d279b3"
      },
      "outputs": [
        {
          "data": {
            "text/plain": [
              "Index(['Newfyear', 'FQuarter', 'ForceName', 'OffDesc', 'OffGroup',\n",
              "       'OffSubgroup', 'OffCode', 'NoOff', 'newOffGroup', 'noSGroup'],\n",
              "      dtype='object')"
            ]
          },
          "execution_count": 96,
          "metadata": {},
          "output_type": "execute_result"
        }
      ],
      "source": [
        "Criminaldataset.columns"
      ]
    },
    {
      "cell_type": "code",
      "execution_count": null,
      "metadata": {
        "colab": {
          "background_save": true
        },
        "id": "tmrODeI_rYlS",
        "outputId": "651ee7c2-bd63-470b-e96d-024c8f0469d3"
      },
      "outputs": [
        {
          "data": {
            "text/plain": [
              "Newfyear       object\n",
              "FQuarter        int64\n",
              "ForceName      object\n",
              "OffDesc        object\n",
              "OffGroup       object\n",
              "OffSubgroup    object\n",
              "OffCode        object\n",
              "NoOff           int64\n",
              "newOffGroup    object\n",
              "noSGroup       object\n",
              "dtype: object"
            ]
          },
          "execution_count": 97,
          "metadata": {},
          "output_type": "execute_result"
        }
      ],
      "source": [
        "Criminaldataset.dtypes"
      ]
    },
    {
      "cell_type": "code",
      "execution_count": null,
      "metadata": {
        "colab": {
          "background_save": true
        },
        "id": "k3lDFjHpUZNB"
      },
      "outputs": [],
      "source": [
        "Criminaldataset['FQuarter'] = Criminaldataset['FQuarter'].astype(str).astype(int)"
      ]
    },
    {
      "cell_type": "code",
      "execution_count": null,
      "metadata": {
        "colab": {
          "background_save": true
        },
        "id": "heItsZnwVy13"
      },
      "outputs": [],
      "source": [
        "Criminaldataset['Newfyear'] = Criminaldataset['Newfyear'].astype(str).astype(int)"
      ]
    },
    {
      "cell_type": "code",
      "execution_count": null,
      "metadata": {
        "colab": {
          "background_save": true
        },
        "id": "snxyBOFKUpEc",
        "outputId": "ca8d3ae1-0d7b-419e-edc9-ccb91e6d50e2"
      },
      "outputs": [
        {
          "data": {
            "text/plain": [
              "Newfyear        int64\n",
              "FQuarter        int64\n",
              "ForceName      object\n",
              "OffDesc        object\n",
              "OffGroup       object\n",
              "OffSubgroup    object\n",
              "OffCode        object\n",
              "NoOff           int64\n",
              "newOffGroup    object\n",
              "noSGroup       object\n",
              "dtype: object"
            ]
          },
          "execution_count": 100,
          "metadata": {},
          "output_type": "execute_result"
        }
      ],
      "source": [
        "Criminaldataset.dtypes"
      ]
    },
    {
      "cell_type": "markdown",
      "metadata": {
        "id": "00fehGyuPjwR"
      },
      "source": [
        "## Handling Null Values"
      ]
    },
    {
      "cell_type": "code",
      "execution_count": null,
      "metadata": {
        "colab": {
          "background_save": true
        },
        "id": "LYw-R2RiPXxM",
        "outputId": "0d33b972-9108-4ae1-8e62-62517858ca26"
      },
      "outputs": [
        {
          "data": {
            "text/plain": [
              "Newfyear          0\n",
              "FQuarter          0\n",
              "ForceName         0\n",
              "OffDesc           0\n",
              "OffGroup          0\n",
              "OffSubgroup       0\n",
              "OffCode           0\n",
              "NoOff             0\n",
              "newOffGroup    8320\n",
              "noSGroup       8320\n",
              "dtype: int64"
            ]
          },
          "execution_count": 101,
          "metadata": {},
          "output_type": "execute_result"
        }
      ],
      "source": [
        "Criminaldataset.isnull().sum()"
      ]
    },
    {
      "cell_type": "code",
      "execution_count": null,
      "metadata": {
        "colab": {
          "background_save": true
        },
        "id": "1EU4qqKvM4zn"
      },
      "outputs": [],
      "source": [
        "Criminaldataset[\"newOffGroup\"].fillna('Unknown', inplace=True)"
      ]
    },
    {
      "cell_type": "code",
      "execution_count": null,
      "metadata": {
        "colab": {
          "background_save": true
        },
        "id": "xta7W_9GctUB"
      },
      "outputs": [],
      "source": [
        "Criminaldataset[\"noSGroup\"].fillna('Unknown', inplace=True)"
      ]
    },
    {
      "cell_type": "code",
      "execution_count": null,
      "metadata": {
        "colab": {
          "background_save": true
        },
        "id": "22uLQu7IP1UJ",
        "outputId": "725c24da-36f7-486b-c8ca-a27c765afd8a"
      },
      "outputs": [
        {
          "data": {
            "text/plain": [
              "Newfyear       0\n",
              "FQuarter       0\n",
              "ForceName      0\n",
              "OffDesc        0\n",
              "OffGroup       0\n",
              "OffSubgroup    0\n",
              "OffCode        0\n",
              "NoOff          0\n",
              "newOffGroup    0\n",
              "noSGroup       0\n",
              "dtype: int64"
            ]
          },
          "execution_count": 104,
          "metadata": {},
          "output_type": "execute_result"
        }
      ],
      "source": [
        "Criminaldataset.isnull().sum()"
      ]
    },
    {
      "cell_type": "markdown",
      "metadata": {
        "id": "Cx3ss3d6vFYM"
      },
      "source": [
        "# Outliers\n"
      ]
    },
    {
      "cell_type": "code",
      "execution_count": null,
      "metadata": {
        "colab": {
          "background_save": true
        },
        "id": "AuDB3K_T42MA",
        "outputId": "2071a449-5845-474a-ddf0-dfb57bf3ee21"
      },
      "outputs": [
        {
          "name": "stdout",
          "output_type": "stream",
          "text": [
            "Requirement already satisfied: matplotlib in /usr/local/lib/python3.10/dist-packages (3.7.1)\n",
            "Requirement already satisfied: contourpy>=1.0.1 in /usr/local/lib/python3.10/dist-packages (from matplotlib) (1.2.0)\n",
            "Requirement already satisfied: cycler>=0.10 in /usr/local/lib/python3.10/dist-packages (from matplotlib) (0.12.1)\n",
            "Requirement already satisfied: fonttools>=4.22.0 in /usr/local/lib/python3.10/dist-packages (from matplotlib) (4.47.2)\n",
            "Requirement already satisfied: kiwisolver>=1.0.1 in /usr/local/lib/python3.10/dist-packages (from matplotlib) (1.4.5)\n",
            "Requirement already satisfied: numpy>=1.20 in /usr/local/lib/python3.10/dist-packages (from matplotlib) (1.23.5)\n",
            "Requirement already satisfied: packaging>=20.0 in /usr/local/lib/python3.10/dist-packages (from matplotlib) (23.2)\n",
            "Requirement already satisfied: pillow>=6.2.0 in /usr/local/lib/python3.10/dist-packages (from matplotlib) (9.4.0)\n",
            "Requirement already satisfied: pyparsing>=2.3.1 in /usr/local/lib/python3.10/dist-packages (from matplotlib) (3.1.1)\n",
            "Requirement already satisfied: python-dateutil>=2.7 in /usr/local/lib/python3.10/dist-packages (from matplotlib) (2.8.2)\n",
            "Requirement already satisfied: six>=1.5 in /usr/local/lib/python3.10/dist-packages (from python-dateutil>=2.7->matplotlib) (1.16.0)\n"
          ]
        }
      ],
      "source": [
        "!pip install matplotlib"
      ]
    },
    {
      "cell_type": "markdown",
      "metadata": {
        "id": "v6bXrUMFRNwU"
      },
      "source": [
        "## Detect Outliers"
      ]
    },
    {
      "cell_type": "code",
      "execution_count": null,
      "metadata": {
        "colab": {
          "background_save": true
        },
        "id": "unZ3Vdl6PMU2"
      },
      "outputs": [],
      "source": [
        "plt.rcParams.update({'font.size': 10.5, 'figure.figsize': (8, 4)})"
      ]
    },
    {
      "cell_type": "code",
      "execution_count": null,
      "metadata": {
        "colab": {
          "background_save": true
        },
        "id": "q2xZwJcpYzlS",
        "outputId": "63d0a10d-f563-47ea-de3c-d4d8f353c554"
      },
      "outputs": [
        {
          "data": {
            "image/png": "[encoded data removed]",
            "text/plain": [
              "<Figure size 800x400 with 1 Axes>"
            ]
          },
          "metadata": {},
          "output_type": "display_data"
        }
      ],
      "source": [
        "Criminaldataset.plot(kind='scatter', y='NoOff', x='Newfyear', title='Boxplot for Offence Code outlier detection');"
      ]
    },
    {
      "cell_type": "code",
      "execution_count": null,
      "metadata": {
        "colab": {
          "background_save": true
        },
        "id": "W-kC3OLgW5Ag",
        "outputId": "7dfaae8d-e93e-4465-89a1-be706bcfddd7"
      },
      "outputs": [
        {
          "data": {
            "image/png": "[encoded data removed]",
            "text/plain": [
              "<Figure size 800x400 with 1 Axes>"
            ]
          },
          "metadata": {},
          "output_type": "display_data"
        }
      ],
      "source": [
        "Criminaldataset.plot(kind='scatter', y='NoOff', x='FQuarter', title='Boxplot for Offence Code outlier detection');"
      ]
    },
    {
      "cell_type": "markdown",
      "metadata": {
        "id": "MRp5KO4BOz2h"
      },
      "source": [
        "## Handle Outliers"
      ]
    },
    {
      "cell_type": "code",
      "execution_count": null,
      "metadata": {
        "colab": {
          "background_save": true
        },
        "id": "GLOKBX7Gamya",
        "outputId": "58d5b763-2f04-49cf-92a0-51de7c6230f7"
      },
      "outputs": [
        {
          "name": "stderr",
          "output_type": "stream",
          "text": [
            "<ipython-input-109-dd5ca491a8aa>:6: SettingWithCopyWarning: \n",
            "A value is trying to be set on a copy of a slice from a DataFrame\n",
            "\n",
            "See the caveats in the documentation: https://pandas.pydata.org/pandas-docs/stable/user_guide/indexing.html#returning-a-view-versus-a-copy\n",
            "  dataframe[column][outliers] = dataframe[column].median()  # Replace outliers with the median\n"
          ]
        },
        {
          "data": {
            "text/html": [
              "\n",
              "  <div id=\"df-d65a127b-71fe-4bab-ac5b-3cdbd14c12a9\" class=\"colab-df-container\">\n",
              "    <div>\n",
              "<style scoped>\n",
              "    .dataframe tbody tr th:only-of-type {\n",
              "        vertical-align: middle;\n",
              "    }\n",
              "\n",
              "    .dataframe tbody tr th {\n",
              "        vertical-align: top;\n",
              "    }\n",
              "\n",
              "    .dataframe thead th {\n",
              "        text-align: right;\n",
              "    }\n",
              "</style>\n",
              "<table border=\"1\" class=\"dataframe\">\n",
              "  <thead>\n",
              "    <tr style=\"text-align: right;\">\n",
              "      <th></th>\n",
              "      <th>Newfyear</th>\n",
              "      <th>FQuarter</th>\n",
              "      <th>ForceName</th>\n",
              "      <th>OffDesc</th>\n",
              "      <th>OffGroup</th>\n",
              "      <th>OffSubgroup</th>\n",
              "      <th>OffCode</th>\n",
              "      <th>NoOff</th>\n",
              "      <th>newOffGroup</th>\n",
              "      <th>noSGroup</th>\n",
              "    </tr>\n",
              "  </thead>\n",
              "  <tbody>\n",
              "    <tr>\n",
              "      <th>0</th>\n",
              "      <td>2021</td>\n",
              "      <td>1</td>\n",
              "      <td>Kent</td>\n",
              "      <td>Sexual assault on a male aged 13 and over</td>\n",
              "      <td>Sexual offences</td>\n",
              "      <td>Other sexual offences</td>\n",
              "      <td>17A</td>\n",
              "      <td>81</td>\n",
              "      <td>Sexual offences</td>\n",
              "      <td>Other sexual offences</td>\n",
              "    </tr>\n",
              "    <tr>\n",
              "      <th>1</th>\n",
              "      <td>2021</td>\n",
              "      <td>1</td>\n",
              "      <td>Lancashire</td>\n",
              "      <td>Sexual assault on a male aged 13 and over</td>\n",
              "      <td>Sexual offences</td>\n",
              "      <td>Other sexual offences</td>\n",
              "      <td>17A</td>\n",
              "      <td>38</td>\n",
              "      <td>Sexual offences</td>\n",
              "      <td>Other sexual offences</td>\n",
              "    </tr>\n",
              "    <tr>\n",
              "      <th>2</th>\n",
              "      <td>2021</td>\n",
              "      <td>1</td>\n",
              "      <td>Leicestershire</td>\n",
              "      <td>Sexual assault on a male aged 13 and over</td>\n",
              "      <td>Sexual offences</td>\n",
              "      <td>Other sexual offences</td>\n",
              "      <td>17A</td>\n",
              "      <td>27</td>\n",
              "      <td>Sexual offences</td>\n",
              "      <td>Other sexual offences</td>\n",
              "    </tr>\n",
              "    <tr>\n",
              "      <th>3</th>\n",
              "      <td>2021</td>\n",
              "      <td>1</td>\n",
              "      <td>Lincolnshire</td>\n",
              "      <td>Sexual assault on a male aged 13 and over</td>\n",
              "      <td>Sexual offences</td>\n",
              "      <td>Other sexual offences</td>\n",
              "      <td>17A</td>\n",
              "      <td>11</td>\n",
              "      <td>Sexual offences</td>\n",
              "      <td>Other sexual offences</td>\n",
              "    </tr>\n",
              "    <tr>\n",
              "      <th>4</th>\n",
              "      <td>2021</td>\n",
              "      <td>1</td>\n",
              "      <td>London, City of</td>\n",
              "      <td>Sexual assault on a male aged 13 and over</td>\n",
              "      <td>Sexual offences</td>\n",
              "      <td>Other sexual offences</td>\n",
              "      <td>17A</td>\n",
              "      <td>1</td>\n",
              "      <td>Sexual offences</td>\n",
              "      <td>Other sexual offences</td>\n",
              "    </tr>\n",
              "    <tr>\n",
              "      <th>...</th>\n",
              "      <td>...</td>\n",
              "      <td>...</td>\n",
              "      <td>...</td>\n",
              "      <td>...</td>\n",
              "      <td>...</td>\n",
              "      <td>...</td>\n",
              "      <td>...</td>\n",
              "      <td>...</td>\n",
              "      <td>...</td>\n",
              "      <td>...</td>\n",
              "    </tr>\n",
              "    <tr>\n",
              "      <th>89979</th>\n",
              "      <td>2021</td>\n",
              "      <td>1</td>\n",
              "      <td>Hertfordshire</td>\n",
              "      <td>Burglary Business and Community</td>\n",
              "      <td>Theft offences</td>\n",
              "      <td>Non-domestic burglary</td>\n",
              "      <td>30C</td>\n",
              "      <td>228</td>\n",
              "      <td>Unknown</td>\n",
              "      <td>Unknown</td>\n",
              "    </tr>\n",
              "    <tr>\n",
              "      <th>89980</th>\n",
              "      <td>2021</td>\n",
              "      <td>1</td>\n",
              "      <td>Hertfordshire</td>\n",
              "      <td>Violent disorder</td>\n",
              "      <td>Public order offences</td>\n",
              "      <td>Public order offences</td>\n",
              "      <td>62A</td>\n",
              "      <td>0</td>\n",
              "      <td>Public order offences</td>\n",
              "      <td>Public order offences</td>\n",
              "    </tr>\n",
              "    <tr>\n",
              "      <th>89981</th>\n",
              "      <td>2021</td>\n",
              "      <td>1</td>\n",
              "      <td>Humberside</td>\n",
              "      <td>Burglary Business and Community</td>\n",
              "      <td>Theft offences</td>\n",
              "      <td>Non-domestic burglary</td>\n",
              "      <td>30C</td>\n",
              "      <td>212</td>\n",
              "      <td>Unknown</td>\n",
              "      <td>Unknown</td>\n",
              "    </tr>\n",
              "    <tr>\n",
              "      <th>89982</th>\n",
              "      <td>2021</td>\n",
              "      <td>1</td>\n",
              "      <td>Humberside</td>\n",
              "      <td>Violent disorder</td>\n",
              "      <td>Public order offences</td>\n",
              "      <td>Public order offences</td>\n",
              "      <td>62A</td>\n",
              "      <td>0</td>\n",
              "      <td>Public order offences</td>\n",
              "      <td>Public order offences</td>\n",
              "    </tr>\n",
              "    <tr>\n",
              "      <th>89983</th>\n",
              "      <td>2021</td>\n",
              "      <td>1</td>\n",
              "      <td>Kent</td>\n",
              "      <td>Burglary Business and Community</td>\n",
              "      <td>Theft offences</td>\n",
              "      <td>Non-domestic burglary</td>\n",
              "      <td>30C</td>\n",
              "      <td>306</td>\n",
              "      <td>Unknown</td>\n",
              "      <td>Unknown</td>\n",
              "    </tr>\n",
              "  </tbody>\n",
              "</table>\n",
              "<p>89984 rows × 10 columns</p>\n",
              "</div>\n",
              "    <div class=\"colab-df-buttons\">\n",
              "\n",
              "  <div class=\"colab-df-container\">\n",
              "    <button class=\"colab-df-convert\" onclick=\"convertToInteractive('df-d65a127b-71fe-4bab-ac5b-3cdbd14c12a9')\"\n",
              "            title=\"Convert this dataframe to an interactive table.\"\n",
              "            style=\"display:none;\">\n",
              "\n",
              "  <svg xmlns=\"http://www.w3.org/2000/svg\" height=\"24px\" viewBox=\"0 -960 960 960\">\n",
              "    <path d=\"M120-120v-720h720v720H120Zm60-500h600v-160H180v160Zm220 220h160v-160H400v160Zm0 220h160v-160H400v160ZM180-400h160v-160H180v160Zm440 0h160v-160H620v160ZM180-180h160v-160H180v160Zm440 0h160v-160H620v160Z\"/>\n",
              "  </svg>\n",
              "    </button>\n",
              "\n",
              "  <style>\n",
              "    .colab-df-container {\n",
              "      display:flex;\n",
              "      gap: 12px;\n",
              "    }\n",
              "\n",
              "    .colab-df-convert {\n",
              "      background-color: #E8F0FE;\n",
              "      border: none;\n",
              "      border-radius: 50%;\n",
              "      cursor: pointer;\n",
              "      display: none;\n",
              "      fill: #1967D2;\n",
              "      height: 32px;\n",
              "      padding: 0 0 0 0;\n",
              "      width: 32px;\n",
              "    }\n",
              "\n",
              "    .colab-df-convert:hover {\n",
              "      background-color: #E2EBFA;\n",
              "      box-shadow: 0px 1px 2px rgba(60, 64, 67, 0.3), 0px 1px 3px 1px rgba(60, 64, 67, 0.15);\n",
              "      fill: #174EA6;\n",
              "    }\n",
              "\n",
              "    .colab-df-buttons div {\n",
              "      margin-bottom: 4px;\n",
              "    }\n",
              "\n",
              "    [theme=dark] .colab-df-convert {\n",
              "      background-color: #3B4455;\n",
              "      fill: #D2E3FC;\n",
              "    }\n",
              "\n",
              "    [theme=dark] .colab-df-convert:hover {\n",
              "      background-color: #434B5C;\n",
              "      box-shadow: 0px 1px 3px 1px rgba(0, 0, 0, 0.15);\n",
              "      filter: drop-shadow(0px 1px 2px rgba(0, 0, 0, 0.3));\n",
              "      fill: #FFFFFF;\n",
              "    }\n",
              "  </style>\n",
              "\n",
              "    <script>\n",
              "      const buttonEl =\n",
              "        document.querySelector('#df-d65a127b-71fe-4bab-ac5b-3cdbd14c12a9 button.colab-df-convert');\n",
              "      buttonEl.style.display =\n",
              "        google.colab.kernel.accessAllowed ? 'block' : 'none';\n",
              "\n",
              "      async function convertToInteractive(key) {\n",
              "        const element = document.querySelector('#df-d65a127b-71fe-4bab-ac5b-3cdbd14c12a9');\n",
              "        const dataTable =\n",
              "          await google.colab.kernel.invokeFunction('convertToInteractive',\n",
              "                                                    [key], {});\n",
              "        if (!dataTable) return;\n",
              "\n",
              "        const docLinkHtml = 'Like what you see? Visit the ' +\n",
              "          '<a target=\"_blank\" href=https://colab.research.google.com/notebooks/data_table.ipynb>data table notebook</a>'\n",
              "          + ' to learn more about interactive tables.';\n",
              "        element.innerHTML = '';\n",
              "        dataTable['output_type'] = 'display_data';\n",
              "        await google.colab.output.renderOutput(dataTable, element);\n",
              "        const docLink = document.createElement('div');\n",
              "        docLink.innerHTML = docLinkHtml;\n",
              "        element.appendChild(docLink);\n",
              "      }\n",
              "    </script>\n",
              "  </div>\n",
              "\n",
              "\n",
              "<div id=\"df-2d316232-ff71-43ee-ab6c-15d3242fb2b9\">\n",
              "  <button class=\"colab-df-quickchart\" onclick=\"quickchart('df-2d316232-ff71-43ee-ab6c-15d3242fb2b9')\"\n",
              "            title=\"Suggest charts\"\n",
              "            style=\"display:none;\">\n",
              "\n",
              "<svg xmlns=\"http://www.w3.org/2000/svg\" height=\"24px\"viewBox=\"0 0 24 24\"\n",
              "     width=\"24px\">\n",
              "    <g>\n",
              "        <path d=\"M19 3H5c-1.1 0-2 .9-2 2v14c0 1.1.9 2 2 2h14c1.1 0 2-.9 2-2V5c0-1.1-.9-2-2-2zM9 17H7v-7h2v7zm4 0h-2V7h2v10zm4 0h-2v-4h2v4z\"/>\n",
              "    </g>\n",
              "</svg>\n",
              "  </button>\n",
              "\n",
              "<style>\n",
              "  .colab-df-quickchart {\n",
              "      --bg-color: #E8F0FE;\n",
              "      --fill-color: #1967D2;\n",
              "      --hover-bg-color: #E2EBFA;\n",
              "      --hover-fill-color: #174EA6;\n",
              "      --disabled-fill-color: #AAA;\n",
              "      --disabled-bg-color: #DDD;\n",
              "  }\n",
              "\n",
              "  [theme=dark] .colab-df-quickchart {\n",
              "      --bg-color: #3B4455;\n",
              "      --fill-color: #D2E3FC;\n",
              "      --hover-bg-color: #434B5C;\n",
              "      --hover-fill-color: #FFFFFF;\n",
              "      --disabled-bg-color: #3B4455;\n",
              "      --disabled-fill-color: #666;\n",
              "  }\n",
              "\n",
              "  .colab-df-quickchart {\n",
              "    background-color: var(--bg-color);\n",
              "    border: none;\n",
              "    border-radius: 50%;\n",
              "    cursor: pointer;\n",
              "    display: none;\n",
              "    fill: var(--fill-color);\n",
              "    height: 32px;\n",
              "    padding: 0;\n",
              "    width: 32px;\n",
              "  }\n",
              "\n",
              "  .colab-df-quickchart:hover {\n",
              "    background-color: var(--hover-bg-color);\n",
              "    box-shadow: 0 1px 2px rgba(60, 64, 67, 0.3), 0 1px 3px 1px rgba(60, 64, 67, 0.15);\n",
              "    fill: var(--button-hover-fill-color);\n",
              "  }\n",
              "\n",
              "  .colab-df-quickchart-complete:disabled,\n",
              "  .colab-df-quickchart-complete:disabled:hover {\n",
              "    background-color: var(--disabled-bg-color);\n",
              "    fill: var(--disabled-fill-color);\n",
              "    box-shadow: none;\n",
              "  }\n",
              "\n",
              "  .colab-df-spinner {\n",
              "    border: 2px solid var(--fill-color);\n",
              "    border-color: transparent;\n",
              "    border-bottom-color: var(--fill-color);\n",
              "    animation:\n",
              "      spin 1s steps(1) infinite;\n",
              "  }\n",
              "\n",
              "  @keyframes spin {\n",
              "    0% {\n",
              "      border-color: transparent;\n",
              "      border-bottom-color: var(--fill-color);\n",
              "      border-left-color: var(--fill-color);\n",
              "    }\n",
              "    20% {\n",
              "      border-color: transparent;\n",
              "      border-left-color: var(--fill-color);\n",
              "      border-top-color: var(--fill-color);\n",
              "    }\n",
              "    30% {\n",
              "      border-color: transparent;\n",
              "      border-left-color: var(--fill-color);\n",
              "      border-top-color: var(--fill-color);\n",
              "      border-right-color: var(--fill-color);\n",
              "    }\n",
              "    40% {\n",
              "      border-color: transparent;\n",
              "      border-right-color: var(--fill-color);\n",
              "      border-top-color: var(--fill-color);\n",
              "    }\n",
              "    60% {\n",
              "      border-color: transparent;\n",
              "      border-right-color: var(--fill-color);\n",
              "    }\n",
              "    80% {\n",
              "      border-color: transparent;\n",
              "      border-right-color: var(--fill-color);\n",
              "      border-bottom-color: var(--fill-color);\n",
              "    }\n",
              "    90% {\n",
              "      border-color: transparent;\n",
              "      border-bottom-color: var(--fill-color);\n",
              "    }\n",
              "  }\n",
              "</style>\n",
              "\n",
              "  <script>\n",
              "    async function quickchart(key) {\n",
              "      const quickchartButtonEl =\n",
              "        document.querySelector('#' + key + ' button');\n",
              "      quickchartButtonEl.disabled = true;  // To prevent multiple clicks.\n",
              "      quickchartButtonEl.classList.add('colab-df-spinner');\n",
              "      try {\n",
              "        const charts = await google.colab.kernel.invokeFunction(\n",
              "            'suggestCharts', [key], {});\n",
              "      } catch (error) {\n",
              "        console.error('Error during call to suggestCharts:', error);\n",
              "      }\n",
              "      quickchartButtonEl.classList.remove('colab-df-spinner');\n",
              "      quickchartButtonEl.classList.add('colab-df-quickchart-complete');\n",
              "    }\n",
              "    (() => {\n",
              "      let quickchartButtonEl =\n",
              "        document.querySelector('#df-2d316232-ff71-43ee-ab6c-15d3242fb2b9 button');\n",
              "      quickchartButtonEl.style.display =\n",
              "        google.colab.kernel.accessAllowed ? 'block' : 'none';\n",
              "    })();\n",
              "  </script>\n",
              "</div>\n",
              "    </div>\n",
              "  </div>\n"
            ],
            "text/plain": [
              "       Newfyear  FQuarter        ForceName  \\\n",
              "0          2021         1             Kent   \n",
              "1          2021         1       Lancashire   \n",
              "2          2021         1   Leicestershire   \n",
              "3          2021         1     Lincolnshire   \n",
              "4          2021         1  London, City of   \n",
              "...         ...       ...              ...   \n",
              "89979      2021         1    Hertfordshire   \n",
              "89980      2021         1    Hertfordshire   \n",
              "89981      2021         1       Humberside   \n",
              "89982      2021         1       Humberside   \n",
              "89983      2021         1             Kent   \n",
              "\n",
              "                                         OffDesc               OffGroup  \\\n",
              "0      Sexual assault on a male aged 13 and over        Sexual offences   \n",
              "1      Sexual assault on a male aged 13 and over        Sexual offences   \n",
              "2      Sexual assault on a male aged 13 and over        Sexual offences   \n",
              "3      Sexual assault on a male aged 13 and over        Sexual offences   \n",
              "4      Sexual assault on a male aged 13 and over        Sexual offences   \n",
              "...                                          ...                    ...   \n",
              "89979            Burglary Business and Community         Theft offences   \n",
              "89980                           Violent disorder  Public order offences   \n",
              "89981            Burglary Business and Community         Theft offences   \n",
              "89982                           Violent disorder  Public order offences   \n",
              "89983            Burglary Business and Community         Theft offences   \n",
              "\n",
              "                 OffSubgroup OffCode  NoOff            newOffGroup  \\\n",
              "0      Other sexual offences     17A     81        Sexual offences   \n",
              "1      Other sexual offences     17A     38        Sexual offences   \n",
              "2      Other sexual offences     17A     27        Sexual offences   \n",
              "3      Other sexual offences     17A     11        Sexual offences   \n",
              "4      Other sexual offences     17A      1        Sexual offences   \n",
              "...                      ...     ...    ...                    ...   \n",
              "89979  Non-domestic burglary     30C    228                Unknown   \n",
              "89980  Public order offences     62A      0  Public order offences   \n",
              "89981  Non-domestic burglary     30C    212                Unknown   \n",
              "89982  Public order offences     62A      0  Public order offences   \n",
              "89983  Non-domestic burglary     30C    306                Unknown   \n",
              "\n",
              "                    noSGroup  \n",
              "0      Other sexual offences  \n",
              "1      Other sexual offences  \n",
              "2      Other sexual offences  \n",
              "3      Other sexual offences  \n",
              "4      Other sexual offences  \n",
              "...                      ...  \n",
              "89979                Unknown  \n",
              "89980  Public order offences  \n",
              "89981                Unknown  \n",
              "89982  Public order offences  \n",
              "89983                Unknown  \n",
              "\n",
              "[89984 rows x 10 columns]"
            ]
          },
          "execution_count": 109,
          "metadata": {},
          "output_type": "execute_result"
        }
      ],
      "source": [
        " def handle_outliers(dataframe, column):\n",
        "    z_scores = stats.zscore(dataframe[column])\n",
        "    abs_z_scores = abs(z_scores)\n",
        "    threshold = 3  # Adjust the threshold based on your requirement\n",
        "    outliers = (abs_z_scores > threshold)\n",
        "    dataframe[column][outliers] = dataframe[column].median()  # Replace outliers with the median\n",
        "\n",
        "# Apply the function to handle outliers for the 'NoOff' column\n",
        "handle_outliers(Criminaldataset, 'NoOff')\n",
        "\n",
        "# Display the modified dataframe\n",
        "Criminaldataset"
      ]
    },
    {
      "cell_type": "code",
      "execution_count": null,
      "metadata": {
        "colab": {
          "background_save": true
        },
        "id": "xxPlHZCfdiNW",
        "outputId": "4247a43f-b652-4c2d-ecad-9144d89037be"
      },
      "outputs": [
        {
          "data": {
            "image/png": "[encoded data removed]",
            "text/plain": [
              "<Figure size 800x400 with 1 Axes>"
            ]
          },
          "metadata": {},
          "output_type": "display_data"
        }
      ],
      "source": [
        "Criminaldataset.plot(kind='scatter', y='NoOff', x='Newfyear', title='Boxplot for Offence Code after handling outlier');"
      ]
    },
    {
      "cell_type": "markdown",
      "metadata": {
        "id": "Zcpkg5utyd3I"
      },
      "source": [
        "# Correlations"
      ]
    },
    {
      "cell_type": "code",
      "execution_count": null,
      "metadata": {
        "colab": {
          "background_save": true
        },
        "id": "vQ1ad82Gyga5",
        "outputId": "7060f163-a75a-4ccb-a324-5c3a59abca94"
      },
      "outputs": [
        {
          "name": "stderr",
          "output_type": "stream",
          "text": [
            "<ipython-input-111-eb76f73ed732>:1: FutureWarning: The default value of numeric_only in DataFrame.corr is deprecated. In a future version, it will default to False. Select only valid columns or specify the value of numeric_only to silence this warning.\n",
            "  Criminaldataset.corr()\n"
          ]
        },
        {
          "data": {
            "text/html": [
              "\n",
              "  <div id=\"df-f16438b0-e5a6-45b0-86f6-20047d3ba9e4\" class=\"colab-df-container\">\n",
              "    <div>\n",
              "<style scoped>\n",
              "    .dataframe tbody tr th:only-of-type {\n",
              "        vertical-align: middle;\n",
              "    }\n",
              "\n",
              "    .dataframe tbody tr th {\n",
              "        vertical-align: top;\n",
              "    }\n",
              "\n",
              "    .dataframe thead th {\n",
              "        text-align: right;\n",
              "    }\n",
              "</style>\n",
              "<table border=\"1\" class=\"dataframe\">\n",
              "  <thead>\n",
              "    <tr style=\"text-align: right;\">\n",
              "      <th></th>\n",
              "      <th>Newfyear</th>\n",
              "      <th>FQuarter</th>\n",
              "      <th>NoOff</th>\n",
              "    </tr>\n",
              "  </thead>\n",
              "  <tbody>\n",
              "    <tr>\n",
              "      <th>Newfyear</th>\n",
              "      <td>1.000000e+00</td>\n",
              "      <td>-7.198652e-14</td>\n",
              "      <td>0.034814</td>\n",
              "    </tr>\n",
              "    <tr>\n",
              "      <th>FQuarter</th>\n",
              "      <td>-7.198652e-14</td>\n",
              "      <td>1.000000e+00</td>\n",
              "      <td>-0.001130</td>\n",
              "    </tr>\n",
              "    <tr>\n",
              "      <th>NoOff</th>\n",
              "      <td>3.481397e-02</td>\n",
              "      <td>-1.130271e-03</td>\n",
              "      <td>1.000000</td>\n",
              "    </tr>\n",
              "  </tbody>\n",
              "</table>\n",
              "</div>\n",
              "    <div class=\"colab-df-buttons\">\n",
              "\n",
              "  <div class=\"colab-df-container\">\n",
              "    <button class=\"colab-df-convert\" onclick=\"convertToInteractive('df-f16438b0-e5a6-45b0-86f6-20047d3ba9e4')\"\n",
              "            title=\"Convert this dataframe to an interactive table.\"\n",
              "            style=\"display:none;\">\n",
              "\n",
              "  <svg xmlns=\"http://www.w3.org/2000/svg\" height=\"24px\" viewBox=\"0 -960 960 960\">\n",
              "    <path d=\"M120-120v-720h720v720H120Zm60-500h600v-160H180v160Zm220 220h160v-160H400v160Zm0 220h160v-160H400v160ZM180-400h160v-160H180v160Zm440 0h160v-160H620v160ZM180-180h160v-160H180v160Zm440 0h160v-160H620v160Z\"/>\n",
              "  </svg>\n",
              "    </button>\n",
              "\n",
              "  <style>\n",
              "    .colab-df-container {\n",
              "      display:flex;\n",
              "      gap: 12px;\n",
              "    }\n",
              "\n",
              "    .colab-df-convert {\n",
              "      background-color: #E8F0FE;\n",
              "      border: none;\n",
              "      border-radius: 50%;\n",
              "      cursor: pointer;\n",
              "      display: none;\n",
              "      fill: #1967D2;\n",
              "      height: 32px;\n",
              "      padding: 0 0 0 0;\n",
              "      width: 32px;\n",
              "    }\n",
              "\n",
              "    .colab-df-convert:hover {\n",
              "      background-color: #E2EBFA;\n",
              "      box-shadow: 0px 1px 2px rgba(60, 64, 67, 0.3), 0px 1px 3px 1px rgba(60, 64, 67, 0.15);\n",
              "      fill: #174EA6;\n",
              "    }\n",
              "\n",
              "    .colab-df-buttons div {\n",
              "      margin-bottom: 4px;\n",
              "    }\n",
              "\n",
              "    [theme=dark] .colab-df-convert {\n",
              "      background-color: #3B4455;\n",
              "      fill: #D2E3FC;\n",
              "    }\n",
              "\n",
              "    [theme=dark] .colab-df-convert:hover {\n",
              "      background-color: #434B5C;\n",
              "      box-shadow: 0px 1px 3px 1px rgba(0, 0, 0, 0.15);\n",
              "      filter: drop-shadow(0px 1px 2px rgba(0, 0, 0, 0.3));\n",
              "      fill: #FFFFFF;\n",
              "    }\n",
              "  </style>\n",
              "\n",
              "    <script>\n",
              "      const buttonEl =\n",
              "        document.querySelector('#df-f16438b0-e5a6-45b0-86f6-20047d3ba9e4 button.colab-df-convert');\n",
              "      buttonEl.style.display =\n",
              "        google.colab.kernel.accessAllowed ? 'block' : 'none';\n",
              "\n",
              "      async function convertToInteractive(key) {\n",
              "        const element = document.querySelector('#df-f16438b0-e5a6-45b0-86f6-20047d3ba9e4');\n",
              "        const dataTable =\n",
              "          await google.colab.kernel.invokeFunction('convertToInteractive',\n",
              "                                                    [key], {});\n",
              "        if (!dataTable) return;\n",
              "\n",
              "        const docLinkHtml = 'Like what you see? Visit the ' +\n",
              "          '<a target=\"_blank\" href=https://colab.research.google.com/notebooks/data_table.ipynb>data table notebook</a>'\n",
              "          + ' to learn more about interactive tables.';\n",
              "        element.innerHTML = '';\n",
              "        dataTable['output_type'] = 'display_data';\n",
              "        await google.colab.output.renderOutput(dataTable, element);\n",
              "        const docLink = document.createElement('div');\n",
              "        docLink.innerHTML = docLinkHtml;\n",
              "        element.appendChild(docLink);\n",
              "      }\n",
              "    </script>\n",
              "  </div>\n",
              "\n",
              "\n",
              "<div id=\"df-f9c02e13-202e-493f-90bd-f5092ddd2484\">\n",
              "  <button class=\"colab-df-quickchart\" onclick=\"quickchart('df-f9c02e13-202e-493f-90bd-f5092ddd2484')\"\n",
              "            title=\"Suggest charts\"\n",
              "            style=\"display:none;\">\n",
              "\n",
              "<svg xmlns=\"http://www.w3.org/2000/svg\" height=\"24px\"viewBox=\"0 0 24 24\"\n",
              "     width=\"24px\">\n",
              "    <g>\n",
              "        <path d=\"M19 3H5c-1.1 0-2 .9-2 2v14c0 1.1.9 2 2 2h14c1.1 0 2-.9 2-2V5c0-1.1-.9-2-2-2zM9 17H7v-7h2v7zm4 0h-2V7h2v10zm4 0h-2v-4h2v4z\"/>\n",
              "    </g>\n",
              "</svg>\n",
              "  </button>\n",
              "\n",
              "<style>\n",
              "  .colab-df-quickchart {\n",
              "      --bg-color: #E8F0FE;\n",
              "      --fill-color: #1967D2;\n",
              "      --hover-bg-color: #E2EBFA;\n",
              "      --hover-fill-color: #174EA6;\n",
              "      --disabled-fill-color: #AAA;\n",
              "      --disabled-bg-color: #DDD;\n",
              "  }\n",
              "\n",
              "  [theme=dark] .colab-df-quickchart {\n",
              "      --bg-color: #3B4455;\n",
              "      --fill-color: #D2E3FC;\n",
              "      --hover-bg-color: #434B5C;\n",
              "      --hover-fill-color: #FFFFFF;\n",
              "      --disabled-bg-color: #3B4455;\n",
              "      --disabled-fill-color: #666;\n",
              "  }\n",
              "\n",
              "  .colab-df-quickchart {\n",
              "    background-color: var(--bg-color);\n",
              "    border: none;\n",
              "    border-radius: 50%;\n",
              "    cursor: pointer;\n",
              "    display: none;\n",
              "    fill: var(--fill-color);\n",
              "    height: 32px;\n",
              "    padding: 0;\n",
              "    width: 32px;\n",
              "  }\n",
              "\n",
              "  .colab-df-quickchart:hover {\n",
              "    background-color: var(--hover-bg-color);\n",
              "    box-shadow: 0 1px 2px rgba(60, 64, 67, 0.3), 0 1px 3px 1px rgba(60, 64, 67, 0.15);\n",
              "    fill: var(--button-hover-fill-color);\n",
              "  }\n",
              "\n",
              "  .colab-df-quickchart-complete:disabled,\n",
              "  .colab-df-quickchart-complete:disabled:hover {\n",
              "    background-color: var(--disabled-bg-color);\n",
              "    fill: var(--disabled-fill-color);\n",
              "    box-shadow: none;\n",
              "  }\n",
              "\n",
              "  .colab-df-spinner {\n",
              "    border: 2px solid var(--fill-color);\n",
              "    border-color: transparent;\n",
              "    border-bottom-color: var(--fill-color);\n",
              "    animation:\n",
              "      spin 1s steps(1) infinite;\n",
              "  }\n",
              "\n",
              "  @keyframes spin {\n",
              "    0% {\n",
              "      border-color: transparent;\n",
              "      border-bottom-color: var(--fill-color);\n",
              "      border-left-color: var(--fill-color);\n",
              "    }\n",
              "    20% {\n",
              "      border-color: transparent;\n",
              "      border-left-color: var(--fill-color);\n",
              "      border-top-color: var(--fill-color);\n",
              "    }\n",
              "    30% {\n",
              "      border-color: transparent;\n",
              "      border-left-color: var(--fill-color);\n",
              "      border-top-color: var(--fill-color);\n",
              "      border-right-color: var(--fill-color);\n",
              "    }\n",
              "    40% {\n",
              "      border-color: transparent;\n",
              "      border-right-color: var(--fill-color);\n",
              "      border-top-color: var(--fill-color);\n",
              "    }\n",
              "    60% {\n",
              "      border-color: transparent;\n",
              "      border-right-color: var(--fill-color);\n",
              "    }\n",
              "    80% {\n",
              "      border-color: transparent;\n",
              "      border-right-color: var(--fill-color);\n",
              "      border-bottom-color: var(--fill-color);\n",
              "    }\n",
              "    90% {\n",
              "      border-color: transparent;\n",
              "      border-bottom-color: var(--fill-color);\n",
              "    }\n",
              "  }\n",
              "</style>\n",
              "\n",
              "  <script>\n",
              "    async function quickchart(key) {\n",
              "      const quickchartButtonEl =\n",
              "        document.querySelector('#' + key + ' button');\n",
              "      quickchartButtonEl.disabled = true;  // To prevent multiple clicks.\n",
              "      quickchartButtonEl.classList.add('colab-df-spinner');\n",
              "      try {\n",
              "        const charts = await google.colab.kernel.invokeFunction(\n",
              "            'suggestCharts', [key], {});\n",
              "      } catch (error) {\n",
              "        console.error('Error during call to suggestCharts:', error);\n",
              "      }\n",
              "      quickchartButtonEl.classList.remove('colab-df-spinner');\n",
              "      quickchartButtonEl.classList.add('colab-df-quickchart-complete');\n",
              "    }\n",
              "    (() => {\n",
              "      let quickchartButtonEl =\n",
              "        document.querySelector('#df-f9c02e13-202e-493f-90bd-f5092ddd2484 button');\n",
              "      quickchartButtonEl.style.display =\n",
              "        google.colab.kernel.accessAllowed ? 'block' : 'none';\n",
              "    })();\n",
              "  </script>\n",
              "</div>\n",
              "    </div>\n",
              "  </div>\n"
            ],
            "text/plain": [
              "              Newfyear      FQuarter     NoOff\n",
              "Newfyear  1.000000e+00 -7.198652e-14  0.034814\n",
              "FQuarter -7.198652e-14  1.000000e+00 -0.001130\n",
              "NoOff     3.481397e-02 -1.130271e-03  1.000000"
            ]
          },
          "execution_count": 111,
          "metadata": {},
          "output_type": "execute_result"
        }
      ],
      "source": [
        "Criminaldataset.corr()"
      ]
    },
    {
      "cell_type": "code",
      "execution_count": null,
      "metadata": {
        "colab": {
          "background_save": true
        },
        "id": "EqGVGh7CWPcd",
        "outputId": "562b2c16-3dae-4a6e-abb8-39471a29be4e"
      },
      "outputs": [
        {
          "name": "stderr",
          "output_type": "stream",
          "text": [
            "<ipython-input-112-96f5902eb658>:2: FutureWarning: The default value of numeric_only in DataFrame.corr is deprecated. In a future version, it will default to False. Select only valid columns or specify the value of numeric_only to silence this warning.\n",
            "  correlation_matrix = Criminaldataset.corr()\n"
          ]
        }
      ],
      "source": [
        "# Assuming Criminaldataset is a PySpark DataFrame\n",
        "correlation_matrix = Criminaldataset.corr()"
      ]
    },
    {
      "cell_type": "code",
      "execution_count": null,
      "metadata": {
        "colab": {
          "background_save": true
        },
        "id": "slJm3uAp1KWd",
        "outputId": "66d3654e-efce-494d-abcf-045643c07ea1"
      },
      "outputs": [
        {
          "name": "stderr",
          "output_type": "stream",
          "text": [
            "<ipython-input-113-88bbf5737b02>:2: FutureWarning: The default value of numeric_only in DataFrame.corr is deprecated. In a future version, it will default to False. Select only valid columns or specify the value of numeric_only to silence this warning.\n",
            "  sns.heatmap(Criminaldataset.corr(), annot=True)\n"
          ]
        },
        {
          "data": {
            "image/png": "[encoded data removed]",
            "text/plain": [
              "<Figure size 800x400 with 2 Axes>"
            ]
          },
          "metadata": {},
          "output_type": "display_data"
        }
      ],
      "source": [
        "# Heatmap\n",
        "sns.heatmap(Criminaldataset.corr(), annot=True)\n",
        "plt.show()"
      ]
    },
    {
      "cell_type": "code",
      "execution_count": null,
      "metadata": {
        "colab": {
          "background_save": true
        },
        "id": "ngPtllRp3_7P",
        "outputId": "587879a0-c5b9-4e64-fd7a-a9127f2846d9"
      },
      "outputs": [
        {
          "data": {
            "image/png": "[encoded data removed]",
            "text/plain": [
              "<Figure size 750x750 with 12 Axes>"
            ]
          },
          "metadata": {},
          "output_type": "display_data"
        }
      ],
      "source": [
        "sns.pairplot(Criminaldataset)\n",
        "plt.show()"
      ]
    },
    {
      "cell_type": "markdown",
      "metadata": {
        "id": "gamgWTPchG8_"
      },
      "source": [
        "## Saving data"
      ]
    },
    {
      "cell_type": "code",
      "execution_count": null,
      "metadata": {
        "colab": {
          "background_save": true
        },
        "id": "uwqHNrevgzis"
      },
      "outputs": [],
      "source": [
        "path= 'newdata_dummy.csv'\n",
        "Criminaldataset.to_csv(path)"
      ]
    },
    {
      "cell_type": "markdown",
      "metadata": {
        "id": "mmsdqegBAm51"
      },
      "source": [
        "# Map Reducde"
      ]
    },
    {
      "cell_type": "code",
      "execution_count": null,
      "metadata": {
        "colab": {
          "background_save": true
        },
        "id": "QQ_v8_50egW1",
        "outputId": "5021ee15-ccdb-48aa-d278-7e1800f7e9c7"
      },
      "outputs": [
        {
          "data": {
            "text/plain": [
              "{'Derbyshire': 276484,\n",
              " 'Dorset': 180523,\n",
              " 'South Yorkshire': 504469,\n",
              " 'Northamptonshire': 220651,\n",
              " 'Warwickshire': 140836,\n",
              " 'West Midlands': 890863,\n",
              " 'Cambridgeshire': 234114,\n",
              " 'Gwent': 187229,\n",
              " 'North Yorkshire': 169231,\n",
              " 'British Transport Police': 206550,\n",
              " 'Cleveland': 247767,\n",
              " 'Hampshire': 579064,\n",
              " 'Financial Fraud Action UK': 88,\n",
              " 'North Wales': 204884,\n",
              " 'Wiltshire': 156140,\n",
              " 'Norfolk': 228456,\n",
              " 'Dyfed-Powys': 127590,\n",
              " 'CIFAS': 88,\n",
              " 'Bedfordshire': 182072,\n",
              " 'Hertfordshire': 271148,\n",
              " 'West Yorkshire': 776006,\n",
              " 'Avon and Somerset': 499802,\n",
              " 'Staffordshire': 297783,\n",
              " 'Essex': 504294,\n",
              " 'Devon and Cornwall': 363215,\n",
              " 'Kent': 518461,\n",
              " 'Thames Valley': 582801,\n",
              " 'Sussex': 434849,\n",
              " 'Cumbria': 126865,\n",
              " 'Lincolnshire': 184303,\n",
              " 'Surrey': 254904,\n",
              " 'Metropolitan Police': 1040598,\n",
              " 'Leicestershire': 326412,\n",
              " 'London, City of': 24449,\n",
              " 'Nottinghamshire': 349435,\n",
              " 'Durham': 192458,\n",
              " 'Greater Manchester': 911731,\n",
              " 'Cifas': 88,\n",
              " 'Action Fraud': 176,\n",
              " 'Humberside': 328599,\n",
              " 'Lancashire': 459226,\n",
              " 'West Mercia': 319113,\n",
              " 'South Wales': 390001,\n",
              " 'Gloucestershire': 164125,\n",
              " 'UK Finance': 88,\n",
              " 'Merseyside': 476180,\n",
              " 'Northumbria': 444857,\n",
              " 'Cheshire': 284339,\n",
              " 'Suffolk': 184832}"
            ]
          },
          "execution_count": 116,
          "metadata": {},
          "output_type": "execute_result"
        }
      ],
      "source": [
        "from functools import reduce\n",
        "\n",
        "\n",
        "# Map: Create a dictionary with ForceName as the key and NoOff as the value\n",
        "mapped_data = map(lambda x: {x[0]: x[1]}, \\\n",
        "                  zip(Criminaldataset['ForceName'], \\\n",
        "                      Criminaldataset['NoOff']))\n",
        "\n",
        "# Reduce: Sum the NoOff values for each ForceName\n",
        "reduced_data = reduce(lambda x,\n",
        "                      y: {k: x.get(k, 0) + y.get(k, 0) \\\n",
        "                      for k in set(x) | set(y)}, mapped_data)\n",
        "\n",
        "reduced_data"
      ]
    },
    {
      "cell_type": "markdown",
      "metadata": {
        "id": "WMGY2r9_h7MJ"
      },
      "source": [
        "# Machine Learning: Research Question 3: Predict no of offences"
      ]
    },
    {
      "cell_type": "code",
      "execution_count": null,
      "metadata": {
        "colab": {
          "background_save": true
        },
        "id": "LUSMUR_KiAXg"
      },
      "outputs": [],
      "source": [
        "from sklearn.model_selection import train_test_split\n",
        "from sklearn.linear_model import LinearRegression\n",
        "from sklearn.tree import DecisionTreeRegressor\n",
        "from sklearn.ensemble import RandomForestRegressor\n",
        "from sklearn.metrics import mean_squared_error\n",
        "from sklearn.preprocessing import LabelEncoder\n",
        "from sklearn.linear_model import LogisticRegression"
      ]
    },
    {
      "cell_type": "code",
      "execution_count": null,
      "metadata": {
        "colab": {
          "background_save": true
        },
        "id": "R9kgU3NJKtNB",
        "outputId": "891b16c9-4834-4ca2-8b99-908ebf6a5be7"
      },
      "outputs": [
        {
          "data": {
            "text/html": [
              "\n",
              "  <div id=\"df-6346bc43-eeb9-4001-912b-4645edc97b23\" class=\"colab-df-container\">\n",
              "    <div>\n",
              "<style scoped>\n",
              "    .dataframe tbody tr th:only-of-type {\n",
              "        vertical-align: middle;\n",
              "    }\n",
              "\n",
              "    .dataframe tbody tr th {\n",
              "        vertical-align: top;\n",
              "    }\n",
              "\n",
              "    .dataframe thead th {\n",
              "        text-align: right;\n",
              "    }\n",
              "</style>\n",
              "<table border=\"1\" class=\"dataframe\">\n",
              "  <thead>\n",
              "    <tr style=\"text-align: right;\">\n",
              "      <th></th>\n",
              "      <th>Newfyear</th>\n",
              "      <th>FQuarter</th>\n",
              "      <th>ForceName</th>\n",
              "      <th>OffDesc</th>\n",
              "      <th>OffGroup</th>\n",
              "      <th>OffSubgroup</th>\n",
              "      <th>OffCode</th>\n",
              "      <th>NoOff</th>\n",
              "      <th>newOffGroup</th>\n",
              "      <th>noSGroup</th>\n",
              "    </tr>\n",
              "  </thead>\n",
              "  <tbody>\n",
              "    <tr>\n",
              "      <th>0</th>\n",
              "      <td>2021</td>\n",
              "      <td>1</td>\n",
              "      <td>Kent</td>\n",
              "      <td>Sexual assault on a male aged 13 and over</td>\n",
              "      <td>Sexual offences</td>\n",
              "      <td>Other sexual offences</td>\n",
              "      <td>17A</td>\n",
              "      <td>81</td>\n",
              "      <td>Sexual offences</td>\n",
              "      <td>Other sexual offences</td>\n",
              "    </tr>\n",
              "    <tr>\n",
              "      <th>1</th>\n",
              "      <td>2021</td>\n",
              "      <td>1</td>\n",
              "      <td>Lancashire</td>\n",
              "      <td>Sexual assault on a male aged 13 and over</td>\n",
              "      <td>Sexual offences</td>\n",
              "      <td>Other sexual offences</td>\n",
              "      <td>17A</td>\n",
              "      <td>38</td>\n",
              "      <td>Sexual offences</td>\n",
              "      <td>Other sexual offences</td>\n",
              "    </tr>\n",
              "    <tr>\n",
              "      <th>2</th>\n",
              "      <td>2021</td>\n",
              "      <td>1</td>\n",
              "      <td>Leicestershire</td>\n",
              "      <td>Sexual assault on a male aged 13 and over</td>\n",
              "      <td>Sexual offences</td>\n",
              "      <td>Other sexual offences</td>\n",
              "      <td>17A</td>\n",
              "      <td>27</td>\n",
              "      <td>Sexual offences</td>\n",
              "      <td>Other sexual offences</td>\n",
              "    </tr>\n",
              "    <tr>\n",
              "      <th>3</th>\n",
              "      <td>2021</td>\n",
              "      <td>1</td>\n",
              "      <td>Lincolnshire</td>\n",
              "      <td>Sexual assault on a male aged 13 and over</td>\n",
              "      <td>Sexual offences</td>\n",
              "      <td>Other sexual offences</td>\n",
              "      <td>17A</td>\n",
              "      <td>11</td>\n",
              "      <td>Sexual offences</td>\n",
              "      <td>Other sexual offences</td>\n",
              "    </tr>\n",
              "    <tr>\n",
              "      <th>4</th>\n",
              "      <td>2021</td>\n",
              "      <td>1</td>\n",
              "      <td>London, City of</td>\n",
              "      <td>Sexual assault on a male aged 13 and over</td>\n",
              "      <td>Sexual offences</td>\n",
              "      <td>Other sexual offences</td>\n",
              "      <td>17A</td>\n",
              "      <td>1</td>\n",
              "      <td>Sexual offences</td>\n",
              "      <td>Other sexual offences</td>\n",
              "    </tr>\n",
              "  </tbody>\n",
              "</table>\n",
              "</div>\n",
              "    <div class=\"colab-df-buttons\">\n",
              "\n",
              "  <div class=\"colab-df-container\">\n",
              "    <button class=\"colab-df-convert\" onclick=\"convertToInteractive('df-6346bc43-eeb9-4001-912b-4645edc97b23')\"\n",
              "            title=\"Convert this dataframe to an interactive table.\"\n",
              "            style=\"display:none;\">\n",
              "\n",
              "  <svg xmlns=\"http://www.w3.org/2000/svg\" height=\"24px\" viewBox=\"0 -960 960 960\">\n",
              "    <path d=\"M120-120v-720h720v720H120Zm60-500h600v-160H180v160Zm220 220h160v-160H400v160Zm0 220h160v-160H400v160ZM180-400h160v-160H180v160Zm440 0h160v-160H620v160ZM180-180h160v-160H180v160Zm440 0h160v-160H620v160Z\"/>\n",
              "  </svg>\n",
              "    </button>\n",
              "\n",
              "  <style>\n",
              "    .colab-df-container {\n",
              "      display:flex;\n",
              "      gap: 12px;\n",
              "    }\n",
              "\n",
              "    .colab-df-convert {\n",
              "      background-color: #E8F0FE;\n",
              "      border: none;\n",
              "      border-radius: 50%;\n",
              "      cursor: pointer;\n",
              "      display: none;\n",
              "      fill: #1967D2;\n",
              "      height: 32px;\n",
              "      padding: 0 0 0 0;\n",
              "      width: 32px;\n",
              "    }\n",
              "\n",
              "    .colab-df-convert:hover {\n",
              "      background-color: #E2EBFA;\n",
              "      box-shadow: 0px 1px 2px rgba(60, 64, 67, 0.3), 0px 1px 3px 1px rgba(60, 64, 67, 0.15);\n",
              "      fill: #174EA6;\n",
              "    }\n",
              "\n",
              "    .colab-df-buttons div {\n",
              "      margin-bottom: 4px;\n",
              "    }\n",
              "\n",
              "    [theme=dark] .colab-df-convert {\n",
              "      background-color: #3B4455;\n",
              "      fill: #D2E3FC;\n",
              "    }\n",
              "\n",
              "    [theme=dark] .colab-df-convert:hover {\n",
              "      background-color: #434B5C;\n",
              "      box-shadow: 0px 1px 3px 1px rgba(0, 0, 0, 0.15);\n",
              "      filter: drop-shadow(0px 1px 2px rgba(0, 0, 0, 0.3));\n",
              "      fill: #FFFFFF;\n",
              "    }\n",
              "  </style>\n",
              "\n",
              "    <script>\n",
              "      const buttonEl =\n",
              "        document.querySelector('#df-6346bc43-eeb9-4001-912b-4645edc97b23 button.colab-df-convert');\n",
              "      buttonEl.style.display =\n",
              "        google.colab.kernel.accessAllowed ? 'block' : 'none';\n",
              "\n",
              "      async function convertToInteractive(key) {\n",
              "        const element = document.querySelector('#df-6346bc43-eeb9-4001-912b-4645edc97b23');\n",
              "        const dataTable =\n",
              "          await google.colab.kernel.invokeFunction('convertToInteractive',\n",
              "                                                    [key], {});\n",
              "        if (!dataTable) return;\n",
              "\n",
              "        const docLinkHtml = 'Like what you see? Visit the ' +\n",
              "          '<a target=\"_blank\" href=https://colab.research.google.com/notebooks/data_table.ipynb>data table notebook</a>'\n",
              "          + ' to learn more about interactive tables.';\n",
              "        element.innerHTML = '';\n",
              "        dataTable['output_type'] = 'display_data';\n",
              "        await google.colab.output.renderOutput(dataTable, element);\n",
              "        const docLink = document.createElement('div');\n",
              "        docLink.innerHTML = docLinkHtml;\n",
              "        element.appendChild(docLink);\n",
              "      }\n",
              "    </script>\n",
              "  </div>\n",
              "\n",
              "\n",
              "<div id=\"df-0ee94f22-c4ca-47e4-86ce-7f5e9b379826\">\n",
              "  <button class=\"colab-df-quickchart\" onclick=\"quickchart('df-0ee94f22-c4ca-47e4-86ce-7f5e9b379826')\"\n",
              "            title=\"Suggest charts\"\n",
              "            style=\"display:none;\">\n",
              "\n",
              "<svg xmlns=\"http://www.w3.org/2000/svg\" height=\"24px\"viewBox=\"0 0 24 24\"\n",
              "     width=\"24px\">\n",
              "    <g>\n",
              "        <path d=\"M19 3H5c-1.1 0-2 .9-2 2v14c0 1.1.9 2 2 2h14c1.1 0 2-.9 2-2V5c0-1.1-.9-2-2-2zM9 17H7v-7h2v7zm4 0h-2V7h2v10zm4 0h-2v-4h2v4z\"/>\n",
              "    </g>\n",
              "</svg>\n",
              "  </button>\n",
              "\n",
              "<style>\n",
              "  .colab-df-quickchart {\n",
              "      --bg-color: #E8F0FE;\n",
              "      --fill-color: #1967D2;\n",
              "      --hover-bg-color: #E2EBFA;\n",
              "      --hover-fill-color: #174EA6;\n",
              "      --disabled-fill-color: #AAA;\n",
              "      --disabled-bg-color: #DDD;\n",
              "  }\n",
              "\n",
              "  [theme=dark] .colab-df-quickchart {\n",
              "      --bg-color: #3B4455;\n",
              "      --fill-color: #D2E3FC;\n",
              "      --hover-bg-color: #434B5C;\n",
              "      --hover-fill-color: #FFFFFF;\n",
              "      --disabled-bg-color: #3B4455;\n",
              "      --disabled-fill-color: #666;\n",
              "  }\n",
              "\n",
              "  .colab-df-quickchart {\n",
              "    background-color: var(--bg-color);\n",
              "    border: none;\n",
              "    border-radius: 50%;\n",
              "    cursor: pointer;\n",
              "    display: none;\n",
              "    fill: var(--fill-color);\n",
              "    height: 32px;\n",
              "    padding: 0;\n",
              "    width: 32px;\n",
              "  }\n",
              "\n",
              "  .colab-df-quickchart:hover {\n",
              "    background-color: var(--hover-bg-color);\n",
              "    box-shadow: 0 1px 2px rgba(60, 64, 67, 0.3), 0 1px 3px 1px rgba(60, 64, 67, 0.15);\n",
              "    fill: var(--button-hover-fill-color);\n",
              "  }\n",
              "\n",
              "  .colab-df-quickchart-complete:disabled,\n",
              "  .colab-df-quickchart-complete:disabled:hover {\n",
              "    background-color: var(--disabled-bg-color);\n",
              "    fill: var(--disabled-fill-color);\n",
              "    box-shadow: none;\n",
              "  }\n",
              "\n",
              "  .colab-df-spinner {\n",
              "    border: 2px solid var(--fill-color);\n",
              "    border-color: transparent;\n",
              "    border-bottom-color: var(--fill-color);\n",
              "    animation:\n",
              "      spin 1s steps(1) infinite;\n",
              "  }\n",
              "\n",
              "  @keyframes spin {\n",
              "    0% {\n",
              "      border-color: transparent;\n",
              "      border-bottom-color: var(--fill-color);\n",
              "      border-left-color: var(--fill-color);\n",
              "    }\n",
              "    20% {\n",
              "      border-color: transparent;\n",
              "      border-left-color: var(--fill-color);\n",
              "      border-top-color: var(--fill-color);\n",
              "    }\n",
              "    30% {\n",
              "      border-color: transparent;\n",
              "      border-left-color: var(--fill-color);\n",
              "      border-top-color: var(--fill-color);\n",
              "      border-right-color: var(--fill-color);\n",
              "    }\n",
              "    40% {\n",
              "      border-color: transparent;\n",
              "      border-right-color: var(--fill-color);\n",
              "      border-top-color: var(--fill-color);\n",
              "    }\n",
              "    60% {\n",
              "      border-color: transparent;\n",
              "      border-right-color: var(--fill-color);\n",
              "    }\n",
              "    80% {\n",
              "      border-color: transparent;\n",
              "      border-right-color: var(--fill-color);\n",
              "      border-bottom-color: var(--fill-color);\n",
              "    }\n",
              "    90% {\n",
              "      border-color: transparent;\n",
              "      border-bottom-color: var(--fill-color);\n",
              "    }\n",
              "  }\n",
              "</style>\n",
              "\n",
              "  <script>\n",
              "    async function quickchart(key) {\n",
              "      const quickchartButtonEl =\n",
              "        document.querySelector('#' + key + ' button');\n",
              "      quickchartButtonEl.disabled = true;  // To prevent multiple clicks.\n",
              "      quickchartButtonEl.classList.add('colab-df-spinner');\n",
              "      try {\n",
              "        const charts = await google.colab.kernel.invokeFunction(\n",
              "            'suggestCharts', [key], {});\n",
              "      } catch (error) {\n",
              "        console.error('Error during call to suggestCharts:', error);\n",
              "      }\n",
              "      quickchartButtonEl.classList.remove('colab-df-spinner');\n",
              "      quickchartButtonEl.classList.add('colab-df-quickchart-complete');\n",
              "    }\n",
              "    (() => {\n",
              "      let quickchartButtonEl =\n",
              "        document.querySelector('#df-0ee94f22-c4ca-47e4-86ce-7f5e9b379826 button');\n",
              "      quickchartButtonEl.style.display =\n",
              "        google.colab.kernel.accessAllowed ? 'block' : 'none';\n",
              "    })();\n",
              "  </script>\n",
              "</div>\n",
              "    </div>\n",
              "  </div>\n"
            ],
            "text/plain": [
              "   Newfyear  FQuarter        ForceName  \\\n",
              "0      2021         1             Kent   \n",
              "1      2021         1       Lancashire   \n",
              "2      2021         1   Leicestershire   \n",
              "3      2021         1     Lincolnshire   \n",
              "4      2021         1  London, City of   \n",
              "\n",
              "                                     OffDesc         OffGroup  \\\n",
              "0  Sexual assault on a male aged 13 and over  Sexual offences   \n",
              "1  Sexual assault on a male aged 13 and over  Sexual offences   \n",
              "2  Sexual assault on a male aged 13 and over  Sexual offences   \n",
              "3  Sexual assault on a male aged 13 and over  Sexual offences   \n",
              "4  Sexual assault on a male aged 13 and over  Sexual offences   \n",
              "\n",
              "             OffSubgroup OffCode  NoOff      newOffGroup  \\\n",
              "0  Other sexual offences     17A     81  Sexual offences   \n",
              "1  Other sexual offences     17A     38  Sexual offences   \n",
              "2  Other sexual offences     17A     27  Sexual offences   \n",
              "3  Other sexual offences     17A     11  Sexual offences   \n",
              "4  Other sexual offences     17A      1  Sexual offences   \n",
              "\n",
              "                noSGroup  \n",
              "0  Other sexual offences  \n",
              "1  Other sexual offences  \n",
              "2  Other sexual offences  \n",
              "3  Other sexual offences  \n",
              "4  Other sexual offences  "
            ]
          },
          "execution_count": 118,
          "metadata": {},
          "output_type": "execute_result"
        }
      ],
      "source": [
        "Criminaldataset.head(5)"
      ]
    },
    {
      "cell_type": "markdown",
      "metadata": {
        "id": "Oo4zBNn7Jq5H"
      },
      "source": [
        "## Extract the columns needed"
      ]
    },
    {
      "cell_type": "code",
      "execution_count": null,
      "metadata": {
        "colab": {
          "background_save": true
        },
        "id": "wPXJbW71xDwt"
      },
      "outputs": [],
      "source": [
        "Criminaldataset = Criminaldataset.loc[:,['Newfyear', 'FQuarter', 'ForceName', 'OffCode', 'NoOff']]"
      ]
    },
    {
      "cell_type": "markdown",
      "metadata": {
        "id": "gLiVapccKKJ9"
      },
      "source": [
        "## Encode the columns"
      ]
    },
    {
      "cell_type": "code",
      "execution_count": null,
      "metadata": {
        "colab": {
          "background_save": true
        },
        "id": "avOMiWWkKM0Q",
        "outputId": "3d107ec5-c139-4d20-fc00-80c7db3573ab"
      },
      "outputs": [
        {
          "data": {
            "text/html": [
              "\n",
              "  <div id=\"df-cc01b9de-7b72-4856-a9df-bcd3c5aa117c\" class=\"colab-df-container\">\n",
              "    <div>\n",
              "<style scoped>\n",
              "    .dataframe tbody tr th:only-of-type {\n",
              "        vertical-align: middle;\n",
              "    }\n",
              "\n",
              "    .dataframe tbody tr th {\n",
              "        vertical-align: top;\n",
              "    }\n",
              "\n",
              "    .dataframe thead th {\n",
              "        text-align: right;\n",
              "    }\n",
              "</style>\n",
              "<table border=\"1\" class=\"dataframe\">\n",
              "  <thead>\n",
              "    <tr style=\"text-align: right;\">\n",
              "      <th></th>\n",
              "      <th>Newfyear</th>\n",
              "      <th>FQuarter</th>\n",
              "      <th>ForceName</th>\n",
              "      <th>OffCode</th>\n",
              "      <th>NoOff</th>\n",
              "    </tr>\n",
              "  </thead>\n",
              "  <tbody>\n",
              "    <tr>\n",
              "      <th>0</th>\n",
              "      <td>2021</td>\n",
              "      <td>1</td>\n",
              "      <td>23</td>\n",
              "      <td>14</td>\n",
              "      <td>81</td>\n",
              "    </tr>\n",
              "    <tr>\n",
              "      <th>1</th>\n",
              "      <td>2021</td>\n",
              "      <td>1</td>\n",
              "      <td>24</td>\n",
              "      <td>14</td>\n",
              "      <td>38</td>\n",
              "    </tr>\n",
              "    <tr>\n",
              "      <th>2</th>\n",
              "      <td>2021</td>\n",
              "      <td>1</td>\n",
              "      <td>25</td>\n",
              "      <td>14</td>\n",
              "      <td>27</td>\n",
              "    </tr>\n",
              "    <tr>\n",
              "      <th>3</th>\n",
              "      <td>2021</td>\n",
              "      <td>1</td>\n",
              "      <td>26</td>\n",
              "      <td>14</td>\n",
              "      <td>11</td>\n",
              "    </tr>\n",
              "    <tr>\n",
              "      <th>4</th>\n",
              "      <td>2021</td>\n",
              "      <td>1</td>\n",
              "      <td>27</td>\n",
              "      <td>14</td>\n",
              "      <td>1</td>\n",
              "    </tr>\n",
              "  </tbody>\n",
              "</table>\n",
              "</div>\n",
              "    <div class=\"colab-df-buttons\">\n",
              "\n",
              "  <div class=\"colab-df-container\">\n",
              "    <button class=\"colab-df-convert\" onclick=\"convertToInteractive('df-cc01b9de-7b72-4856-a9df-bcd3c5aa117c')\"\n",
              "            title=\"Convert this dataframe to an interactive table.\"\n",
              "            style=\"display:none;\">\n",
              "\n",
              "  <svg xmlns=\"http://www.w3.org/2000/svg\" height=\"24px\" viewBox=\"0 -960 960 960\">\n",
              "    <path d=\"M120-120v-720h720v720H120Zm60-500h600v-160H180v160Zm220 220h160v-160H400v160Zm0 220h160v-160H400v160ZM180-400h160v-160H180v160Zm440 0h160v-160H620v160ZM180-180h160v-160H180v160Zm440 0h160v-160H620v160Z\"/>\n",
              "  </svg>\n",
              "    </button>\n",
              "\n",
              "  <style>\n",
              "    .colab-df-container {\n",
              "      display:flex;\n",
              "      gap: 12px;\n",
              "    }\n",
              "\n",
              "    .colab-df-convert {\n",
              "      background-color: #E8F0FE;\n",
              "      border: none;\n",
              "      border-radius: 50%;\n",
              "      cursor: pointer;\n",
              "      display: none;\n",
              "      fill: #1967D2;\n",
              "      height: 32px;\n",
              "      padding: 0 0 0 0;\n",
              "      width: 32px;\n",
              "    }\n",
              "\n",
              "    .colab-df-convert:hover {\n",
              "      background-color: #E2EBFA;\n",
              "      box-shadow: 0px 1px 2px rgba(60, 64, 67, 0.3), 0px 1px 3px 1px rgba(60, 64, 67, 0.15);\n",
              "      fill: #174EA6;\n",
              "    }\n",
              "\n",
              "    .colab-df-buttons div {\n",
              "      margin-bottom: 4px;\n",
              "    }\n",
              "\n",
              "    [theme=dark] .colab-df-convert {\n",
              "      background-color: #3B4455;\n",
              "      fill: #D2E3FC;\n",
              "    }\n",
              "\n",
              "    [theme=dark] .colab-df-convert:hover {\n",
              "      background-color: #434B5C;\n",
              "      box-shadow: 0px 1px 3px 1px rgba(0, 0, 0, 0.15);\n",
              "      filter: drop-shadow(0px 1px 2px rgba(0, 0, 0, 0.3));\n",
              "      fill: #FFFFFF;\n",
              "    }\n",
              "  </style>\n",
              "\n",
              "    <script>\n",
              "      const buttonEl =\n",
              "        document.querySelector('#df-cc01b9de-7b72-4856-a9df-bcd3c5aa117c button.colab-df-convert');\n",
              "      buttonEl.style.display =\n",
              "        google.colab.kernel.accessAllowed ? 'block' : 'none';\n",
              "\n",
              "      async function convertToInteractive(key) {\n",
              "        const element = document.querySelector('#df-cc01b9de-7b72-4856-a9df-bcd3c5aa117c');\n",
              "        const dataTable =\n",
              "          await google.colab.kernel.invokeFunction('convertToInteractive',\n",
              "                                                    [key], {});\n",
              "        if (!dataTable) return;\n",
              "\n",
              "        const docLinkHtml = 'Like what you see? Visit the ' +\n",
              "          '<a target=\"_blank\" href=https://colab.research.google.com/notebooks/data_table.ipynb>data table notebook</a>'\n",
              "          + ' to learn more about interactive tables.';\n",
              "        element.innerHTML = '';\n",
              "        dataTable['output_type'] = 'display_data';\n",
              "        await google.colab.output.renderOutput(dataTable, element);\n",
              "        const docLink = document.createElement('div');\n",
              "        docLink.innerHTML = docLinkHtml;\n",
              "        element.appendChild(docLink);\n",
              "      }\n",
              "    </script>\n",
              "  </div>\n",
              "\n",
              "\n",
              "<div id=\"df-899771a1-09dc-4e56-9c9b-69a70d5bedf5\">\n",
              "  <button class=\"colab-df-quickchart\" onclick=\"quickchart('df-899771a1-09dc-4e56-9c9b-69a70d5bedf5')\"\n",
              "            title=\"Suggest charts\"\n",
              "            style=\"display:none;\">\n",
              "\n",
              "<svg xmlns=\"http://www.w3.org/2000/svg\" height=\"24px\"viewBox=\"0 0 24 24\"\n",
              "     width=\"24px\">\n",
              "    <g>\n",
              "        <path d=\"M19 3H5c-1.1 0-2 .9-2 2v14c0 1.1.9 2 2 2h14c1.1 0 2-.9 2-2V5c0-1.1-.9-2-2-2zM9 17H7v-7h2v7zm4 0h-2V7h2v10zm4 0h-2v-4h2v4z\"/>\n",
              "    </g>\n",
              "</svg>\n",
              "  </button>\n",
              "\n",
              "<style>\n",
              "  .colab-df-quickchart {\n",
              "      --bg-color: #E8F0FE;\n",
              "      --fill-color: #1967D2;\n",
              "      --hover-bg-color: #E2EBFA;\n",
              "      --hover-fill-color: #174EA6;\n",
              "      --disabled-fill-color: #AAA;\n",
              "      --disabled-bg-color: #DDD;\n",
              "  }\n",
              "\n",
              "  [theme=dark] .colab-df-quickchart {\n",
              "      --bg-color: #3B4455;\n",
              "      --fill-color: #D2E3FC;\n",
              "      --hover-bg-color: #434B5C;\n",
              "      --hover-fill-color: #FFFFFF;\n",
              "      --disabled-bg-color: #3B4455;\n",
              "      --disabled-fill-color: #666;\n",
              "  }\n",
              "\n",
              "  .colab-df-quickchart {\n",
              "    background-color: var(--bg-color);\n",
              "    border: none;\n",
              "    border-radius: 50%;\n",
              "    cursor: pointer;\n",
              "    display: none;\n",
              "    fill: var(--fill-color);\n",
              "    height: 32px;\n",
              "    padding: 0;\n",
              "    width: 32px;\n",
              "  }\n",
              "\n",
              "  .colab-df-quickchart:hover {\n",
              "    background-color: var(--hover-bg-color);\n",
              "    box-shadow: 0 1px 2px rgba(60, 64, 67, 0.3), 0 1px 3px 1px rgba(60, 64, 67, 0.15);\n",
              "    fill: var(--button-hover-fill-color);\n",
              "  }\n",
              "\n",
              "  .colab-df-quickchart-complete:disabled,\n",
              "  .colab-df-quickchart-complete:disabled:hover {\n",
              "    background-color: var(--disabled-bg-color);\n",
              "    fill: var(--disabled-fill-color);\n",
              "    box-shadow: none;\n",
              "  }\n",
              "\n",
              "  .colab-df-spinner {\n",
              "    border: 2px solid var(--fill-color);\n",
              "    border-color: transparent;\n",
              "    border-bottom-color: var(--fill-color);\n",
              "    animation:\n",
              "      spin 1s steps(1) infinite;\n",
              "  }\n",
              "\n",
              "  @keyframes spin {\n",
              "    0% {\n",
              "      border-color: transparent;\n",
              "      border-bottom-color: var(--fill-color);\n",
              "      border-left-color: var(--fill-color);\n",
              "    }\n",
              "    20% {\n",
              "      border-color: transparent;\n",
              "      border-left-color: var(--fill-color);\n",
              "      border-top-color: var(--fill-color);\n",
              "    }\n",
              "    30% {\n",
              "      border-color: transparent;\n",
              "      border-left-color: var(--fill-color);\n",
              "      border-top-color: var(--fill-color);\n",
              "      border-right-color: var(--fill-color);\n",
              "    }\n",
              "    40% {\n",
              "      border-color: transparent;\n",
              "      border-right-color: var(--fill-color);\n",
              "      border-top-color: var(--fill-color);\n",
              "    }\n",
              "    60% {\n",
              "      border-color: transparent;\n",
              "      border-right-color: var(--fill-color);\n",
              "    }\n",
              "    80% {\n",
              "      border-color: transparent;\n",
              "      border-right-color: var(--fill-color);\n",
              "      border-bottom-color: var(--fill-color);\n",
              "    }\n",
              "    90% {\n",
              "      border-color: transparent;\n",
              "      border-bottom-color: var(--fill-color);\n",
              "    }\n",
              "  }\n",
              "</style>\n",
              "\n",
              "  <script>\n",
              "    async function quickchart(key) {\n",
              "      const quickchartButtonEl =\n",
              "        document.querySelector('#' + key + ' button');\n",
              "      quickchartButtonEl.disabled = true;  // To prevent multiple clicks.\n",
              "      quickchartButtonEl.classList.add('colab-df-spinner');\n",
              "      try {\n",
              "        const charts = await google.colab.kernel.invokeFunction(\n",
              "            'suggestCharts', [key], {});\n",
              "      } catch (error) {\n",
              "        console.error('Error during call to suggestCharts:', error);\n",
              "      }\n",
              "      quickchartButtonEl.classList.remove('colab-df-spinner');\n",
              "      quickchartButtonEl.classList.add('colab-df-quickchart-complete');\n",
              "    }\n",
              "    (() => {\n",
              "      let quickchartButtonEl =\n",
              "        document.querySelector('#df-899771a1-09dc-4e56-9c9b-69a70d5bedf5 button');\n",
              "      quickchartButtonEl.style.display =\n",
              "        google.colab.kernel.accessAllowed ? 'block' : 'none';\n",
              "    })();\n",
              "  </script>\n",
              "</div>\n",
              "    </div>\n",
              "  </div>\n"
            ],
            "text/plain": [
              "   Newfyear  FQuarter  ForceName  OffCode  NoOff\n",
              "0      2021         1         23       14     81\n",
              "1      2021         1         24       14     38\n",
              "2      2021         1         25       14     27\n",
              "3      2021         1         26       14     11\n",
              "4      2021         1         27       14      1"
            ]
          },
          "execution_count": 120,
          "metadata": {},
          "output_type": "execute_result"
        }
      ],
      "source": [
        "# Label encode categorical features\n",
        "label_encoder = LabelEncoder()\n",
        "categorical_columns = ['ForceName', 'OffCode']\n",
        "for column in categorical_columns:\n",
        "    Criminaldataset[column] = label_encoder.fit_transform(Criminaldataset[column])\n",
        "    #[column] = label_encoder.transform(test_data[column])\n",
        "\n",
        "Criminaldataset.head(5)"
      ]
    },
    {
      "cell_type": "markdown",
      "metadata": {
        "id": "0rI5NOm-rNtr"
      },
      "source": [
        "## Splitting dataset"
      ]
    },
    {
      "cell_type": "code",
      "execution_count": null,
      "metadata": {
        "colab": {
          "background_save": true
        },
        "id": "FY8rrXXprRuF"
      },
      "outputs": [],
      "source": [
        "# Split the dataset into train and test sets (70/30)\n",
        "train_data, test_data = train_test_split(Criminaldataset, test_size=0.3, random_state=42)"
      ]
    },
    {
      "cell_type": "markdown",
      "metadata": {
        "id": "GDTd44EqJUmH"
      },
      "source": [
        "## Seperate feature from Target"
      ]
    },
    {
      "cell_type": "code",
      "execution_count": null,
      "metadata": {
        "colab": {
          "background_save": true
        },
        "id": "J61jibKmJYxI"
      },
      "outputs": [],
      "source": [
        "x = ['Newfyear', 'FQuarter', 'ForceName', 'OffCode'] #feature\n",
        "y = ['NoOff'] #target"
      ]
    },
    {
      "cell_type": "markdown",
      "metadata": {
        "id": "kaWEABsUKuND"
      },
      "source": [
        "## Highlight train and test data for x and y"
      ]
    },
    {
      "cell_type": "code",
      "execution_count": null,
      "metadata": {
        "colab": {
          "background_save": true
        },
        "id": "EjVbjXmUKy6Y"
      },
      "outputs": [],
      "source": [
        "X_train = train_data[x]\n",
        "X_test = test_data[x]\n",
        "y_train = train_data[y]\n",
        "y_test = test_data[y]"
      ]
    },
    {
      "cell_type": "markdown",
      "metadata": {
        "id": "l98gjHrRK7By"
      },
      "source": [
        "## Initiate Regression Models to use"
      ]
    },
    {
      "cell_type": "code",
      "execution_count": null,
      "metadata": {
        "colab": {
          "background_save": true
        },
        "id": "vKzqw2iOK_yD"
      },
      "outputs": [],
      "source": [
        "# Initialize regression models\n",
        "linear_reg = LinearRegression()\n",
        "decision_tree_reg = DecisionTreeRegressor()\n",
        "random_forest_reg = RandomForestRegressor()"
      ]
    },
    {
      "cell_type": "markdown",
      "metadata": {
        "id": "HvKBy0MKLCkj"
      },
      "source": [
        "### Linear Regression"
      ]
    },
    {
      "cell_type": "code",
      "execution_count": null,
      "metadata": {
        "colab": {
          "background_save": true
        },
        "id": "GOsCVYdiLE_b",
        "outputId": "198f5fcc-c2a9-4019-af7e-c43ccc731af2"
      },
      "outputs": [
        {
          "data": {
            "text/html": [
              "<style>#sk-container-id-1 {color: black;background-color: white;}#sk-container-id-1 pre{padding: 0;}#sk-container-id-1 div.sk-toggleable {background-color: white;}#sk-container-id-1 label.sk-toggleable__label {cursor: pointer;display: block;width: 100%;margin-bottom: 0;padding: 0.3em;box-sizing: border-box;text-align: center;}#sk-container-id-1 label.sk-toggleable__label-arrow:before {content: \"▸\";float: left;margin-right: 0.25em;color: #696969;}#sk-container-id-1 label.sk-toggleable__label-arrow:hover:before {color: black;}#sk-container-id-1 div.sk-estimator:hover label.sk-toggleable__label-arrow:before {color: black;}#sk-container-id-1 div.sk-toggleable__content {max-height: 0;max-width: 0;overflow: hidden;text-align: left;background-color: #f0f8ff;}#sk-container-id-1 div.sk-toggleable__content pre {margin: 0.2em;color: black;border-radius: 0.25em;background-color: #f0f8ff;}#sk-container-id-1 input.sk-toggleable__control:checked~div.sk-toggleable__content {max-height: 200px;max-width: 100%;overflow: auto;}#sk-container-id-1 input.sk-toggleable__control:checked~label.sk-toggleable__label-arrow:before {content: \"▾\";}#sk-container-id-1 div.sk-estimator input.sk-toggleable__control:checked~label.sk-toggleable__label {background-color: #d4ebff;}#sk-container-id-1 div.sk-label input.sk-toggleable__control:checked~label.sk-toggleable__label {background-color: #d4ebff;}#sk-container-id-1 input.sk-hidden--visually {border: 0;clip: rect(1px 1px 1px 1px);clip: rect(1px, 1px, 1px, 1px);height: 1px;margin: -1px;overflow: hidden;padding: 0;position: absolute;width: 1px;}#sk-container-id-1 div.sk-estimator {font-family: monospace;background-color: #f0f8ff;border: 1px dotted black;border-radius: 0.25em;box-sizing: border-box;margin-bottom: 0.5em;}#sk-container-id-1 div.sk-estimator:hover {background-color: #d4ebff;}#sk-container-id-1 div.sk-parallel-item::after {content: \"\";width: 100%;border-bottom: 1px solid gray;flex-grow: 1;}#sk-container-id-1 div.sk-label:hover label.sk-toggleable__label {background-color: #d4ebff;}#sk-container-id-1 div.sk-serial::before {content: \"\";position: absolute;border-left: 1px solid gray;box-sizing: border-box;top: 0;bottom: 0;left: 50%;z-index: 0;}#sk-container-id-1 div.sk-serial {display: flex;flex-direction: column;align-items: center;background-color: white;padding-right: 0.2em;padding-left: 0.2em;position: relative;}#sk-container-id-1 div.sk-item {position: relative;z-index: 1;}#sk-container-id-1 div.sk-parallel {display: flex;align-items: stretch;justify-content: center;background-color: white;position: relative;}#sk-container-id-1 div.sk-item::before, #sk-container-id-1 div.sk-parallel-item::before {content: \"\";position: absolute;border-left: 1px solid gray;box-sizing: border-box;top: 0;bottom: 0;left: 50%;z-index: -1;}#sk-container-id-1 div.sk-parallel-item {display: flex;flex-direction: column;z-index: 1;position: relative;background-color: white;}#sk-container-id-1 div.sk-parallel-item:first-child::after {align-self: flex-end;width: 50%;}#sk-container-id-1 div.sk-parallel-item:last-child::after {align-self: flex-start;width: 50%;}#sk-container-id-1 div.sk-parallel-item:only-child::after {width: 0;}#sk-container-id-1 div.sk-dashed-wrapped {border: 1px dashed gray;margin: 0 0.4em 0.5em 0.4em;box-sizing: border-box;padding-bottom: 0.4em;background-color: white;}#sk-container-id-1 div.sk-label label {font-family: monospace;font-weight: bold;display: inline-block;line-height: 1.2em;}#sk-container-id-1 div.sk-label-container {text-align: center;}#sk-container-id-1 div.sk-container {/* jupyter's `normalize.less` sets `[hidden] { display: none; }` but bootstrap.min.css set `[hidden] { display: none !important; }` so we also need the `!important` here to be able to override the default hidden behavior on the sphinx rendered scikit-learn.org. See: https://github.com/scikit-learn/scikit-learn/issues/21755 */display: inline-block !important;position: relative;}#sk-container-id-1 div.sk-text-repr-fallback {display: none;}</style><div id=\"sk-container-id-1\" class=\"sk-top-container\"><div class=\"sk-text-repr-fallback\"><pre>LinearRegression()</pre><b>In a Jupyter environment, please rerun this cell to show the HTML representation or trust the notebook. <br />On GitHub, the HTML representation is unable to render, please try loading this page with nbviewer.org.</b></div><div class=\"sk-container\" hidden><div class=\"sk-item\"><div class=\"sk-estimator sk-toggleable\"><input class=\"sk-toggleable__control sk-hidden--visually\" id=\"sk-estimator-id-1\" type=\"checkbox\" checked><label for=\"sk-estimator-id-1\" class=\"sk-toggleable__label sk-toggleable__label-arrow\">LinearRegression</label><div class=\"sk-toggleable__content\"><pre>LinearRegression()</pre></div></div></div></div></div>"
            ],
            "text/plain": [
              "LinearRegression()"
            ]
          },
          "execution_count": 125,
          "metadata": {},
          "output_type": "execute_result"
        }
      ],
      "source": [
        "# Fit the models on the training data\n",
        "linear_reg.fit(X_train, y_train)"
      ]
    },
    {
      "cell_type": "code",
      "execution_count": null,
      "metadata": {
        "colab": {
          "background_save": true
        },
        "id": "hOb_zvYuLSro",
        "outputId": "d1b49f1d-c519-4960-f47b-229ba156a352"
      },
      "outputs": [
        {
          "data": {
            "text/plain": [
              "array([[126.12620624],\n",
              "       [ 99.57067575],\n",
              "       [ 30.23535421],\n",
              "       ...,\n",
              "       [281.43699553],\n",
              "       [175.7982275 ],\n",
              "       [218.19074205]])"
            ]
          },
          "execution_count": 126,
          "metadata": {},
          "output_type": "execute_result"
        }
      ],
      "source": [
        "# Make predictions on the test set\n",
        "y_pred_linear = linear_reg.predict(X_test)\n",
        "y_pred_linear"
      ]
    },
    {
      "cell_type": "markdown",
      "metadata": {
        "id": "algUKkLoLXRP"
      },
      "source": [
        "### Decision Tree"
      ]
    },
    {
      "cell_type": "code",
      "execution_count": null,
      "metadata": {
        "colab": {
          "background_save": true
        },
        "id": "6hBRfNlPLaBK",
        "outputId": "705f05af-988d-4850-d6e1-fcc12c95cf49"
      },
      "outputs": [
        {
          "data": {
            "text/html": [
              "<style>#sk-container-id-2 {color: black;background-color: white;}#sk-container-id-2 pre{padding: 0;}#sk-container-id-2 div.sk-toggleable {background-color: white;}#sk-container-id-2 label.sk-toggleable__label {cursor: pointer;display: block;width: 100%;margin-bottom: 0;padding: 0.3em;box-sizing: border-box;text-align: center;}#sk-container-id-2 label.sk-toggleable__label-arrow:before {content: \"▸\";float: left;margin-right: 0.25em;color: #696969;}#sk-container-id-2 label.sk-toggleable__label-arrow:hover:before {color: black;}#sk-container-id-2 div.sk-estimator:hover label.sk-toggleable__label-arrow:before {color: black;}#sk-container-id-2 div.sk-toggleable__content {max-height: 0;max-width: 0;overflow: hidden;text-align: left;background-color: #f0f8ff;}#sk-container-id-2 div.sk-toggleable__content pre {margin: 0.2em;color: black;border-radius: 0.25em;background-color: #f0f8ff;}#sk-container-id-2 input.sk-toggleable__control:checked~div.sk-toggleable__content {max-height: 200px;max-width: 100%;overflow: auto;}#sk-container-id-2 input.sk-toggleable__control:checked~label.sk-toggleable__label-arrow:before {content: \"▾\";}#sk-container-id-2 div.sk-estimator input.sk-toggleable__control:checked~label.sk-toggleable__label {background-color: #d4ebff;}#sk-container-id-2 div.sk-label input.sk-toggleable__control:checked~label.sk-toggleable__label {background-color: #d4ebff;}#sk-container-id-2 input.sk-hidden--visually {border: 0;clip: rect(1px 1px 1px 1px);clip: rect(1px, 1px, 1px, 1px);height: 1px;margin: -1px;overflow: hidden;padding: 0;position: absolute;width: 1px;}#sk-container-id-2 div.sk-estimator {font-family: monospace;background-color: #f0f8ff;border: 1px dotted black;border-radius: 0.25em;box-sizing: border-box;margin-bottom: 0.5em;}#sk-container-id-2 div.sk-estimator:hover {background-color: #d4ebff;}#sk-container-id-2 div.sk-parallel-item::after {content: \"\";width: 100%;border-bottom: 1px solid gray;flex-grow: 1;}#sk-container-id-2 div.sk-label:hover label.sk-toggleable__label {background-color: #d4ebff;}#sk-container-id-2 div.sk-serial::before {content: \"\";position: absolute;border-left: 1px solid gray;box-sizing: border-box;top: 0;bottom: 0;left: 50%;z-index: 0;}#sk-container-id-2 div.sk-serial {display: flex;flex-direction: column;align-items: center;background-color: white;padding-right: 0.2em;padding-left: 0.2em;position: relative;}#sk-container-id-2 div.sk-item {position: relative;z-index: 1;}#sk-container-id-2 div.sk-parallel {display: flex;align-items: stretch;justify-content: center;background-color: white;position: relative;}#sk-container-id-2 div.sk-item::before, #sk-container-id-2 div.sk-parallel-item::before {content: \"\";position: absolute;border-left: 1px solid gray;box-sizing: border-box;top: 0;bottom: 0;left: 50%;z-index: -1;}#sk-container-id-2 div.sk-parallel-item {display: flex;flex-direction: column;z-index: 1;position: relative;background-color: white;}#sk-container-id-2 div.sk-parallel-item:first-child::after {align-self: flex-end;width: 50%;}#sk-container-id-2 div.sk-parallel-item:last-child::after {align-self: flex-start;width: 50%;}#sk-container-id-2 div.sk-parallel-item:only-child::after {width: 0;}#sk-container-id-2 div.sk-dashed-wrapped {border: 1px dashed gray;margin: 0 0.4em 0.5em 0.4em;box-sizing: border-box;padding-bottom: 0.4em;background-color: white;}#sk-container-id-2 div.sk-label label {font-family: monospace;font-weight: bold;display: inline-block;line-height: 1.2em;}#sk-container-id-2 div.sk-label-container {text-align: center;}#sk-container-id-2 div.sk-container {/* jupyter's `normalize.less` sets `[hidden] { display: none; }` but bootstrap.min.css set `[hidden] { display: none !important; }` so we also need the `!important` here to be able to override the default hidden behavior on the sphinx rendered scikit-learn.org. See: https://github.com/scikit-learn/scikit-learn/issues/21755 */display: inline-block !important;position: relative;}#sk-container-id-2 div.sk-text-repr-fallback {display: none;}</style><div id=\"sk-container-id-2\" class=\"sk-top-container\"><div class=\"sk-text-repr-fallback\"><pre>DecisionTreeRegressor()</pre><b>In a Jupyter environment, please rerun this cell to show the HTML representation or trust the notebook. <br />On GitHub, the HTML representation is unable to render, please try loading this page with nbviewer.org.</b></div><div class=\"sk-container\" hidden><div class=\"sk-item\"><div class=\"sk-estimator sk-toggleable\"><input class=\"sk-toggleable__control sk-hidden--visually\" id=\"sk-estimator-id-2\" type=\"checkbox\" checked><label for=\"sk-estimator-id-2\" class=\"sk-toggleable__label sk-toggleable__label-arrow\">DecisionTreeRegressor</label><div class=\"sk-toggleable__content\"><pre>DecisionTreeRegressor()</pre></div></div></div></div></div>"
            ],
            "text/plain": [
              "DecisionTreeRegressor()"
            ]
          },
          "execution_count": 127,
          "metadata": {},
          "output_type": "execute_result"
        }
      ],
      "source": [
        "#fit the model on the training data\n",
        "decision_tree_reg.fit(X_train, y_train)"
      ]
    },
    {
      "cell_type": "code",
      "execution_count": null,
      "metadata": {
        "colab": {
          "background_save": true
        },
        "id": "XWT2ZberLh-H",
        "outputId": "0d061f71-63e0-43ae-eac9-5d0afdc0a63c"
      },
      "outputs": [
        {
          "data": {
            "text/plain": [
              "array([39.,  4.,  0., ...,  6.,  1., 33.])"
            ]
          },
          "execution_count": 128,
          "metadata": {},
          "output_type": "execute_result"
        }
      ],
      "source": [
        "#make predictions on the test data\n",
        "y_pred_tree = decision_tree_reg.predict(X_test)\n",
        "y_pred_tree"
      ]
    },
    {
      "cell_type": "markdown",
      "metadata": {
        "id": "sIipWXqLLlQh"
      },
      "source": [
        "### Random Forest"
      ]
    },
    {
      "cell_type": "code",
      "execution_count": null,
      "metadata": {
        "colab": {
          "background_save": true
        },
        "id": "aimGSuWqLncl",
        "outputId": "ba030137-dfe1-46c4-902f-2dc909cb00ae"
      },
      "outputs": [
        {
          "name": "stderr",
          "output_type": "stream",
          "text": [
            "<ipython-input-129-11a09ce52c08>:2: DataConversionWarning: A column-vector y was passed when a 1d array was expected. Please change the shape of y to (n_samples,), for example using ravel().\n",
            "  random_forest_reg.fit(X_train, y_train)\n"
          ]
        },
        {
          "data": {
            "text/html": [
              "<style>#sk-container-id-3 {color: black;background-color: white;}#sk-container-id-3 pre{padding: 0;}#sk-container-id-3 div.sk-toggleable {background-color: white;}#sk-container-id-3 label.sk-toggleable__label {cursor: pointer;display: block;width: 100%;margin-bottom: 0;padding: 0.3em;box-sizing: border-box;text-align: center;}#sk-container-id-3 label.sk-toggleable__label-arrow:before {content: \"▸\";float: left;margin-right: 0.25em;color: #696969;}#sk-container-id-3 label.sk-toggleable__label-arrow:hover:before {color: black;}#sk-container-id-3 div.sk-estimator:hover label.sk-toggleable__label-arrow:before {color: black;}#sk-container-id-3 div.sk-toggleable__content {max-height: 0;max-width: 0;overflow: hidden;text-align: left;background-color: #f0f8ff;}#sk-container-id-3 div.sk-toggleable__content pre {margin: 0.2em;color: black;border-radius: 0.25em;background-color: #f0f8ff;}#sk-container-id-3 input.sk-toggleable__control:checked~div.sk-toggleable__content {max-height: 200px;max-width: 100%;overflow: auto;}#sk-container-id-3 input.sk-toggleable__control:checked~label.sk-toggleable__label-arrow:before {content: \"▾\";}#sk-container-id-3 div.sk-estimator input.sk-toggleable__control:checked~label.sk-toggleable__label {background-color: #d4ebff;}#sk-container-id-3 div.sk-label input.sk-toggleable__control:checked~label.sk-toggleable__label {background-color: #d4ebff;}#sk-container-id-3 input.sk-hidden--visually {border: 0;clip: rect(1px 1px 1px 1px);clip: rect(1px, 1px, 1px, 1px);height: 1px;margin: -1px;overflow: hidden;padding: 0;position: absolute;width: 1px;}#sk-container-id-3 div.sk-estimator {font-family: monospace;background-color: #f0f8ff;border: 1px dotted black;border-radius: 0.25em;box-sizing: border-box;margin-bottom: 0.5em;}#sk-container-id-3 div.sk-estimator:hover {background-color: #d4ebff;}#sk-container-id-3 div.sk-parallel-item::after {content: \"\";width: 100%;border-bottom: 1px solid gray;flex-grow: 1;}#sk-container-id-3 div.sk-label:hover label.sk-toggleable__label {background-color: #d4ebff;}#sk-container-id-3 div.sk-serial::before {content: \"\";position: absolute;border-left: 1px solid gray;box-sizing: border-box;top: 0;bottom: 0;left: 50%;z-index: 0;}#sk-container-id-3 div.sk-serial {display: flex;flex-direction: column;align-items: center;background-color: white;padding-right: 0.2em;padding-left: 0.2em;position: relative;}#sk-container-id-3 div.sk-item {position: relative;z-index: 1;}#sk-container-id-3 div.sk-parallel {display: flex;align-items: stretch;justify-content: center;background-color: white;position: relative;}#sk-container-id-3 div.sk-item::before, #sk-container-id-3 div.sk-parallel-item::before {content: \"\";position: absolute;border-left: 1px solid gray;box-sizing: border-box;top: 0;bottom: 0;left: 50%;z-index: -1;}#sk-container-id-3 div.sk-parallel-item {display: flex;flex-direction: column;z-index: 1;position: relative;background-color: white;}#sk-container-id-3 div.sk-parallel-item:first-child::after {align-self: flex-end;width: 50%;}#sk-container-id-3 div.sk-parallel-item:last-child::after {align-self: flex-start;width: 50%;}#sk-container-id-3 div.sk-parallel-item:only-child::after {width: 0;}#sk-container-id-3 div.sk-dashed-wrapped {border: 1px dashed gray;margin: 0 0.4em 0.5em 0.4em;box-sizing: border-box;padding-bottom: 0.4em;background-color: white;}#sk-container-id-3 div.sk-label label {font-family: monospace;font-weight: bold;display: inline-block;line-height: 1.2em;}#sk-container-id-3 div.sk-label-container {text-align: center;}#sk-container-id-3 div.sk-container {/* jupyter's `normalize.less` sets `[hidden] { display: none; }` but bootstrap.min.css set `[hidden] { display: none !important; }` so we also need the `!important` here to be able to override the default hidden behavior on the sphinx rendered scikit-learn.org. See: https://github.com/scikit-learn/scikit-learn/issues/21755 */display: inline-block !important;position: relative;}#sk-container-id-3 div.sk-text-repr-fallback {display: none;}</style><div id=\"sk-container-id-3\" class=\"sk-top-container\"><div class=\"sk-text-repr-fallback\"><pre>RandomForestRegressor()</pre><b>In a Jupyter environment, please rerun this cell to show the HTML representation or trust the notebook. <br />On GitHub, the HTML representation is unable to render, please try loading this page with nbviewer.org.</b></div><div class=\"sk-container\" hidden><div class=\"sk-item\"><div class=\"sk-estimator sk-toggleable\"><input class=\"sk-toggleable__control sk-hidden--visually\" id=\"sk-estimator-id-3\" type=\"checkbox\" checked><label for=\"sk-estimator-id-3\" class=\"sk-toggleable__label sk-toggleable__label-arrow\">RandomForestRegressor</label><div class=\"sk-toggleable__content\"><pre>RandomForestRegressor()</pre></div></div></div></div></div>"
            ],
            "text/plain": [
              "RandomForestRegressor()"
            ]
          },
          "execution_count": 129,
          "metadata": {},
          "output_type": "execute_result"
        }
      ],
      "source": [
        "#fit the model on the training dataset\n",
        "random_forest_reg.fit(X_train, y_train)"
      ]
    },
    {
      "cell_type": "code",
      "execution_count": null,
      "metadata": {
        "colab": {
          "background_save": true
        },
        "id": "BBt9bjvULy_v",
        "outputId": "135ac00d-ef9a-4a5c-cf69-a6a20f97d29c"
      },
      "outputs": [
        {
          "data": {
            "text/plain": [
              "array([43.32,  3.19,  1.68, ...,  8.93,  1.69, 35.06])"
            ]
          },
          "execution_count": 130,
          "metadata": {},
          "output_type": "execute_result"
        }
      ],
      "source": [
        "#make predictions on the test data\n",
        "y_pred_forest = random_forest_reg.predict(X_test)\n",
        "y_pred_forest"
      ]
    },
    {
      "cell_type": "markdown",
      "metadata": {
        "id": "K73hoSxIL6oC"
      },
      "source": [
        "## Calculate the Mean Square Error"
      ]
    },
    {
      "cell_type": "code",
      "execution_count": null,
      "metadata": {
        "colab": {
          "background_save": true
        },
        "id": "ESeZgFLYL9U1",
        "outputId": "b3358797-a4bc-4a26-ea3a-2bdf5d3d8a96"
      },
      "outputs": [
        {
          "name": "stdout",
          "output_type": "stream",
          "text": [
            "Mean Squared Error (Linear Regression): 242583.03033183207\n",
            "Mean Squared Error (Decision Tree): 25923.18650911246\n",
            "Mean Squared Error (Random Forest): 13738.419628089347\n"
          ]
        }
      ],
      "source": [
        "# Calculate mean squared errors\n",
        "lr = mean_squared_error(y_test, y_pred_linear)\n",
        "mse_linear = lr\n",
        "tr = mean_squared_error(y_test, y_pred_tree)\n",
        "mse_tree = tr\n",
        "fr =mean_squared_error(y_test, y_pred_forest)\n",
        "mse_forest = fr\n",
        "# Display mean squared errors\n",
        "print(\"Mean Squared Error (Linear Regression):\", mse_linear)\n",
        "print(\"Mean Squared Error (Decision Tree):\", mse_tree)\n",
        "print(\"Mean Squared Error (Random Forest):\", mse_forest)"
      ]
    },
    {
      "cell_type": "markdown",
      "metadata": {
        "id": "jGd2BpSZMBp_"
      },
      "source": [
        "## Plot the graph"
      ]
    },
    {
      "cell_type": "code",
      "execution_count": null,
      "metadata": {
        "colab": {
          "background_save": true
        },
        "id": "PzyKpJCOMDXg",
        "outputId": "cfe1c95f-6772-49ff-aaa7-95b3bfdc8be5"
      },
      "outputs": [
        {
          "data": {
            "image/png": "[encoded data removed]",
            "text/plain": [
              "<Figure size 600x600 with 1 Axes>"
            ]
          },
          "metadata": {},
          "output_type": "display_data"
        }
      ],
      "source": [
        "from re import X\n",
        "import matplotlib.pyplot as plt\n",
        "plt.figure(figsize=(6, 6))\n",
        "\n",
        "x_axis = ['mse_linear', 'mse_tree', 'mse_forest']\n",
        "y_axis = [lr, tr, fr, ]\n",
        "\n",
        "plt.bar(x_axis, y_axis)\n",
        "plt.title('RANDOM FOREST REGRESSION ACTIVITY')\n",
        "plt.xlabel('Model')\n",
        "plt.ylabel('Mean Squared Error')\n",
        "plt.show()"
      ]
    },
    {
      "cell_type": "code",
      "execution_count": null,
      "metadata": {
        "colab": {
          "background_save": true
        },
        "id": "Hy2kw0SPMGlX",
        "outputId": "92eba48b-78d7-4670-c375-f78fc8b0b22a"
      },
      "outputs": [
        {
          "name": "stdout",
          "output_type": "stream",
          "text": [
            "Random Forest has the least error.\n"
          ]
        }
      ],
      "source": [
        "# Determine the model with the least error\n",
        "min_error_model = min(mse_linear, mse_tree, mse_forest)\n",
        "\n",
        "if min_error_model == mse_linear:\n",
        "    print(\"Linear Regression has the least error.\")\n",
        "elif min_error_model == mse_tree:\n",
        "    print(\"Decision Tree has the least error.\")\n",
        "else:\n",
        "    print(\"Random Forest has the least error.\")"
      ]
    },
    {
      "cell_type": "markdown",
      "metadata": {
        "id": "-uyXID-1w3kD"
      },
      "source": [
        "# Visualization"
      ]
    },
    {
      "cell_type": "markdown",
      "metadata": {
        "id": "qc_lUVsWxWas"
      },
      "source": [
        "We use Power Bi and Tabluea"
      ]
    },
    {
      "cell_type": "code",
      "execution_count": null,
      "metadata": {
        "colab": {
          "background_save": true
        },
        "id": "wl3SDueJ5_lO"
      },
      "outputs": [],
      "source": []
    }
  ],
  "metadata": {
    "colab": {
      "collapsed_sections": [
        "pornAg1yO4z4",
        "Csah7QsAoRS0"
      ],
      "provenance": [],
      "include_colab_link": true
    },
    "kernelspec": {
      "display_name": "Python 3",
      "name": "python3"
    },
    "language_info": {
      "name": "python"
    }
  },
  "nbformat": 4,
  "nbformat_minor": 0
}